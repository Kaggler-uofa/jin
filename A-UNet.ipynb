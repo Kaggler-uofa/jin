{
  "cells": [
    {
      "cell_type": "markdown",
      "source": [
        "# Kaggler: SenNet + HOA - Hacking the Human Vasculature in 3D"
      ],
      "metadata": {
        "id": "yrJ6vqVJel3F"
      }
    },
    {
      "cell_type": "markdown",
      "source": [
        "<hr>\n",
        "<b>Team:</b> Kaggler <br>\n",
        "<b>Team Members:</b> Hyunji Cha, Minjae Jeong, Min Joh, Jin You <br><br>\n",
        "\n",
        "> <b>Competition Information:</b><br>\n",
        "Title: SenNet + HOA - Hacking the Human Vasculature in 3D <br>\n",
        "Host: SenNet + HOA <br>\n",
        "Platform: Kaggle <br>\n",
        "Final Submission Deadline: February 6, 2024 <br>\n",
        "Link: https://www.kaggle.com/competitions/blood-vessel-segmentation <br>\n",
        "\n",
        "<hr>"
      ],
      "metadata": {
        "id": "kFwnqnUweoyp"
      }
    },
    {
      "cell_type": "markdown",
      "metadata": {
        "id": "6RRibNl9dwr3"
      },
      "source": [
        "## 0. Setups"
      ]
    },
    {
      "cell_type": "code",
      "source": [
        "from google.colab import drive\n",
        "drive.mount('/content/drive/')"
      ],
      "metadata": {
        "colab": {
          "base_uri": "https://localhost:8080/"
        },
        "id": "rsh_ZYC3dydk",
        "outputId": "b193ee9f-f494-4d02-9e94-5bb074176dca"
      },
      "execution_count": null,
      "outputs": [
        {
          "output_type": "stream",
          "name": "stdout",
          "text": [
            "Mounted at /content/drive/\n"
          ]
        }
      ]
    },
    {
      "cell_type": "code",
      "source": [
        "!pip install torchinfo"
      ],
      "metadata": {
        "colab": {
          "base_uri": "https://localhost:8080/"
        },
        "id": "WDDAAvOBIiZ7",
        "outputId": "047386c3-e2b5-4bb0-9f7a-32cd4f84830e"
      },
      "execution_count": null,
      "outputs": [
        {
          "output_type": "stream",
          "name": "stdout",
          "text": [
            "Collecting torchinfo\n",
            "  Downloading torchinfo-1.8.0-py3-none-any.whl (23 kB)\n",
            "Installing collected packages: torchinfo\n",
            "Successfully installed torchinfo-1.8.0\n"
          ]
        }
      ]
    },
    {
      "cell_type": "code",
      "execution_count": null,
      "metadata": {
        "id": "HQw9k5Hwdwr5"
      },
      "outputs": [],
      "source": [
        "import os\n",
        "import time\n",
        "import sys\n",
        "\n",
        "import numpy as np\n",
        "import pandas as pd\n",
        "from skimage import io, transform, exposure\n",
        "from tqdm import tqdm\n",
        "import albumentations as Alb\n",
        "\n",
        "import matplotlib.pyplot as plt\n",
        "import seaborn as sns\n",
        "\n",
        "import torch\n",
        "import torch.nn as nn\n",
        "import torch.optim as optim\n",
        "import torch.nn.functional as F\n",
        "from torch.utils.data import DataLoader, Dataset, Subset, random_split\n",
        "from torchinfo import summary"
      ]
    },
    {
      "cell_type": "markdown",
      "metadata": {
        "id": "erPOxPE0dwr6"
      },
      "source": [
        "## 1. Configuration"
      ]
    },
    {
      "cell_type": "code",
      "execution_count": null,
      "metadata": {
        "id": "oIuI0NW8dwr6",
        "colab": {
          "base_uri": "https://localhost:8080/",
          "height": 366
        },
        "outputId": "624fed7a-464c-47c6-fc9b-94020fd5f231"
      },
      "outputs": [
        {
          "output_type": "error",
          "ename": "NameError",
          "evalue": "name 'os' is not defined",
          "traceback": [
            "\u001b[0;31m---------------------------------------------------------------------------\u001b[0m",
            "\u001b[0;31mNameError\u001b[0m                                 Traceback (most recent call last)",
            "\u001b[0;32m<ipython-input-2-c7f74d5ff8eb>\u001b[0m in \u001b[0;36m<cell line: 1>\u001b[0;34m()\u001b[0m\n\u001b[0;32m----> 1\u001b[0;31m \u001b[0;32mclass\u001b[0m \u001b[0mCFG\u001b[0m\u001b[0;34m:\u001b[0m\u001b[0;34m\u001b[0m\u001b[0;34m\u001b[0m\u001b[0m\n\u001b[0m\u001b[1;32m      2\u001b[0m     \"\"\"\n\u001b[1;32m      3\u001b[0m     \u001b[0mConfiguration\u001b[0m \u001b[0;32mclass\u001b[0m \u001b[0;32mfor\u001b[0m \u001b[0mthe\u001b[0m \u001b[0mblood\u001b[0m \u001b[0mvessel\u001b[0m \u001b[0msegmentation\u001b[0m \u001b[0mproject\u001b[0m\u001b[0;34m.\u001b[0m\u001b[0;34m\u001b[0m\u001b[0;34m\u001b[0m\u001b[0m\n\u001b[1;32m      4\u001b[0m     \"\"\"\n\u001b[1;32m      5\u001b[0m     \u001b[0;31m# ============== Data Paths =============\u001b[0m\u001b[0;34m\u001b[0m\u001b[0;34m\u001b[0m\u001b[0m\n",
            "\u001b[0;32m<ipython-input-2-c7f74d5ff8eb>\u001b[0m in \u001b[0;36mCFG\u001b[0;34m()\u001b[0m\n\u001b[1;32m      7\u001b[0m     \u001b[0mDATASET_DIRECTORY\u001b[0m \u001b[0;34m=\u001b[0m \u001b[0;34m'/content/drive/MyDrive/blood-vessel-segmentation'\u001b[0m\u001b[0;34m\u001b[0m\u001b[0;34m\u001b[0m\u001b[0m\n\u001b[1;32m      8\u001b[0m     \u001b[0;31m# DATASET_DIRECTORY = os.path.abspath(os.path.join(\"..\", \"blood-vessel-segmentation\"))\u001b[0m\u001b[0;34m\u001b[0m\u001b[0;34m\u001b[0m\u001b[0m\n\u001b[0;32m----> 9\u001b[0;31m     \u001b[0mTRAIN_DATASET_DIRECTORY\u001b[0m \u001b[0;34m=\u001b[0m \u001b[0mos\u001b[0m\u001b[0;34m.\u001b[0m\u001b[0mpath\u001b[0m\u001b[0;34m.\u001b[0m\u001b[0mjoin\u001b[0m\u001b[0;34m(\u001b[0m\u001b[0mDATASET_DIRECTORY\u001b[0m\u001b[0;34m,\u001b[0m \u001b[0;34m\"train\"\u001b[0m\u001b[0;34m,\u001b[0m \u001b[0mDATASET_NAME\u001b[0m\u001b[0;34m)\u001b[0m\u001b[0;34m\u001b[0m\u001b[0;34m\u001b[0m\u001b[0m\n\u001b[0m\u001b[1;32m     10\u001b[0m     \u001b[0mTEST_DATASET_DIRECTORY\u001b[0m \u001b[0;34m=\u001b[0m \u001b[0mos\u001b[0m\u001b[0;34m.\u001b[0m\u001b[0mpath\u001b[0m\u001b[0;34m.\u001b[0m\u001b[0mjoin\u001b[0m\u001b[0;34m(\u001b[0m\u001b[0mDATASET_DIRECTORY\u001b[0m\u001b[0;34m,\u001b[0m \u001b[0;34m\"test\"\u001b[0m\u001b[0;34m,\u001b[0m \u001b[0mDATASET_NAME\u001b[0m\u001b[0;34m)\u001b[0m\u001b[0;34m\u001b[0m\u001b[0;34m\u001b[0m\u001b[0m\n\u001b[1;32m     11\u001b[0m \u001b[0;34m\u001b[0m\u001b[0m\n",
            "\u001b[0;31mNameError\u001b[0m: name 'os' is not defined"
          ]
        }
      ],
      "source": [
        "class CFG:\n",
        "    \"\"\"\n",
        "    Configuration class for the blood vessel segmentation project.\n",
        "    \"\"\"\n",
        "    # ============== Data Paths =============\n",
        "    DATASET_NAME = \"kidney_1_dense\"\n",
        "    DATASET_DIRECTORY = '/content/drive/MyDrive/blood-vessel-segmentation'\n",
        "    # DATASET_DIRECTORY = os.path.abspath(os.path.join(\"..\", \"blood-vessel-segmentation\"))\n",
        "    TRAIN_DATASET_DIRECTORY = os.path.join(DATASET_DIRECTORY, \"train\", DATASET_NAME)\n",
        "    TEST_DATASET_DIRECTORY = os.path.join(DATASET_DIRECTORY, \"test\", DATASET_NAME)\n",
        "\n",
        "    # ============== Model Configuration =============\n",
        "    MODEL_NAME = 'Attention UNet'\n",
        "    IN_CHANNEL = 1  # Number of input channels (e.g., 1 for grayscale images)\n",
        "    OUT_CHANNEL = 1 # Number of output channels\n",
        "\n",
        "    # ============== Model Paths =============\n",
        "    # List of paths to trained model weights\n",
        "    #CHECKPOINT_PATH = os.path.abspath(\"checkpoints\")\n",
        "    CHECKPOINT_PATH = os.path.abspath('/content/drive/MyDrive/checkpoints')\n",
        "    TRAINED_MODEL = f\"{MODEL_NAME}_{DATASET_NAME}_checkpoint.pth\"\n",
        "\n",
        "    # ============== Image Processing Settings =============\n",
        "    INPUT_IMAGE_SIZE = (512, 512)  # Size of the input images (height x width)\n",
        "    GAMMA = 1\n",
        "    NUM_IMAGES = None # 'None' for all images\n",
        "\n",
        "    # ============== Training and Validation Parameters =============\n",
        "    DEVICE = \"cuda\" if torch.cuda.is_available() else \"cpu\"\n",
        "    VALID_ID = 1  # ID for validation dataset or fold\n",
        "    BATCH_SIZE = 1  # Batch size for model training\n",
        "    THRESHOLD_PERCENTILE = 0.0014109  # Threshold for post-processing\n",
        "    LEARNING_RATE = 1e-4\n",
        "    NUM_EPOCHS = 100\n",
        "    NUM_WORKERS = 0 # Number of processes\n",
        "    TRAIN_TEST_SPLIT_RATIO = 0.2 # for test subset"
      ]
    },
    {
      "cell_type": "code",
      "source": [
        "print(CFG.DEVICE)"
      ],
      "metadata": {
        "colab": {
          "base_uri": "https://localhost:8080/",
          "height": 175
        },
        "id": "1kZkWLg7JFdQ",
        "outputId": "dcf3b073-dd78-4fa0-92e5-9abb1b41fcd7"
      },
      "execution_count": null,
      "outputs": [
        {
          "output_type": "error",
          "ename": "NameError",
          "evalue": "name 'CFG' is not defined",
          "traceback": [
            "\u001b[0;31m---------------------------------------------------------------------------\u001b[0m",
            "\u001b[0;31mNameError\u001b[0m                                 Traceback (most recent call last)",
            "\u001b[0;32m<ipython-input-1-764e60b8d895>\u001b[0m in \u001b[0;36m<cell line: 1>\u001b[0;34m()\u001b[0m\n\u001b[0;32m----> 1\u001b[0;31m \u001b[0mprint\u001b[0m\u001b[0;34m(\u001b[0m\u001b[0mCFG\u001b[0m\u001b[0;34m.\u001b[0m\u001b[0mDEVICE\u001b[0m\u001b[0;34m)\u001b[0m\u001b[0;34m\u001b[0m\u001b[0;34m\u001b[0m\u001b[0m\n\u001b[0m",
            "\u001b[0;31mNameError\u001b[0m: name 'CFG' is not defined"
          ]
        }
      ]
    },
    {
      "cell_type": "markdown",
      "metadata": {
        "id": "vjFUFjOddwr6"
      },
      "source": [
        "## 2. Load Dataset"
      ]
    },
    {
      "cell_type": "markdown",
      "metadata": {
        "id": "u1-Cb8Ajdwr7"
      },
      "source": [
        "### 2,1 Custom Dataset Class"
      ]
    },
    {
      "cell_type": "code",
      "execution_count": null,
      "metadata": {
        "id": "RkdW3SSydwr7"
      },
      "outputs": [],
      "source": [
        "class CustomDataset(Dataset):\n",
        "    def __init__(self, image_path, mask_path=None, target_image_size=(512, 512), convert_size=True, gamma=1, image_format=\".tif\"):\n",
        "        # File IO\n",
        "        self.image_path = image_path\n",
        "        self.image_format = image_format\n",
        "        self.image_filenames = sorted([os.path.join(self.image_path, filename) for filename in os.listdir(self.image_path) if filename.endswith(self.image_format)])\n",
        "        print(f\"{len(self.image_filenames)} images are loaded.\")\n",
        "\n",
        "        # If masks (labels) are given\n",
        "        self.mask_path = mask_path\n",
        "        if self.mask_path:\n",
        "            self.mask_filenames = sorted([os.path.join(self.mask_path, filename) for filename in os.listdir(self.mask_path) if filename.endswith(self.image_format)])\n",
        "            if not len(self.mask_filenames) == len(self.image_filenames):\n",
        "                raise(f\"Number of images and labels are not matched: {len(self.image_filenames)} images and {len(self.mask_filenames)} labels.\")\n",
        "            print(f\"{len(self.mask_filenames)} labels are loaded.\")\n",
        "\n",
        "        # Image processing\n",
        "        self.target_image_size = target_image_size\n",
        "        self.convert_size = convert_size\n",
        "        self.gamma = gamma\n",
        "\n",
        "        # Process and print the size of the first image if convert_size is True\n",
        "        if self.convert_size and len(self.image_filenames) > 0:\n",
        "            first_image = io.imread(self.image_filenames[0])\n",
        "            resized_image = self.resize_and_pad(first_image, self.target_image_size)\n",
        "            print(f\"Original size: {first_image.shape}, Converted size: {resized_image.shape}\")\n",
        "\n",
        "    def __getitem__(self, index):\n",
        "        # Load image and convert to float32\n",
        "        image = io.imread(self.image_filenames[index]).astype(np.float32)\n",
        "\n",
        "        # Resize and pad the image if convert_size is True\n",
        "        if self.convert_size:\n",
        "            image = self.resize_and_pad(image, self.target_image_size, self.gamma)\n",
        "\n",
        "        # Extract the filename\n",
        "        image_filename = os.path.basename(self.image_filenames[index])\n",
        "\n",
        "        # If masks (labels) are given\n",
        "        if self.mask_path:\n",
        "            mask = io.imread(self.mask_filenames[index]).astype(np.uint8)\n",
        "            mask = self.resize_and_pad(mask, self.target_image_size, is_mask=True)\n",
        "\n",
        "            # Convert mask from [0, 255] to [0, 1]\n",
        "            mask = (mask > 0).astype(np.uint8)  # This converts all non-zero values to 1\n",
        "\n",
        "            return image, mask, image_filename\n",
        "\n",
        "        return image, image_filename\n",
        "\n",
        "    def __len__(self):\n",
        "        return len(self.image_filenames)\n",
        "\n",
        "    def resize_and_pad(self, image, target_image_size, is_mask=False, gamma=1):\n",
        "        \"\"\"Resize an image or mask and add padding to keep aspect ratio.\"\"\"\n",
        "        # Calculate scale and padding\n",
        "        h, w = image.shape[:2]\n",
        "        scale = min(target_image_size[0] / h, target_image_size[1] / w)\n",
        "        new_h, new_w = int(h * scale), int(w * scale)\n",
        "        pad_h = (target_image_size[0] - new_h) // 2\n",
        "        pad_w = (target_image_size[1] - new_w) // 2\n",
        "\n",
        "        # Set parameters for resizing based on whether it's an image or a mask\n",
        "        if is_mask:\n",
        "            # Use nearest-neighbor interpolation for masks\n",
        "            order = 0\n",
        "            anti_aliasing = False\n",
        "        else:\n",
        "            # Use bilinear interpolation (order=1) for images\n",
        "            order = 1\n",
        "            anti_aliasing = True\n",
        "\n",
        "        # Resize image with preserve_range set to True\n",
        "        image_resized = transform.resize(\n",
        "            image,\n",
        "            (new_h, new_w),\n",
        "            anti_aliasing=anti_aliasing,\n",
        "            mode='constant',\n",
        "            preserve_range=True,  # Preserve the original image's intensity range\n",
        "            order=order\n",
        "        )\n",
        "\n",
        "        # Apply gamma correction to images only\n",
        "        if not is_mask and gamma != 1:\n",
        "            image_resized = exposure.adjust_gamma(image_resized, gamma)\n",
        "\n",
        "        # Add a channel dimension to grayscale images if necessary\n",
        "        if len(image.shape) == 2:  # Grayscale image\n",
        "            image_resized = image_resized[..., np.newaxis]\n",
        "\n",
        "        # Initialize padded image\n",
        "        padded_image = np.zeros((target_image_size[0], target_image_size[1], image_resized.shape[2]), dtype=image_resized.dtype)\n",
        "\n",
        "        # Insert the resized image into the padded image\n",
        "        padded_image[pad_h:pad_h+new_h, pad_w:pad_w+new_w, :] = image_resized\n",
        "\n",
        "        return padded_image"
      ]
    },
    {
      "cell_type": "markdown",
      "metadata": {
        "id": "yGM9oq-ddwr8"
      },
      "source": [
        "### 2.2 Display Function"
      ]
    },
    {
      "cell_type": "code",
      "execution_count": null,
      "metadata": {
        "id": "H5lcJfZddwr9"
      },
      "outputs": [],
      "source": [
        "def display_image(images, titles=None, max_cols=4):\n",
        "    # Wrap single image in a list\n",
        "    if not isinstance(images, list):\n",
        "        images = [images]\n",
        "        titles = [titles] if titles is not None else titles\n",
        "\n",
        "    if titles is not None and not isinstance(titles, list):\n",
        "        raise TypeError(\"Titles should be provided as a list or a single title for a single image.\")\n",
        "\n",
        "    if titles and len(images) != len(titles):\n",
        "        raise ValueError(\"Every image should have a corresponding title.\")\n",
        "\n",
        "    num_images = len(images)\n",
        "    cols = min(num_images, max_cols)\n",
        "    rows = num_images // cols + (num_images % cols > 0)\n",
        "    fig, axes = plt.subplots(rows, cols, figsize=(cols * 4, rows * 4))\n",
        "    if rows == 1 or cols == 1:\n",
        "        axes = np.array([axes])\n",
        "\n",
        "    axes = axes.flatten()[:num_images]  # Limit to the number of images to avoid blank subplots\n",
        "\n",
        "    for ax, img, title in zip(axes, images, titles or [None]*num_images):\n",
        "        if isinstance(img, torch.Tensor):\n",
        "            img = img.cpu().numpy()\n",
        "            if img.ndim == 3 and img.shape[0] in [1, 3, 4]:\n",
        "                img = img.transpose(1, 2, 0)\n",
        "            if img.ndim == 3 and img.shape[2] == 1:\n",
        "                img = img.squeeze(2)\n",
        "\n",
        "        ax.imshow(img, cmap='gray')\n",
        "        if title:\n",
        "            ax.set_title(title)\n",
        "        ax.axis('off')\n",
        "\n",
        "    plt.tight_layout()\n",
        "    plt.show()"
      ]
    },
    {
      "cell_type": "markdown",
      "metadata": {
        "id": "-wKhxrwOdwr-"
      },
      "source": [
        "### 2.3 Load Dataset and Display Sample Image"
      ]
    },
    {
      "cell_type": "code",
      "execution_count": null,
      "metadata": {
        "colab": {
          "base_uri": "https://localhost:8080/"
        },
        "id": "6tvqBN8Fdwr-",
        "outputId": "b74f4e4b-887c-4bc0-8d43-a15ff749bb62"
      },
      "outputs": [
        {
          "output_type": "stream",
          "name": "stdout",
          "text": [
            "Current working directory: /content\n",
            "Full image path: /content/drive/MyDrive/blood-vessel-segmentation/train/kidney_1_dense/images\n",
            "Full mask path: /content/drive/MyDrive/blood-vessel-segmentation/train/kidney_1_dense/labels\n",
            "2279 images are loaded.\n",
            "2279 labels are loaded.\n",
            "Original size: (1303, 912), Converted size: (512, 512, 1)\n"
          ]
        }
      ],
      "source": [
        "# Get dataset paths\n",
        "image_path = os.path.join(CFG.TRAIN_DATASET_DIRECTORY, \"images\")\n",
        "mask_path = os.path.join(CFG.TRAIN_DATASET_DIRECTORY, \"labels\")\n",
        "\n",
        "# Print current working directory and full paths for debugging\n",
        "print(\"Current working directory:\", os.getcwd())\n",
        "print(\"Full image path:\", os.path.abspath(image_path))\n",
        "print(\"Full mask path:\", os.path.abspath(mask_path))\n",
        "\n",
        "# Initialize dataset\n",
        "dataset = CustomDataset(image_path, mask_path, target_image_size=CFG.INPUT_IMAGE_SIZE, gamma=CFG.GAMMA)"
      ]
    },
    {
      "cell_type": "code",
      "execution_count": null,
      "metadata": {
        "colab": {
          "base_uri": "https://localhost:8080/",
          "height": 407
        },
        "id": "Uk-pfasrdwr_",
        "outputId": "b337050f-35bd-44da-bd28-434cac0c3cbc"
      },
      "outputs": [
        {
          "output_type": "display_data",
          "data": {
            "text/plain": [
              "<Figure size 1200x400 with 3 Axes>"
            ],
            "image/png": "[encoded data removed]"
          },
          "metadata": {}
        }
      ],
      "source": [
        "index = 600\n",
        "original_image = io.imread(os.path.join(CFG.TRAIN_DATASET_DIRECTORY, \"images\", dataset[index][2]))\n",
        "display_image([original_image, dataset[index][0], dataset[index][1]], [f\"Image {dataset[index][2]}\", \"Processed\", f\"Mask {dataset[index][2]}\"])"
      ]
    },
    {
      "cell_type": "markdown",
      "metadata": {
        "id": "F8Q6_o0bdwr_"
      },
      "source": [
        "### 2.4 Train-Test-Split and DataLoader"
      ]
    },
    {
      "cell_type": "code",
      "execution_count": null,
      "metadata": {
        "colab": {
          "base_uri": "https://localhost:8080/"
        },
        "id": "C5hIxhdQdwr_",
        "outputId": "39a2cd2a-aff5-4f6c-fdac-3ab4ee4c68ac"
      },
      "outputs": [
        {
          "output_type": "stream",
          "name": "stdout",
          "text": [
            "Numbers of batches in train, valid, test data loader are:\n",
            "Train: 1460, Validation: 364, Test: 455\n"
          ]
        }
      ],
      "source": [
        "# Slice dataset\n",
        "if not CFG.NUM_IMAGES:\n",
        "    pass\n",
        "elif CFG.NUM_IMAGES < 6:\n",
        "    raise(\"Number of samples is not sufficient. Raise number over 6.\")\n",
        "else:\n",
        "    # Create a subset of the dataset\n",
        "    indices = torch.randperm(len(dataset)).tolist()\n",
        "    subset_indices = indices[:CFG.NUM_IMAGES]\n",
        "    subset_dataset = Subset(dataset, subset_indices)\n",
        "    dataset = subset_dataset\n",
        "\n",
        "# Calculate the sizes of train and test sets\n",
        "total_size = len(dataset)\n",
        "test_size = int(total_size * CFG.TRAIN_TEST_SPLIT_RATIO)\n",
        "train_size = total_size - test_size\n",
        "\n",
        "# Split the dataset into train and test datasets\n",
        "train_dataset, test_dataset = random_split(dataset, [train_size, test_size])\n",
        "\n",
        "# Further split the train dataset into train and validation datasets\n",
        "val_size = int(train_size * CFG.TRAIN_TEST_SPLIT_RATIO)\n",
        "new_train_size = train_size - val_size\n",
        "train_dataset, val_dataset = random_split(train_dataset, [new_train_size, val_size])\n",
        "\n",
        "# Create DataLoaders for train, validation, and test datasets\n",
        "train_loader = DataLoader(train_dataset, batch_size=CFG.BATCH_SIZE, shuffle=True, num_workers=CFG.NUM_WORKERS)\n",
        "val_loader = DataLoader(val_dataset, batch_size=1, shuffle=False, num_workers=CFG.NUM_WORKERS)\n",
        "test_loader = DataLoader(test_dataset, batch_size=1, shuffle=False, num_workers=CFG.NUM_WORKERS)\n",
        "\n",
        "print(\"Numbers of batches in train, valid, test data loader are:\")\n",
        "print(f\"Train: {len(train_loader)}, Validation: {len(val_loader)}, Test: {len(test_loader)}\")"
      ]
    },
    {
      "cell_type": "code",
      "source": [
        "data, target, filename = next(iter(train_loader))\n",
        "print(\"Shape of the data: \", data.shape)  # Expected: [batch_size, 1, height, width]"
      ],
      "metadata": {
        "colab": {
          "base_uri": "https://localhost:8080/"
        },
        "id": "6BHBO-XdfKNX",
        "outputId": "2a48f439-9a76-4d4e-f870-2e89353a8a9b"
      },
      "execution_count": null,
      "outputs": [
        {
          "output_type": "stream",
          "name": "stdout",
          "text": [
            "Shape of the data:  torch.Size([1, 512, 512, 1])\n"
          ]
        }
      ]
    },
    {
      "cell_type": "code",
      "source": [
        "def check_target_masks(data_loader):\n",
        "    for batch_index, (data, target, filename) in enumerate(tqdm(data_loader)):\n",
        "        target_np = target.cpu().numpy()\n",
        "\n",
        "        if not np.all(np.isin(target_np, [0, 1])):\n",
        "            unique_values = np.unique(target_np)\n",
        "            return False, f\"Non-binary values found in batch {batch_index}. Unique values: {unique_values}\"\n",
        "\n",
        "    return True, \"All target masks are binary (contain only 0s and 1s)\"\n",
        "\n",
        "is_binary, message = check_target_masks(train_loader)\n",
        "print(message)\n",
        "is_binary, message = check_target_masks(val_loader)\n",
        "print(message)\n",
        "is_binary, message = check_target_masks(test_loader)\n",
        "print(message)"
      ],
      "metadata": {
        "colab": {
          "base_uri": "https://localhost:8080/"
        },
        "id": "kC4osoVtfyfj",
        "outputId": "988b31fa-1198-405b-b47e-798ac7299ea7"
      },
      "execution_count": null,
      "outputs": [
        {
          "output_type": "stream",
          "name": "stderr",
          "text": [
            "100%|██████████| 1460/1460 [19:39<00:00,  1.24it/s]\n"
          ]
        },
        {
          "output_type": "stream",
          "name": "stdout",
          "text": [
            "All target masks are binary (contain only 0s and 1s)\n"
          ]
        },
        {
          "output_type": "stream",
          "name": "stderr",
          "text": [
            "100%|██████████| 364/364 [05:06<00:00,  1.19it/s]\n"
          ]
        },
        {
          "output_type": "stream",
          "name": "stdout",
          "text": [
            "All target masks are binary (contain only 0s and 1s)\n"
          ]
        },
        {
          "output_type": "stream",
          "name": "stderr",
          "text": [
            "100%|██████████| 455/455 [06:12<00:00,  1.22it/s]"
          ]
        },
        {
          "output_type": "stream",
          "name": "stdout",
          "text": [
            "All target masks are binary (contain only 0s and 1s)\n"
          ]
        },
        {
          "output_type": "stream",
          "name": "stderr",
          "text": [
            "\n"
          ]
        }
      ]
    },
    {
      "cell_type": "markdown",
      "metadata": {
        "id": "f453x8uXdwr_"
      },
      "source": [
        "## 3. Image Augmentation"
      ]
    },
    {
      "cell_type": "code",
      "execution_count": null,
      "metadata": {
        "id": "3hEOOnAhdwr_"
      },
      "outputs": [],
      "source": [
        "def augement_image(image, mask):\n",
        "\n",
        "    image_dense = torch.from_numpy(image.astype(np.float32))\n",
        "    mask_dense = torch.from_numpy(mask.astype(np.float32))\n",
        "\n",
        "    if len(image_dense.shape) == 2:\n",
        "        image_dense = image_dense.unsqueeze(0)\n",
        "\n",
        "    image_np = image_dense.permute(1, 2, 0).numpy()\n",
        "    mask_np = mask_dense.numpy()\n",
        "\n",
        "    image_list = [None, None, None, None]\n",
        "    mask_list = [None, None, None, None]\n",
        "\n",
        "    transform_rotate_90 = Alb.Compose([\n",
        "        Alb.Rotate(limit=90, p=0.5)\n",
        "    ])\n",
        "\n",
        "    # Original image\n",
        "    image_list[0] = image_np\n",
        "    mask_list[0] = mask_np\n",
        "\n",
        "    # Original image with 90-degree rotation\n",
        "    augmented_rotate_90 = transform_rotate_90(image=image_np, mask=mask_np)\n",
        "    image_list[1], mask_list[1] = augmented_rotate_90['image'], augmented_rotate_90['mask']\n",
        "\n",
        "    # Original image with 180-degree rotation\n",
        "    augmented_rotate_180 = transform_rotate_90(image=image_list[1], mask=mask_list[1])\n",
        "    image_list[2], mask_list[2] = augmented_rotate_180['image'], augmented_rotate_180['mask']\n",
        "\n",
        "    # Original image with 270-degree rotation\n",
        "    augmented_rotate_270 = transform_rotate_90(image=image_list[2], mask=mask_list[2])\n",
        "    image_list[3], mask_list[3] = augmented_rotate_270['image'], augmented_rotate_270['mask']\n",
        "\n",
        "    # Making the mask dimentions 3\n",
        "    for i in range(4):\n",
        "        if mask_list[i].ndim == 2:\n",
        "            mask_list[i] = mask_list[i][..., np.newaxis]\n",
        "\n",
        "    augmented_data_zip = list(zip(*[image_list, mask_list]))\n",
        "\n",
        "    return augmented_data_zip"
      ]
    },
    {
      "cell_type": "markdown",
      "metadata": {
        "id": "WFhooUQydwsA"
      },
      "source": [
        "## 4. Model"
      ]
    },
    {
      "cell_type": "code",
      "execution_count": null,
      "metadata": {
        "id": "ZbSSLr1GdwsA"
      },
      "outputs": [],
      "source": [
        "# SSL certificate expired for se_resnext50_32x4d encoder\n",
        "import ssl\n",
        "ssl._create_default_https_context = ssl._create_unverified_context"
      ]
    },
    {
      "cell_type": "markdown",
      "metadata": {
        "id": "gr-OA-DEdwsA"
      },
      "source": [
        "### 4.1 Attention U-Net ResNext50 32x4d"
      ]
    },
    {
      "cell_type": "code",
      "execution_count": null,
      "metadata": {
        "id": "dN7kOYbVdwsA",
        "colab": {
          "base_uri": "https://localhost:8080/",
          "height": 245
        },
        "outputId": "fd915829-d395-4f5c-d8d6-f938ee1eccb8"
      },
      "outputs": [
        {
          "output_type": "error",
          "ename": "NameError",
          "evalue": "name 'nn' is not defined",
          "traceback": [
            "\u001b[0;31m---------------------------------------------------------------------------\u001b[0m",
            "\u001b[0;31mNameError\u001b[0m                                 Traceback (most recent call last)",
            "\u001b[0;32m<ipython-input-3-96d7ecf6af56>\u001b[0m in \u001b[0;36m<cell line: 1>\u001b[0;34m()\u001b[0m\n\u001b[0;32m----> 1\u001b[0;31m \u001b[0;32mclass\u001b[0m \u001b[0mconv_block\u001b[0m\u001b[0;34m(\u001b[0m\u001b[0mnn\u001b[0m\u001b[0;34m.\u001b[0m\u001b[0mModule\u001b[0m\u001b[0;34m)\u001b[0m\u001b[0;34m:\u001b[0m\u001b[0;34m\u001b[0m\u001b[0;34m\u001b[0m\u001b[0m\n\u001b[0m\u001b[1;32m      2\u001b[0m     \u001b[0;32mdef\u001b[0m \u001b[0m__init__\u001b[0m\u001b[0;34m(\u001b[0m\u001b[0mself\u001b[0m\u001b[0;34m,\u001b[0m \u001b[0min_c\u001b[0m\u001b[0;34m,\u001b[0m \u001b[0mout_c\u001b[0m\u001b[0;34m)\u001b[0m\u001b[0;34m:\u001b[0m\u001b[0;34m\u001b[0m\u001b[0;34m\u001b[0m\u001b[0m\n\u001b[1;32m      3\u001b[0m         \u001b[0msuper\u001b[0m\u001b[0;34m(\u001b[0m\u001b[0;34m)\u001b[0m\u001b[0;34m.\u001b[0m\u001b[0m__init__\u001b[0m\u001b[0;34m(\u001b[0m\u001b[0;34m)\u001b[0m\u001b[0;34m\u001b[0m\u001b[0;34m\u001b[0m\u001b[0m\n\u001b[1;32m      4\u001b[0m \u001b[0;34m\u001b[0m\u001b[0m\n\u001b[1;32m      5\u001b[0m         self.conv = nn.Sequential(\n",
            "\u001b[0;31mNameError\u001b[0m: name 'nn' is not defined"
          ]
        }
      ],
      "source": [
        "class conv_block(nn.Module):\n",
        "    def __init__(self, in_c, out_c):\n",
        "        super().__init__()\n",
        "\n",
        "        self.conv = nn.Sequential(\n",
        "            nn.Conv2d(in_c, out_c, kernel_size=3, padding=1),\n",
        "            nn.BatchNorm2d(out_c),\n",
        "            nn.ReLU(inplace=True),\n",
        "            nn.Conv2d(out_c, out_c, kernel_size=3, padding=1),\n",
        "            nn.BatchNorm2d(out_c),\n",
        "            nn.ReLU(inplace=True)\n",
        "        )\n",
        "\n",
        "    def forward(self, x):\n",
        "        return self.conv(x)\n",
        "\n",
        "class encoder_block(nn.Module):\n",
        "    def __init__(self, in_c, out_c):\n",
        "        super().__init__()\n",
        "\n",
        "        self.conv = conv_block(in_c, out_c)\n",
        "        self.pool = nn.MaxPool2d((2, 2))\n",
        "\n",
        "    def forward(self, x):\n",
        "        s = self.conv(x)\n",
        "        p = self.pool(s)\n",
        "        return s, p\n",
        "\n",
        "class attention_gate(nn.Module):\n",
        "    def __init__(self, in_c, out_c):\n",
        "        super().__init__()\n",
        "\n",
        "        self.Wg = nn.Sequential(\n",
        "            nn.Conv2d(in_c[0], out_c, kernel_size=1, padding=0),\n",
        "            nn.BatchNorm2d(out_c)\n",
        "        )\n",
        "        self.Ws = nn.Sequential(\n",
        "            nn.Conv2d(in_c[1], out_c, kernel_size=1, padding=0),\n",
        "            nn.BatchNorm2d(out_c)\n",
        "        )\n",
        "        self.relu = nn.ReLU(inplace=True)\n",
        "        self.output = nn.Sequential(\n",
        "            nn.Conv2d(out_c, out_c, kernel_size=1, padding=0),\n",
        "            nn.Sigmoid()\n",
        "        )\n",
        "\n",
        "    def forward(self, g, s):\n",
        "        Wg = self.Wg(g)\n",
        "        Ws = self.Ws(s)\n",
        "        out = self.relu(Wg + Ws)\n",
        "        out = self.output(out)\n",
        "        return out * s\n",
        "\n",
        "class decoder_block(nn.Module):\n",
        "    def __init__(self, in_c, out_c):\n",
        "        super().__init__()\n",
        "\n",
        "        self.up = nn.Upsample(scale_factor=2, mode=\"bilinear\", align_corners=True)\n",
        "        self.ag = attention_gate(in_c, out_c)\n",
        "        self.c1 = conv_block(in_c[0]+out_c, out_c)\n",
        "\n",
        "    def forward(self, x, s):\n",
        "        x = self.up(x)\n",
        "        s = self.ag(x, s)\n",
        "        x = torch.cat([x, s], axis=1)\n",
        "        x = self.c1(x)\n",
        "        return x\n",
        "\n",
        "class attention_unet(nn.Module):\n",
        "    def __init__(self):\n",
        "        super().__init__()\n",
        "\n",
        "        self.e1 = encoder_block(1, 64)  # Adjusted for 1 input channel\n",
        "        self.e2 = encoder_block(64, 128)\n",
        "        self.e3 = encoder_block(128, 256)\n",
        "        # Add more encoder blocks if needed to accommodate the larger input size\n",
        "\n",
        "        self.b1 = conv_block(256, 512)\n",
        "\n",
        "        self.d1 = decoder_block([512, 256], 256)\n",
        "        self.d2 = decoder_block([256, 128], 128)\n",
        "        self.d3 = decoder_block([128, 64], 64)\n",
        "        # Add more decoder blocks symmetrically if more encoder blocks are added\n",
        "\n",
        "        self.output = nn.Conv2d(64, 1, kernel_size=1, padding=0)  # Output for 1 channel\n",
        "\n",
        "    def forward(self, x):\n",
        "        s1, p1 = self.e1(x)\n",
        "        s2, p2 = self.e2(p1)\n",
        "        s3, p3 = self.e3(p2)\n",
        "\n",
        "        b1 = self.b1(p3)\n",
        "\n",
        "        d1 = self.d1(b1, s3)\n",
        "        d2 = self.d2(d1, s2)\n",
        "        d3 = self.d3(d2, s1)\n",
        "\n",
        "        output = self.output(d3)\n",
        "        return output"
      ]
    },
    {
      "cell_type": "markdown",
      "metadata": {
        "id": "x9IfftSVdwsA"
      },
      "source": [
        "### 4.2 Model Summary"
      ]
    },
    {
      "cell_type": "code",
      "execution_count": null,
      "metadata": {
        "colab": {
          "base_uri": "https://localhost:8080/"
        },
        "id": "9uF6C7DYdwsA",
        "outputId": "b33a08e2-2af5-4ad6-fd7c-bbb332166c05"
      },
      "outputs": [
        {
          "output_type": "execute_result",
          "data": {
            "text/plain": [
              "==========================================================================================\n",
              "Layer (type:depth-idx)                   Output Shape              Param #\n",
              "==========================================================================================\n",
              "attention_unet                           [1, 1, 512, 512]          --\n",
              "├─encoder_block: 1-1                     [1, 64, 512, 512]         --\n",
              "│    └─conv_block: 2-1                   [1, 64, 512, 512]         --\n",
              "│    │    └─Sequential: 3-1              [1, 64, 512, 512]         37,824\n",
              "│    └─MaxPool2d: 2-2                    [1, 64, 256, 256]         --\n",
              "├─encoder_block: 1-2                     [1, 128, 256, 256]        --\n",
              "│    └─conv_block: 2-3                   [1, 128, 256, 256]        --\n",
              "│    │    └─Sequential: 3-2              [1, 128, 256, 256]        221,952\n",
              "│    └─MaxPool2d: 2-4                    [1, 128, 128, 128]        --\n",
              "├─encoder_block: 1-3                     [1, 256, 128, 128]        --\n",
              "│    └─conv_block: 2-5                   [1, 256, 128, 128]        --\n",
              "│    │    └─Sequential: 3-3              [1, 256, 128, 128]        886,272\n",
              "│    └─MaxPool2d: 2-6                    [1, 256, 64, 64]          --\n",
              "├─conv_block: 1-4                        [1, 512, 64, 64]          --\n",
              "│    └─Sequential: 2-7                   [1, 512, 64, 64]          --\n",
              "│    │    └─Conv2d: 3-4                  [1, 512, 64, 64]          1,180,160\n",
              "│    │    └─BatchNorm2d: 3-5             [1, 512, 64, 64]          1,024\n",
              "│    │    └─ReLU: 3-6                    [1, 512, 64, 64]          --\n",
              "│    │    └─Conv2d: 3-7                  [1, 512, 64, 64]          2,359,808\n",
              "│    │    └─BatchNorm2d: 3-8             [1, 512, 64, 64]          1,024\n",
              "│    │    └─ReLU: 3-9                    [1, 512, 64, 64]          --\n",
              "├─decoder_block: 1-5                     [1, 256, 128, 128]        --\n",
              "│    └─Upsample: 2-8                     [1, 512, 128, 128]        --\n",
              "│    └─attention_gate: 2-9               [1, 256, 128, 128]        --\n",
              "│    │    └─Sequential: 3-10             [1, 256, 128, 128]        131,840\n",
              "│    │    └─Sequential: 3-11             [1, 256, 128, 128]        66,304\n",
              "│    │    └─ReLU: 3-12                   [1, 256, 128, 128]        --\n",
              "│    │    └─Sequential: 3-13             [1, 256, 128, 128]        65,792\n",
              "│    └─conv_block: 2-10                  [1, 256, 128, 128]        --\n",
              "│    │    └─Sequential: 3-14             [1, 256, 128, 128]        2,360,832\n",
              "├─decoder_block: 1-6                     [1, 128, 256, 256]        --\n",
              "│    └─Upsample: 2-11                    [1, 256, 256, 256]        --\n",
              "│    └─attention_gate: 2-12              [1, 128, 256, 256]        --\n",
              "│    │    └─Sequential: 3-15             [1, 128, 256, 256]        33,152\n",
              "│    │    └─Sequential: 3-16             [1, 128, 256, 256]        16,768\n",
              "│    │    └─ReLU: 3-17                   [1, 128, 256, 256]        --\n",
              "│    │    └─Sequential: 3-18             [1, 128, 256, 256]        16,512\n",
              "│    └─conv_block: 2-13                  [1, 128, 256, 256]        --\n",
              "│    │    └─Sequential: 3-19             [1, 128, 256, 256]        590,592\n",
              "├─decoder_block: 1-7                     [1, 64, 512, 512]         --\n",
              "│    └─Upsample: 2-14                    [1, 128, 512, 512]        --\n",
              "│    └─attention_gate: 2-15              [1, 64, 512, 512]         --\n",
              "│    │    └─Sequential: 3-20             [1, 64, 512, 512]         8,384\n",
              "│    │    └─Sequential: 3-21             [1, 64, 512, 512]         4,288\n",
              "│    │    └─ReLU: 3-22                   [1, 64, 512, 512]         --\n",
              "│    │    └─Sequential: 3-23             [1, 64, 512, 512]         4,160\n",
              "│    └─conv_block: 2-16                  [1, 64, 512, 512]         --\n",
              "│    │    └─Sequential: 3-24             [1, 64, 512, 512]         147,840\n",
              "├─Conv2d: 1-8                            [1, 1, 512, 512]          65\n",
              "==========================================================================================\n",
              "Total params: 8,134,593\n",
              "Trainable params: 8,134,593\n",
              "Non-trainable params: 0\n",
              "Total mult-adds (G): 182.38\n",
              "==========================================================================================\n",
              "Input size (MB): 1.05\n",
              "Forward/backward pass size (MB): 3122.66\n",
              "Params size (MB): 32.54\n",
              "Estimated Total Size (MB): 3156.25\n",
              "=========================================================================================="
            ]
          },
          "metadata": {},
          "execution_count": 18
        }
      ],
      "source": [
        "model = attention_unet()\n",
        "# summary(model, input_size = (CFG.BATCH_SIZE, 1, CFG.INPUT_IMAGE_SIZE[0], CFG.INPUT_IMAGE_SIZE[1]))\n",
        "summary(model, input_size = (1, 1, CFG.INPUT_IMAGE_SIZE[0], CFG.INPUT_IMAGE_SIZE[1]))"
      ]
    },
    {
      "cell_type": "markdown",
      "metadata": {
        "id": "NBZYvp2hdwsB"
      },
      "source": [
        "## 5. Evaluation"
      ]
    },
    {
      "cell_type": "code",
      "execution_count": null,
      "metadata": {
        "id": "gsvl3lKWdwsB"
      },
      "outputs": [],
      "source": [
        "# ref.: https://www.kaggle.com/stainsby/fast-tested-rle\n",
        "def rle_encode(img):\n",
        "    '''\n",
        "    img: numpy array, 1 - mask, 0 - background\n",
        "    Returns run length as string formated\n",
        "    '''\n",
        "    pixels = img.flatten()\n",
        "    pixels = np.concatenate([[0], pixels, [0]])\n",
        "    runs = np.where(pixels[1:] != pixels[:-1])[0] + 1\n",
        "    runs[1::2] -= runs[::2]\n",
        "    return ' '.join(str(x) for x in runs)\n",
        "\n",
        "def rle_decode(mask_rle, shape):\n",
        "    '''\n",
        "    mask_rle: run-length as string formated (start length)\n",
        "    shape: (height,width) of array to return\n",
        "    Returns numpy array, 1 - mask, 0 - background\n",
        "\n",
        "    '''\n",
        "    s = mask_rle.split()\n",
        "    starts, lengths = [np.asarray(x, dtype=int) for x in (s[0:][::2], s[1:][::2])]\n",
        "    starts -= 1\n",
        "    ends = starts + lengths\n",
        "    img = np.zeros(shape[0]*shape[1], dtype=np.uint8)\n",
        "    for lo, hi in zip(starts, ends):\n",
        "        img[lo:hi] = 1\n",
        "    return img.reshape(shape)"
      ]
    },
    {
      "cell_type": "markdown",
      "metadata": {
        "id": "oKusBylNdwsB"
      },
      "source": [
        "### 5.1 Run-Length Encode and Decode\n",
        "\n",
        "Run-Length Encoding (RLE) is a simple form of data compression where runs of data (i.e., sequences in which the same data value occurs in many consecutive data elements) are stored as a single data value and count. It is particularly effective for data with many such runs, as it can significantly reduce the size of the data.\n",
        "\n",
        "In the context of image segmentation, such as in a Kaggle competition for blood vessel segmentation from CT images, RLE is often used to encode binary masks. In a binary mask, each pixel is either part of the object of interest (e.g., a blood vessel) or the background. RLE can efficiently represent these masks, especially when large regions of pixels are the same (all vessel or all background).\n",
        "\n",
        "The encoding typically works as follows:\n",
        "\n",
        "1. The binary mask is flattened into a one-dimensional array (e.g., by taking each row of pixels in turn).\n",
        "2. The algorithm goes through this array and counts the number of consecutive pixels with the same value.\n",
        "3. Each run of pixels is then represented by two numbers: the start position in the flattened array and the length of the run.\n",
        "\n",
        "For example, the array <code>[0, 0, 1, 1, 1, 0, 0]</code> would be encoded as <code>[2, 3]</code> in RLE, meaning that starting from the third element, there are three consecutive 1s."
      ]
    },
    {
      "cell_type": "markdown",
      "metadata": {
        "id": "ALovvQhGdwsB"
      },
      "source": [
        "### 5.2 Loss Functions"
      ]
    },
    {
      "cell_type": "markdown",
      "metadata": {
        "id": "KG5qQS4IdwsB"
      },
      "source": [
        "#### 5.2.1. DICE Loss\n",
        "Dice loss is particularly useful for data with imbalanced classes. It measures the overlap between the predicted segmentation and the ground truth."
      ]
    },
    {
      "cell_type": "code",
      "execution_count": null,
      "metadata": {
        "id": "PWIDhMPGdwsB"
      },
      "outputs": [],
      "source": [
        "class DiceLoss(nn.Module):\n",
        "    def forward(self, inputs, targets, smooth=1):\n",
        "        inputs = inputs.sigmoid()\n",
        "        intersection = (inputs * targets).sum()\n",
        "        dice = (2.*intersection + smooth)/(inputs.sum() + targets.sum() + smooth)\n",
        "        return 1 - dice"
      ]
    },
    {
      "cell_type": "markdown",
      "metadata": {
        "id": "gs0lchYWdwsB"
      },
      "source": [
        "#### 5.2.2. Jaccard/Intersection over Union (IoU) Loss\n",
        "Similar to Dice loss, IoU is another common metric for the evaluation of object detection algorithms, such as image segmentation."
      ]
    },
    {
      "cell_type": "code",
      "execution_count": null,
      "metadata": {
        "id": "_J3nwA_EdwsB"
      },
      "outputs": [],
      "source": [
        "class IoULoss(nn.Module):\n",
        "    def forward(self, inputs, targets, smooth=1):\n",
        "        inputs = inputs.sigmoid()\n",
        "        intersection = (inputs * targets).sum()\n",
        "        total = (inputs + targets).sum()\n",
        "        union = total - intersection\n",
        "        IoU = (intersection + smooth) / (union + smooth)\n",
        "        return 1 - IoU"
      ]
    },
    {
      "cell_type": "markdown",
      "metadata": {
        "id": "BN6TDd1VdwsB"
      },
      "source": [
        "#### 5.2.3 Focal Loss\n",
        "This loss function is designed to address class imbalance by down-weighting well-classified examples."
      ]
    },
    {
      "cell_type": "code",
      "execution_count": null,
      "metadata": {
        "id": "pClaSPQ5dwsB"
      },
      "outputs": [],
      "source": [
        "class FocalLoss(nn.Module):\n",
        "    def __init__(self, alpha=1, gamma=2, logits=True, reduce=True):\n",
        "        super(FocalLoss, self).__init__()\n",
        "        self.alpha = alpha\n",
        "        self.gamma = gamma\n",
        "        self.logits = logits\n",
        "        self.reduce = reduce\n",
        "\n",
        "    def forward(self, inputs, targets):\n",
        "        if self.logits:\n",
        "            BCE_loss = F.binary_cross_entropy_with_logits(inputs, targets, reduce=False)\n",
        "        else:\n",
        "            BCE_loss = F.binary_cross_entropy(inputs, targets, reduce=False)\n",
        "        pt = torch.exp(-BCE_loss)\n",
        "        F_loss = self.alpha * (1-pt)**self.gamma * BCE_loss\n",
        "\n",
        "        if self.reduce:\n",
        "            return torch.mean(F_loss)\n",
        "        else:\n",
        "            return F_loss"
      ]
    },
    {
      "cell_type": "markdown",
      "metadata": {
        "id": "lWnrPkcZdwsC"
      },
      "source": [
        "### 5.4 Metrics"
      ]
    },
    {
      "cell_type": "code",
      "execution_count": null,
      "metadata": {
        "id": "05OC4_OpdwsC"
      },
      "outputs": [],
      "source": [
        "def calculate_metrics(y_pred, y_true):\n",
        "    \"\"\"\n",
        "    Calculates IOU, F1 score, precision, recall, and accuracy for U-Net predictions using NumPy.\n",
        "\n",
        "    Arguments:\n",
        "    y_true -- the ground truth labels (a binary array of 0s and 1s)\n",
        "    y_pred -- the predicted labels (a binary array of 0s and 1s)\n",
        "\n",
        "    Returns:\n",
        "    A dictionary containing the IOU, F1 score, precision, recall, and accuracy.\n",
        "    \"\"\"\n",
        "    with torch.no_grad():\n",
        "        # Convert probability output to binary predictions\n",
        "        y_pred = (y_pred > 0.5).float()\n",
        "\n",
        "        # Flatten the arrays\n",
        "        y_true = y_true.detach().cpu().numpy().flatten()\n",
        "        y_pred = y_pred.detach().cpu().numpy().flatten()\n",
        "\n",
        "        # Calculate true positives, false positives, and false negatives\n",
        "        tp = np.sum((y_true == 1) & (y_pred == 1))\n",
        "        fp = np.sum((y_true == 0) & (y_pred == 1))\n",
        "        fn = np.sum((y_true == 1) & (y_pred == 0))\n",
        "\n",
        "        # Very small number to prevent infinity when dividing zero\n",
        "        eps = 1e-8\n",
        "\n",
        "        # Calculate IOU\n",
        "        iou = tp / (tp + fp + fn + eps)\n",
        "\n",
        "        # Calculate precision\n",
        "        precision = tp / (tp + fp + eps)\n",
        "\n",
        "        # Calculate recall\n",
        "        recall = tp / (tp + fn + eps)\n",
        "\n",
        "        # Calculate F1 score\n",
        "        f1_score = 2 * (precision * recall) / (precision + recall + eps)\n",
        "\n",
        "        # Calculate accuracy\n",
        "        accuracy = np.sum(y_true == y_pred) / len(y_true)\n",
        "\n",
        "    # Return a dictionary containing the metrics\n",
        "    metrics = {\"IoU_Score\": iou, \"F1_Score\": f1_score, \"Precision\": precision, \"Recall\": recall, \"Accuracy\": accuracy}\n",
        "    return metrics"
      ]
    },
    {
      "cell_type": "markdown",
      "metadata": {
        "id": "6DGAGBHodwsC"
      },
      "source": [
        "## 6. Train"
      ]
    },
    {
      "cell_type": "markdown",
      "metadata": {
        "id": "gaVUZqgYdwsC"
      },
      "source": [
        "### 6.1 Trainer Class"
      ]
    },
    {
      "cell_type": "code",
      "execution_count": null,
      "metadata": {
        "id": "xkvPjijkdwsC"
      },
      "outputs": [],
      "source": [
        "class Trainer:\n",
        "    def __init__(self, model, train_loader, val_loader, optimizer, criterion, device, checkpoint_path, model_name):\n",
        "        self.model = model\n",
        "        self.train_loader = train_loader\n",
        "        self.val_loader = val_loader\n",
        "        self.optimizer = optimizer\n",
        "        self.criterion = criterion\n",
        "        self.device = device\n",
        "        self.checkpoint_path = checkpoint_path\n",
        "        self.model_name = model_name\n",
        "        self.best_valid_loss = float('inf')\n",
        "\n",
        "    def train_epoch(self):\n",
        "        self.model.train()\n",
        "        total_train_loss = 0  # Initialize cumulative loss to zero\n",
        "\n",
        "        for batch_index, batch in enumerate(tqdm(self.train_loader)):\n",
        "            self.optimizer.zero_grad()\n",
        "            data, target, filename = batch\n",
        "\n",
        "            data = data.to(self.device, dtype=torch.float32).permute(0, 3, 1, 2)\n",
        "            target = target.to(self.device, dtype=torch.float32).permute(0, 3, 1, 2)\n",
        "\n",
        "            # Convert data and target to float\n",
        "            data = data.float()\n",
        "            target = target.float()\n",
        "\n",
        "            output = self.model(data)\n",
        "            train_loss = self.criterion(output, target)\n",
        "            train_loss.backward()\n",
        "            self.optimizer.step()\n",
        "\n",
        "            total_train_loss += train_loss.item()\n",
        "\n",
        "        average_train_loss = total_train_loss/len(self.train_loader)\n",
        "        return average_train_loss\n",
        "\n",
        "    def validate(self):\n",
        "        self.model.eval()\n",
        "        val_loss = 0\n",
        "        with torch.no_grad():\n",
        "            for batch_index, batch in enumerate(tqdm(self.val_loader)):\n",
        "                data, target, filename = batch\n",
        "                data = data.to(self.device, dtype=torch.float32).permute(0, 3, 1, 2)\n",
        "                target = target.to(self.device, dtype=torch.float32).permute(0, 3, 1, 2)\n",
        "\n",
        "                # Convert data and target to float\n",
        "                data = data.float()\n",
        "                target = target.float()\n",
        "\n",
        "                output = self.model(data)\n",
        "                val_loss += self.criterion(output, target).item()\n",
        "        return val_loss / len(self.val_loader.dataset)\n",
        "\n",
        "    def train(self, epochs):\n",
        "        # Initialize training dataframe\n",
        "        train_df = pd.DataFrame(columns=[\n",
        "            \"Epoch\",\n",
        "            \"Train_Loss\",\n",
        "            \"Valid_Loss\",\n",
        "            \"Time_Per_Iteration\"\n",
        "        ])\n",
        "\n",
        "        for epoch in range(epochs):\n",
        "            print(f\"\\nEpoch # {epoch+1}\")\n",
        "            start_time = time.time()\n",
        "            train_loss = self.train_epoch()\n",
        "            val_loss = self.validate()\n",
        "            iteration_time = (time.time() - start_time) / len(self.train_loader)\n",
        "\n",
        "            # Convert train_loss and val_loss to Python scalars\n",
        "            train_loss_scalar = train_loss.item() if isinstance(train_loss, torch.Tensor) else train_loss\n",
        "            val_loss_scalar = val_loss.item() if isinstance(val_loss, torch.Tensor) else val_loss\n",
        "\n",
        "            # Create a new DataFrame for the current epoch's results\n",
        "            result_df = pd.DataFrame({\n",
        "                \"Epoch\": [epoch + 1],\n",
        "                \"Train_Loss\": [train_loss_scalar],\n",
        "                \"Valid_Loss\": [val_loss_scalar],\n",
        "                \"Time_Per_Iteration\": [iteration_time]\n",
        "            })\n",
        "\n",
        "            # Append the new DataFrame to train_df\n",
        "            train_df = pd.concat([train_df, result_df], ignore_index=True)\n",
        "\n",
        "            # Check and create 'checkpoints' directory if it doesn't exist\n",
        "            if not os.path.exists(self.checkpoint_path):\n",
        "                os.makedirs(os.path.dirname(self.checkpoint_path), exist_ok=True)\n",
        "\n",
        "            # Save the DataFrame to a CSV file\n",
        "            train_df.to_csv(os.path.join(self.checkpoint_path, f\"{self.model_name}.csv\"))\n",
        "\n",
        "            # Save model if the valid loss is lower than the previous ones\n",
        "            if val_loss < self.best_valid_loss:\n",
        "                print(f\"Train Loss: {train_loss:2.6f}, Validation Loss: {self.best_valid_loss:2.6f} -> {val_loss: 2.6f}\")\n",
        "                self.best_valid_loss = val_loss\n",
        "                self.save_model(self.model, self.checkpoint_path, self.model_name)\n",
        "                print(f\"Saved model at: {os.path.abspath(self.model_name)}\")\n",
        "            else:\n",
        "                print(f\"Train Loss: {train_loss:2.6f}, Validation Loss: {val_loss:2.6f}\")\n",
        "\n",
        "        return self.model, train_df\n",
        "\n",
        "    def save_model(self, model, path, filename):\n",
        "        # make directory if there is not\n",
        "        if not os.path.exists(path):\n",
        "            os.makedirs(path)\n",
        "\n",
        "        # save weight values in .pth file\n",
        "        torch.save(model.state_dict(), os.path.join(path, filename))"
      ]
    },
    {
      "cell_type": "markdown",
      "metadata": {
        "id": "CfvQMOZYdwsC"
      },
      "source": [
        "### 6.2 Train Model"
      ]
    },
    {
      "cell_type": "code",
      "execution_count": null,
      "metadata": {
        "colab": {
          "base_uri": "https://localhost:8080/"
        },
        "id": "kmwop5TCdwsG",
        "outputId": "b1d3a4be-8a3e-4cad-ec71-57f6b452ec34"
      },
      "outputs": [
        {
          "output_type": "stream",
          "name": "stdout",
          "text": [
            "\n",
            "Epoch # 1\n"
          ]
        },
        {
          "output_type": "stream",
          "name": "stderr",
          "text": [
            "100%|██████████| 1460/1460 [01:20<00:00, 18.23it/s]\n",
            "100%|██████████| 364/364 [00:11<00:00, 31.29it/s]\n"
          ]
        },
        {
          "output_type": "stream",
          "name": "stdout",
          "text": [
            "Train Loss: 0.804381, Validation Loss: inf ->  0.387028\n",
            "Saved model at: /content/Attention UNet_kidney_1_dense_checkpoint.pth\n",
            "\n",
            "Epoch # 2\n"
          ]
        },
        {
          "output_type": "stream",
          "name": "stderr",
          "text": [
            "100%|██████████| 1460/1460 [01:18<00:00, 18.60it/s]\n",
            "100%|██████████| 364/364 [00:11<00:00, 31.48it/s]\n"
          ]
        },
        {
          "output_type": "stream",
          "name": "stdout",
          "text": [
            "Train Loss: 0.239740, Validation Loss: 0.387028 ->  0.160971\n",
            "Saved model at: /content/Attention UNet_kidney_1_dense_checkpoint.pth\n",
            "\n",
            "Epoch # 3\n"
          ]
        },
        {
          "output_type": "stream",
          "name": "stderr",
          "text": [
            "100%|██████████| 1460/1460 [01:18<00:00, 18.54it/s]\n",
            "100%|██████████| 364/364 [00:11<00:00, 31.74it/s]\n"
          ]
        },
        {
          "output_type": "stream",
          "name": "stdout",
          "text": [
            "Train Loss: 0.161989, Validation Loss: 0.407241\n",
            "\n",
            "Epoch # 4\n"
          ]
        },
        {
          "output_type": "stream",
          "name": "stderr",
          "text": [
            "100%|██████████| 1460/1460 [01:18<00:00, 18.56it/s]\n",
            "100%|██████████| 364/364 [00:11<00:00, 32.05it/s]\n"
          ]
        },
        {
          "output_type": "stream",
          "name": "stdout",
          "text": [
            "Train Loss: 0.140258, Validation Loss: 0.160971 ->  0.126282\n",
            "Saved model at: /content/Attention UNet_kidney_1_dense_checkpoint.pth\n",
            "\n",
            "Epoch # 5\n"
          ]
        },
        {
          "output_type": "stream",
          "name": "stderr",
          "text": [
            "100%|██████████| 1460/1460 [01:18<00:00, 18.54it/s]\n",
            "100%|██████████| 364/364 [00:11<00:00, 31.55it/s]\n"
          ]
        },
        {
          "output_type": "stream",
          "name": "stdout",
          "text": [
            "Train Loss: 0.140887, Validation Loss: 0.126282 ->  0.121123\n",
            "Saved model at: /content/Attention UNet_kidney_1_dense_checkpoint.pth\n",
            "\n",
            "Epoch # 6\n"
          ]
        },
        {
          "output_type": "stream",
          "name": "stderr",
          "text": [
            "100%|██████████| 1460/1460 [01:18<00:00, 18.65it/s]\n",
            "100%|██████████| 364/364 [00:11<00:00, 31.36it/s]\n"
          ]
        },
        {
          "output_type": "stream",
          "name": "stdout",
          "text": [
            "Train Loss: 0.124505, Validation Loss: 0.121123 ->  0.111104\n",
            "Saved model at: /content/Attention UNet_kidney_1_dense_checkpoint.pth\n",
            "\n",
            "Epoch # 7\n"
          ]
        },
        {
          "output_type": "stream",
          "name": "stderr",
          "text": [
            "100%|██████████| 1460/1460 [01:18<00:00, 18.56it/s]\n",
            "100%|██████████| 364/364 [00:11<00:00, 31.90it/s]\n"
          ]
        },
        {
          "output_type": "stream",
          "name": "stdout",
          "text": [
            "Train Loss: 0.109697, Validation Loss: 0.111104 ->  0.107728\n",
            "Saved model at: /content/Attention UNet_kidney_1_dense_checkpoint.pth\n",
            "\n",
            "Epoch # 8\n"
          ]
        },
        {
          "output_type": "stream",
          "name": "stderr",
          "text": [
            "100%|██████████| 1460/1460 [01:18<00:00, 18.55it/s]\n",
            "100%|██████████| 364/364 [00:11<00:00, 31.60it/s]\n"
          ]
        },
        {
          "output_type": "stream",
          "name": "stdout",
          "text": [
            "Train Loss: 0.124677, Validation Loss: 0.116348\n",
            "\n",
            "Epoch # 9\n"
          ]
        },
        {
          "output_type": "stream",
          "name": "stderr",
          "text": [
            "100%|██████████| 1460/1460 [01:18<00:00, 18.57it/s]\n",
            "100%|██████████| 364/364 [00:11<00:00, 31.57it/s]\n"
          ]
        },
        {
          "output_type": "stream",
          "name": "stdout",
          "text": [
            "Train Loss: 0.136816, Validation Loss: 0.231760\n",
            "\n",
            "Epoch # 10\n"
          ]
        },
        {
          "output_type": "stream",
          "name": "stderr",
          "text": [
            "100%|██████████| 1460/1460 [01:18<00:00, 18.53it/s]\n",
            "100%|██████████| 364/364 [00:11<00:00, 31.85it/s]\n"
          ]
        },
        {
          "output_type": "stream",
          "name": "stdout",
          "text": [
            "Train Loss: 0.119809, Validation Loss: 0.107728 ->  0.103549\n",
            "Saved model at: /content/Attention UNet_kidney_1_dense_checkpoint.pth\n",
            "\n",
            "Epoch # 11\n"
          ]
        },
        {
          "output_type": "stream",
          "name": "stderr",
          "text": [
            "100%|██████████| 1460/1460 [01:18<00:00, 18.62it/s]\n",
            "100%|██████████| 364/364 [00:11<00:00, 31.72it/s]\n"
          ]
        },
        {
          "output_type": "stream",
          "name": "stdout",
          "text": [
            "Train Loss: 0.115754, Validation Loss: 0.148970\n",
            "\n",
            "Epoch # 12\n"
          ]
        },
        {
          "output_type": "stream",
          "name": "stderr",
          "text": [
            "100%|██████████| 1460/1460 [01:18<00:00, 18.54it/s]\n",
            "100%|██████████| 364/364 [00:11<00:00, 31.66it/s]\n"
          ]
        },
        {
          "output_type": "stream",
          "name": "stdout",
          "text": [
            "Train Loss: 0.118857, Validation Loss: 0.353019\n",
            "\n",
            "Epoch # 13\n"
          ]
        },
        {
          "output_type": "stream",
          "name": "stderr",
          "text": [
            "100%|██████████| 1460/1460 [01:18<00:00, 18.58it/s]\n",
            "100%|██████████| 364/364 [00:11<00:00, 31.61it/s]\n"
          ]
        },
        {
          "output_type": "stream",
          "name": "stdout",
          "text": [
            "Train Loss: 0.131011, Validation Loss: 0.115208\n",
            "\n",
            "Epoch # 14\n"
          ]
        },
        {
          "output_type": "stream",
          "name": "stderr",
          "text": [
            "100%|██████████| 1460/1460 [01:18<00:00, 18.54it/s]\n",
            "100%|██████████| 364/364 [00:11<00:00, 31.58it/s]\n"
          ]
        },
        {
          "output_type": "stream",
          "name": "stdout",
          "text": [
            "Train Loss: 0.119649, Validation Loss: 0.105339\n",
            "\n",
            "Epoch # 15\n"
          ]
        },
        {
          "output_type": "stream",
          "name": "stderr",
          "text": [
            "100%|██████████| 1460/1460 [01:18<00:00, 18.52it/s]\n",
            "100%|██████████| 364/364 [00:11<00:00, 31.57it/s]\n"
          ]
        },
        {
          "output_type": "stream",
          "name": "stdout",
          "text": [
            "Train Loss: 0.110486, Validation Loss: 0.103549 ->  0.102806\n",
            "Saved model at: /content/Attention UNet_kidney_1_dense_checkpoint.pth\n",
            "\n",
            "Epoch # 16\n"
          ]
        },
        {
          "output_type": "stream",
          "name": "stderr",
          "text": [
            "100%|██████████| 1460/1460 [01:18<00:00, 18.54it/s]\n",
            "100%|██████████| 364/364 [00:11<00:00, 31.83it/s]\n"
          ]
        },
        {
          "output_type": "stream",
          "name": "stdout",
          "text": [
            "Train Loss: 0.124799, Validation Loss: 0.102806 ->  0.101927\n",
            "Saved model at: /content/Attention UNet_kidney_1_dense_checkpoint.pth\n",
            "\n",
            "Epoch # 17\n"
          ]
        },
        {
          "output_type": "stream",
          "name": "stderr",
          "text": [
            "100%|██████████| 1460/1460 [01:18<00:00, 18.52it/s]\n",
            "100%|██████████| 364/364 [00:11<00:00, 31.76it/s]\n"
          ]
        },
        {
          "output_type": "stream",
          "name": "stdout",
          "text": [
            "Train Loss: 0.105554, Validation Loss: 0.106645\n",
            "\n",
            "Epoch # 18\n"
          ]
        },
        {
          "output_type": "stream",
          "name": "stderr",
          "text": [
            "100%|██████████| 1460/1460 [01:18<00:00, 18.51it/s]\n",
            "100%|██████████| 364/364 [00:11<00:00, 31.43it/s]\n"
          ]
        },
        {
          "output_type": "stream",
          "name": "stdout",
          "text": [
            "Train Loss: 0.106990, Validation Loss: 0.112838\n",
            "\n",
            "Epoch # 19\n"
          ]
        },
        {
          "output_type": "stream",
          "name": "stderr",
          "text": [
            "100%|██████████| 1460/1460 [01:18<00:00, 18.60it/s]\n",
            "100%|██████████| 364/364 [00:11<00:00, 31.79it/s]\n"
          ]
        },
        {
          "output_type": "stream",
          "name": "stdout",
          "text": [
            "Train Loss: 0.102451, Validation Loss: 0.109379\n",
            "\n",
            "Epoch # 20\n"
          ]
        },
        {
          "output_type": "stream",
          "name": "stderr",
          "text": [
            "100%|██████████| 1460/1460 [01:18<00:00, 18.54it/s]\n",
            "100%|██████████| 364/364 [00:11<00:00, 31.50it/s]\n"
          ]
        },
        {
          "output_type": "stream",
          "name": "stdout",
          "text": [
            "Train Loss: 0.102950, Validation Loss: 0.101927 ->  0.099511\n",
            "Saved model at: /content/Attention UNet_kidney_1_dense_checkpoint.pth\n",
            "\n",
            "Epoch # 21\n"
          ]
        },
        {
          "output_type": "stream",
          "name": "stderr",
          "text": [
            "100%|██████████| 1460/1460 [01:18<00:00, 18.60it/s]\n",
            "100%|██████████| 364/364 [00:11<00:00, 31.54it/s]\n"
          ]
        },
        {
          "output_type": "stream",
          "name": "stdout",
          "text": [
            "Train Loss: 0.100071, Validation Loss: 0.114479\n",
            "\n",
            "Epoch # 22\n"
          ]
        },
        {
          "output_type": "stream",
          "name": "stderr",
          "text": [
            "100%|██████████| 1460/1460 [01:18<00:00, 18.52it/s]\n",
            "100%|██████████| 364/364 [00:11<00:00, 31.61it/s]\n"
          ]
        },
        {
          "output_type": "stream",
          "name": "stdout",
          "text": [
            "Train Loss: 0.110767, Validation Loss: 0.130779\n",
            "\n",
            "Epoch # 23\n"
          ]
        },
        {
          "output_type": "stream",
          "name": "stderr",
          "text": [
            "100%|██████████| 1460/1460 [01:18<00:00, 18.59it/s]\n",
            "100%|██████████| 364/364 [00:11<00:00, 31.54it/s]\n"
          ]
        },
        {
          "output_type": "stream",
          "name": "stdout",
          "text": [
            "Train Loss: 0.099574, Validation Loss: 0.099511 ->  0.096067\n",
            "Saved model at: /content/Attention UNet_kidney_1_dense_checkpoint.pth\n",
            "\n",
            "Epoch # 24\n"
          ]
        },
        {
          "output_type": "stream",
          "name": "stderr",
          "text": [
            "100%|██████████| 1460/1460 [01:18<00:00, 18.56it/s]\n",
            "100%|██████████| 364/364 [00:11<00:00, 31.41it/s]\n"
          ]
        },
        {
          "output_type": "stream",
          "name": "stdout",
          "text": [
            "Train Loss: 0.097800, Validation Loss: 0.116034\n",
            "\n",
            "Epoch # 25\n"
          ]
        },
        {
          "output_type": "stream",
          "name": "stderr",
          "text": [
            "100%|██████████| 1460/1460 [01:18<00:00, 18.56it/s]\n",
            "100%|██████████| 364/364 [00:11<00:00, 31.33it/s]\n"
          ]
        },
        {
          "output_type": "stream",
          "name": "stdout",
          "text": [
            "Train Loss: 0.098616, Validation Loss: 0.102192\n",
            "\n",
            "Epoch # 26\n"
          ]
        },
        {
          "output_type": "stream",
          "name": "stderr",
          "text": [
            "100%|██████████| 1460/1460 [01:18<00:00, 18.56it/s]\n",
            "100%|██████████| 364/364 [00:11<00:00, 31.79it/s]\n"
          ]
        },
        {
          "output_type": "stream",
          "name": "stdout",
          "text": [
            "Train Loss: 0.095215, Validation Loss: 0.096067 ->  0.095660\n",
            "Saved model at: /content/Attention UNet_kidney_1_dense_checkpoint.pth\n",
            "\n",
            "Epoch # 27\n"
          ]
        },
        {
          "output_type": "stream",
          "name": "stderr",
          "text": [
            "100%|██████████| 1460/1460 [01:18<00:00, 18.53it/s]\n",
            "100%|██████████| 364/364 [00:11<00:00, 31.76it/s]\n"
          ]
        },
        {
          "output_type": "stream",
          "name": "stdout",
          "text": [
            "Train Loss: 0.094762, Validation Loss: 0.095660 ->  0.092600\n",
            "Saved model at: /content/Attention UNet_kidney_1_dense_checkpoint.pth\n",
            "\n",
            "Epoch # 28\n"
          ]
        },
        {
          "output_type": "stream",
          "name": "stderr",
          "text": [
            "100%|██████████| 1460/1460 [01:18<00:00, 18.54it/s]\n",
            "100%|██████████| 364/364 [00:11<00:00, 31.52it/s]\n"
          ]
        },
        {
          "output_type": "stream",
          "name": "stdout",
          "text": [
            "Train Loss: 0.095665, Validation Loss: 0.093698\n",
            "\n",
            "Epoch # 29\n"
          ]
        },
        {
          "output_type": "stream",
          "name": "stderr",
          "text": [
            "100%|██████████| 1460/1460 [01:18<00:00, 18.49it/s]\n",
            "100%|██████████| 364/364 [00:11<00:00, 31.80it/s]\n"
          ]
        },
        {
          "output_type": "stream",
          "name": "stdout",
          "text": [
            "Train Loss: 0.107922, Validation Loss: 0.094374\n",
            "\n",
            "Epoch # 30\n"
          ]
        },
        {
          "output_type": "stream",
          "name": "stderr",
          "text": [
            "100%|██████████| 1460/1460 [01:18<00:00, 18.57it/s]\n",
            "100%|██████████| 364/364 [00:11<00:00, 31.47it/s]\n"
          ]
        },
        {
          "output_type": "stream",
          "name": "stdout",
          "text": [
            "Train Loss: 0.096646, Validation Loss: 0.093950\n",
            "\n",
            "Epoch # 31\n"
          ]
        },
        {
          "output_type": "stream",
          "name": "stderr",
          "text": [
            "100%|██████████| 1460/1460 [01:18<00:00, 18.55it/s]\n",
            "100%|██████████| 364/364 [00:11<00:00, 31.65it/s]\n"
          ]
        },
        {
          "output_type": "stream",
          "name": "stdout",
          "text": [
            "Train Loss: 0.091241, Validation Loss: 0.092600 ->  0.090528\n",
            "Saved model at: /content/Attention UNet_kidney_1_dense_checkpoint.pth\n",
            "\n",
            "Epoch # 32\n"
          ]
        },
        {
          "output_type": "stream",
          "name": "stderr",
          "text": [
            "100%|██████████| 1460/1460 [01:18<00:00, 18.57it/s]\n",
            "100%|██████████| 364/364 [00:11<00:00, 31.68it/s]\n"
          ]
        },
        {
          "output_type": "stream",
          "name": "stdout",
          "text": [
            "Train Loss: 0.093093, Validation Loss: 0.094296\n",
            "\n",
            "Epoch # 33\n"
          ]
        },
        {
          "output_type": "stream",
          "name": "stderr",
          "text": [
            "100%|██████████| 1460/1460 [01:18<00:00, 18.69it/s]\n",
            "100%|██████████| 364/364 [00:11<00:00, 31.59it/s]\n"
          ]
        },
        {
          "output_type": "stream",
          "name": "stdout",
          "text": [
            "Train Loss: 0.092262, Validation Loss: 0.090829\n",
            "\n",
            "Epoch # 34\n"
          ]
        },
        {
          "output_type": "stream",
          "name": "stderr",
          "text": [
            "100%|██████████| 1460/1460 [01:18<00:00, 18.66it/s]\n",
            "100%|██████████| 364/364 [00:11<00:00, 31.41it/s]\n"
          ]
        },
        {
          "output_type": "stream",
          "name": "stdout",
          "text": [
            "Train Loss: 0.088047, Validation Loss: 0.090528 ->  0.089454\n",
            "Saved model at: /content/Attention UNet_kidney_1_dense_checkpoint.pth\n",
            "\n",
            "Epoch # 35\n"
          ]
        },
        {
          "output_type": "stream",
          "name": "stderr",
          "text": [
            "100%|██████████| 1460/1460 [01:18<00:00, 18.60it/s]\n",
            "100%|██████████| 364/364 [00:11<00:00, 31.76it/s]\n"
          ]
        },
        {
          "output_type": "stream",
          "name": "stdout",
          "text": [
            "Train Loss: 0.091818, Validation Loss: 0.101295\n",
            "\n",
            "Epoch # 36\n"
          ]
        },
        {
          "output_type": "stream",
          "name": "stderr",
          "text": [
            "100%|██████████| 1460/1460 [01:18<00:00, 18.68it/s]\n",
            "100%|██████████| 364/364 [00:11<00:00, 31.80it/s]\n"
          ]
        },
        {
          "output_type": "stream",
          "name": "stdout",
          "text": [
            "Train Loss: 0.091755, Validation Loss: 0.107413\n",
            "\n",
            "Epoch # 37\n"
          ]
        },
        {
          "output_type": "stream",
          "name": "stderr",
          "text": [
            "100%|██████████| 1460/1460 [01:18<00:00, 18.66it/s]\n",
            "100%|██████████| 364/364 [00:11<00:00, 31.63it/s]\n"
          ]
        },
        {
          "output_type": "stream",
          "name": "stdout",
          "text": [
            "Train Loss: 0.088375, Validation Loss: 0.090180\n",
            "\n",
            "Epoch # 38\n"
          ]
        },
        {
          "output_type": "stream",
          "name": "stderr",
          "text": [
            "100%|██████████| 1460/1460 [01:18<00:00, 18.68it/s]\n",
            "100%|██████████| 364/364 [00:11<00:00, 31.69it/s]\n"
          ]
        },
        {
          "output_type": "stream",
          "name": "stdout",
          "text": [
            "Train Loss: 0.085493, Validation Loss: 0.091999\n",
            "\n",
            "Epoch # 39\n"
          ]
        },
        {
          "output_type": "stream",
          "name": "stderr",
          "text": [
            "100%|██████████| 1460/1460 [01:18<00:00, 18.64it/s]\n",
            "100%|██████████| 364/364 [00:11<00:00, 31.79it/s]\n"
          ]
        },
        {
          "output_type": "stream",
          "name": "stdout",
          "text": [
            "Train Loss: 0.094420, Validation Loss: 0.090452\n",
            "\n",
            "Epoch # 40\n"
          ]
        },
        {
          "output_type": "stream",
          "name": "stderr",
          "text": [
            "100%|██████████| 1460/1460 [01:18<00:00, 18.64it/s]\n",
            "100%|██████████| 364/364 [00:11<00:00, 31.70it/s]\n"
          ]
        },
        {
          "output_type": "stream",
          "name": "stdout",
          "text": [
            "Train Loss: 0.087838, Validation Loss: 0.089683\n",
            "\n",
            "Epoch # 41\n"
          ]
        },
        {
          "output_type": "stream",
          "name": "stderr",
          "text": [
            "100%|██████████| 1460/1460 [01:18<00:00, 18.68it/s]\n",
            "100%|██████████| 364/364 [00:11<00:00, 31.99it/s]\n"
          ]
        },
        {
          "output_type": "stream",
          "name": "stdout",
          "text": [
            "Train Loss: 0.083928, Validation Loss: 0.101806\n",
            "\n",
            "Epoch # 42\n"
          ]
        },
        {
          "output_type": "stream",
          "name": "stderr",
          "text": [
            "100%|██████████| 1460/1460 [01:18<00:00, 18.66it/s]\n",
            "100%|██████████| 364/364 [00:11<00:00, 31.96it/s]\n"
          ]
        },
        {
          "output_type": "stream",
          "name": "stdout",
          "text": [
            "Train Loss: 0.098511, Validation Loss: 0.090738\n",
            "\n",
            "Epoch # 43\n"
          ]
        },
        {
          "output_type": "stream",
          "name": "stderr",
          "text": [
            "100%|██████████| 1460/1460 [01:18<00:00, 18.65it/s]\n",
            "100%|██████████| 364/364 [00:11<00:00, 31.64it/s]\n"
          ]
        },
        {
          "output_type": "stream",
          "name": "stdout",
          "text": [
            "Train Loss: 0.083812, Validation Loss: 0.089454 ->  0.088305\n",
            "Saved model at: /content/Attention UNet_kidney_1_dense_checkpoint.pth\n",
            "\n",
            "Epoch # 44\n"
          ]
        },
        {
          "output_type": "stream",
          "name": "stderr",
          "text": [
            "100%|██████████| 1460/1460 [01:18<00:00, 18.69it/s]\n",
            "100%|██████████| 364/364 [00:11<00:00, 31.96it/s]\n"
          ]
        },
        {
          "output_type": "stream",
          "name": "stdout",
          "text": [
            "Train Loss: 0.080801, Validation Loss: 0.093913\n",
            "\n",
            "Epoch # 45\n"
          ]
        },
        {
          "output_type": "stream",
          "name": "stderr",
          "text": [
            "100%|██████████| 1460/1460 [01:18<00:00, 18.58it/s]\n",
            "100%|██████████| 364/364 [00:11<00:00, 31.47it/s]\n"
          ]
        },
        {
          "output_type": "stream",
          "name": "stdout",
          "text": [
            "Train Loss: 0.080611, Validation Loss: 0.093952\n",
            "\n",
            "Epoch # 46\n"
          ]
        },
        {
          "output_type": "stream",
          "name": "stderr",
          "text": [
            "100%|██████████| 1460/1460 [01:18<00:00, 18.53it/s]\n",
            "100%|██████████| 364/364 [00:11<00:00, 31.42it/s]\n"
          ]
        },
        {
          "output_type": "stream",
          "name": "stdout",
          "text": [
            "Train Loss: 0.083033, Validation Loss: 0.092157\n",
            "\n",
            "Epoch # 47\n"
          ]
        },
        {
          "output_type": "stream",
          "name": "stderr",
          "text": [
            "100%|██████████| 1460/1460 [01:18<00:00, 18.53it/s]\n",
            "100%|██████████| 364/364 [00:11<00:00, 31.74it/s]\n"
          ]
        },
        {
          "output_type": "stream",
          "name": "stdout",
          "text": [
            "Train Loss: 0.079415, Validation Loss: 0.094484\n",
            "\n",
            "Epoch # 48\n"
          ]
        },
        {
          "output_type": "stream",
          "name": "stderr",
          "text": [
            "100%|██████████| 1460/1460 [01:18<00:00, 18.52it/s]\n",
            "100%|██████████| 364/364 [00:11<00:00, 31.73it/s]\n"
          ]
        },
        {
          "output_type": "stream",
          "name": "stdout",
          "text": [
            "Train Loss: 0.077898, Validation Loss: 0.088305 ->  0.084374\n",
            "Saved model at: /content/Attention UNet_kidney_1_dense_checkpoint.pth\n",
            "\n",
            "Epoch # 49\n"
          ]
        },
        {
          "output_type": "stream",
          "name": "stderr",
          "text": [
            "100%|██████████| 1460/1460 [01:18<00:00, 18.60it/s]\n",
            "100%|██████████| 364/364 [00:11<00:00, 31.62it/s]\n"
          ]
        },
        {
          "output_type": "stream",
          "name": "stdout",
          "text": [
            "Train Loss: 0.078561, Validation Loss: 0.088232\n",
            "\n",
            "Epoch # 50\n"
          ]
        },
        {
          "output_type": "stream",
          "name": "stderr",
          "text": [
            "100%|██████████| 1460/1460 [01:18<00:00, 18.57it/s]\n",
            "100%|██████████| 364/364 [00:11<00:00, 31.85it/s]\n"
          ]
        },
        {
          "output_type": "stream",
          "name": "stdout",
          "text": [
            "Train Loss: 0.085368, Validation Loss: 0.093908\n",
            "\n",
            "Epoch # 51\n"
          ]
        },
        {
          "output_type": "stream",
          "name": "stderr",
          "text": [
            "100%|██████████| 1460/1460 [01:18<00:00, 18.55it/s]\n",
            "100%|██████████| 364/364 [00:11<00:00, 31.95it/s]\n"
          ]
        },
        {
          "output_type": "stream",
          "name": "stdout",
          "text": [
            "Train Loss: 0.076957, Validation Loss: 0.084870\n",
            "\n",
            "Epoch # 52\n"
          ]
        },
        {
          "output_type": "stream",
          "name": "stderr",
          "text": [
            "100%|██████████| 1460/1460 [01:18<00:00, 18.56it/s]\n",
            "100%|██████████| 364/364 [00:11<00:00, 31.85it/s]\n"
          ]
        },
        {
          "output_type": "stream",
          "name": "stdout",
          "text": [
            "Train Loss: 0.077021, Validation Loss: 0.085359\n",
            "\n",
            "Epoch # 53\n"
          ]
        },
        {
          "output_type": "stream",
          "name": "stderr",
          "text": [
            "100%|██████████| 1460/1460 [01:18<00:00, 18.54it/s]\n",
            "100%|██████████| 364/364 [00:11<00:00, 31.78it/s]\n"
          ]
        },
        {
          "output_type": "stream",
          "name": "stdout",
          "text": [
            "Train Loss: 0.075482, Validation Loss: 0.084485\n",
            "\n",
            "Epoch # 54\n"
          ]
        },
        {
          "output_type": "stream",
          "name": "stderr",
          "text": [
            "100%|██████████| 1460/1460 [01:18<00:00, 18.52it/s]\n",
            "100%|██████████| 364/364 [00:11<00:00, 31.76it/s]\n"
          ]
        },
        {
          "output_type": "stream",
          "name": "stdout",
          "text": [
            "Train Loss: 0.076260, Validation Loss: 0.090370\n",
            "\n",
            "Epoch # 55\n"
          ]
        },
        {
          "output_type": "stream",
          "name": "stderr",
          "text": [
            "100%|██████████| 1460/1460 [01:18<00:00, 18.57it/s]\n",
            "100%|██████████| 364/364 [00:11<00:00, 31.74it/s]\n"
          ]
        },
        {
          "output_type": "stream",
          "name": "stdout",
          "text": [
            "Train Loss: 0.091438, Validation Loss: 0.087322\n",
            "\n",
            "Epoch # 56\n"
          ]
        },
        {
          "output_type": "stream",
          "name": "stderr",
          "text": [
            "100%|██████████| 1460/1460 [01:18<00:00, 18.61it/s]\n",
            "100%|██████████| 364/364 [00:11<00:00, 31.26it/s]\n"
          ]
        },
        {
          "output_type": "stream",
          "name": "stdout",
          "text": [
            "Train Loss: 0.084385, Validation Loss: 0.099132\n",
            "\n",
            "Epoch # 57\n"
          ]
        },
        {
          "output_type": "stream",
          "name": "stderr",
          "text": [
            "100%|██████████| 1460/1460 [01:18<00:00, 18.59it/s]\n",
            "100%|██████████| 364/364 [00:11<00:00, 31.62it/s]\n"
          ]
        },
        {
          "output_type": "stream",
          "name": "stdout",
          "text": [
            "Train Loss: 0.072897, Validation Loss: 0.084589\n",
            "\n",
            "Epoch # 58\n"
          ]
        },
        {
          "output_type": "stream",
          "name": "stderr",
          "text": [
            "100%|██████████| 1460/1460 [01:18<00:00, 18.55it/s]\n",
            "100%|██████████| 364/364 [00:11<00:00, 31.63it/s]\n"
          ]
        },
        {
          "output_type": "stream",
          "name": "stdout",
          "text": [
            "Train Loss: 0.077473, Validation Loss: 0.084374 ->  0.083452\n",
            "Saved model at: /content/Attention UNet_kidney_1_dense_checkpoint.pth\n",
            "\n",
            "Epoch # 59\n"
          ]
        },
        {
          "output_type": "stream",
          "name": "stderr",
          "text": [
            "100%|██████████| 1460/1460 [01:18<00:00, 18.52it/s]\n",
            "100%|██████████| 364/364 [00:11<00:00, 31.86it/s]\n"
          ]
        },
        {
          "output_type": "stream",
          "name": "stdout",
          "text": [
            "Train Loss: 0.078390, Validation Loss: 0.087508\n",
            "\n",
            "Epoch # 60\n"
          ]
        },
        {
          "output_type": "stream",
          "name": "stderr",
          "text": [
            "100%|██████████| 1460/1460 [01:18<00:00, 18.57it/s]\n",
            "100%|██████████| 364/364 [00:11<00:00, 32.08it/s]\n"
          ]
        },
        {
          "output_type": "stream",
          "name": "stdout",
          "text": [
            "Train Loss: 0.073599, Validation Loss: 0.091194\n",
            "\n",
            "Epoch # 61\n"
          ]
        },
        {
          "output_type": "stream",
          "name": "stderr",
          "text": [
            "100%|██████████| 1460/1460 [01:18<00:00, 18.59it/s]\n",
            "100%|██████████| 364/364 [00:11<00:00, 31.76it/s]\n"
          ]
        },
        {
          "output_type": "stream",
          "name": "stdout",
          "text": [
            "Train Loss: 0.073573, Validation Loss: 0.097459\n",
            "\n",
            "Epoch # 62\n"
          ]
        },
        {
          "output_type": "stream",
          "name": "stderr",
          "text": [
            "100%|██████████| 1460/1460 [01:18<00:00, 18.58it/s]\n",
            "100%|██████████| 364/364 [00:11<00:00, 31.85it/s]\n"
          ]
        },
        {
          "output_type": "stream",
          "name": "stdout",
          "text": [
            "Train Loss: 0.074523, Validation Loss: 0.093607\n",
            "\n",
            "Epoch # 63\n"
          ]
        },
        {
          "output_type": "stream",
          "name": "stderr",
          "text": [
            "100%|██████████| 1460/1460 [01:18<00:00, 18.60it/s]\n",
            "100%|██████████| 364/364 [00:11<00:00, 31.19it/s]\n"
          ]
        },
        {
          "output_type": "stream",
          "name": "stdout",
          "text": [
            "Train Loss: 0.068063, Validation Loss: 0.083932\n",
            "\n",
            "Epoch # 64\n"
          ]
        },
        {
          "output_type": "stream",
          "name": "stderr",
          "text": [
            "100%|██████████| 1460/1460 [01:18<00:00, 18.51it/s]\n",
            "100%|██████████| 364/364 [00:11<00:00, 31.60it/s]\n"
          ]
        },
        {
          "output_type": "stream",
          "name": "stdout",
          "text": [
            "Train Loss: 0.068436, Validation Loss: 0.084774\n",
            "\n",
            "Epoch # 65\n"
          ]
        },
        {
          "output_type": "stream",
          "name": "stderr",
          "text": [
            "100%|██████████| 1460/1460 [01:18<00:00, 18.60it/s]\n",
            "100%|██████████| 364/364 [00:11<00:00, 31.88it/s]\n"
          ]
        },
        {
          "output_type": "stream",
          "name": "stdout",
          "text": [
            "Train Loss: 0.072107, Validation Loss: 0.085675\n",
            "\n",
            "Epoch # 66\n"
          ]
        },
        {
          "output_type": "stream",
          "name": "stderr",
          "text": [
            "100%|██████████| 1460/1460 [01:18<00:00, 18.59it/s]\n",
            "100%|██████████| 364/364 [00:11<00:00, 31.67it/s]\n"
          ]
        },
        {
          "output_type": "stream",
          "name": "stdout",
          "text": [
            "Train Loss: 0.078950, Validation Loss: 0.094010\n",
            "\n",
            "Epoch # 67\n"
          ]
        },
        {
          "output_type": "stream",
          "name": "stderr",
          "text": [
            "100%|██████████| 1460/1460 [01:18<00:00, 18.62it/s]\n",
            "100%|██████████| 364/364 [00:11<00:00, 31.86it/s]\n"
          ]
        },
        {
          "output_type": "stream",
          "name": "stdout",
          "text": [
            "Train Loss: 0.072669, Validation Loss: 0.083452 ->  0.083326\n",
            "Saved model at: /content/Attention UNet_kidney_1_dense_checkpoint.pth\n",
            "\n",
            "Epoch # 68\n"
          ]
        },
        {
          "output_type": "stream",
          "name": "stderr",
          "text": [
            "100%|██████████| 1460/1460 [01:18<00:00, 18.51it/s]\n",
            "100%|██████████| 364/364 [00:11<00:00, 31.42it/s]\n"
          ]
        },
        {
          "output_type": "stream",
          "name": "stdout",
          "text": [
            "Train Loss: 0.072606, Validation Loss: 0.195783\n",
            "\n",
            "Epoch # 69\n"
          ]
        },
        {
          "output_type": "stream",
          "name": "stderr",
          "text": [
            "100%|██████████| 1460/1460 [01:18<00:00, 18.62it/s]\n",
            "100%|██████████| 364/364 [00:11<00:00, 31.93it/s]\n"
          ]
        },
        {
          "output_type": "stream",
          "name": "stdout",
          "text": [
            "Train Loss: 0.079074, Validation Loss: 0.091307\n",
            "\n",
            "Epoch # 70\n"
          ]
        },
        {
          "output_type": "stream",
          "name": "stderr",
          "text": [
            "100%|██████████| 1460/1460 [01:18<00:00, 18.57it/s]\n",
            "100%|██████████| 364/364 [00:11<00:00, 31.52it/s]\n"
          ]
        },
        {
          "output_type": "stream",
          "name": "stdout",
          "text": [
            "Train Loss: 0.078019, Validation Loss: 0.083326 ->  0.081477\n",
            "Saved model at: /content/Attention UNet_kidney_1_dense_checkpoint.pth\n",
            "\n",
            "Epoch # 71\n"
          ]
        },
        {
          "output_type": "stream",
          "name": "stderr",
          "text": [
            "100%|██████████| 1460/1460 [01:18<00:00, 18.51it/s]\n",
            "100%|██████████| 364/364 [00:11<00:00, 31.20it/s]\n"
          ]
        },
        {
          "output_type": "stream",
          "name": "stdout",
          "text": [
            "Train Loss: 0.068093, Validation Loss: 0.081477 ->  0.079937\n",
            "Saved model at: /content/Attention UNet_kidney_1_dense_checkpoint.pth\n",
            "\n",
            "Epoch # 72\n"
          ]
        },
        {
          "output_type": "stream",
          "name": "stderr",
          "text": [
            "100%|██████████| 1460/1460 [01:18<00:00, 18.56it/s]\n",
            "100%|██████████| 364/364 [00:11<00:00, 31.81it/s]\n"
          ]
        },
        {
          "output_type": "stream",
          "name": "stdout",
          "text": [
            "Train Loss: 0.074956, Validation Loss: 0.082374\n",
            "\n",
            "Epoch # 73\n"
          ]
        },
        {
          "output_type": "stream",
          "name": "stderr",
          "text": [
            "100%|██████████| 1460/1460 [01:18<00:00, 18.55it/s]\n",
            "100%|██████████| 364/364 [00:11<00:00, 31.30it/s]\n"
          ]
        },
        {
          "output_type": "stream",
          "name": "stdout",
          "text": [
            "Train Loss: 0.068976, Validation Loss: 0.079937 ->  0.079908\n",
            "Saved model at: /content/Attention UNet_kidney_1_dense_checkpoint.pth\n",
            "\n",
            "Epoch # 74\n"
          ]
        },
        {
          "output_type": "stream",
          "name": "stderr",
          "text": [
            "100%|██████████| 1460/1460 [01:18<00:00, 18.52it/s]\n",
            "100%|██████████| 364/364 [00:11<00:00, 31.20it/s]\n"
          ]
        },
        {
          "output_type": "stream",
          "name": "stdout",
          "text": [
            "Train Loss: 0.069617, Validation Loss: 0.079908 ->  0.078633\n",
            "Saved model at: /content/Attention UNet_kidney_1_dense_checkpoint.pth\n",
            "\n",
            "Epoch # 75\n"
          ]
        },
        {
          "output_type": "stream",
          "name": "stderr",
          "text": [
            "100%|██████████| 1460/1460 [01:18<00:00, 18.50it/s]\n",
            "100%|██████████| 364/364 [00:11<00:00, 31.66it/s]\n"
          ]
        },
        {
          "output_type": "stream",
          "name": "stdout",
          "text": [
            "Train Loss: 0.065101, Validation Loss: 0.079255\n",
            "\n",
            "Epoch # 76\n"
          ]
        },
        {
          "output_type": "stream",
          "name": "stderr",
          "text": [
            "100%|██████████| 1460/1460 [01:18<00:00, 18.50it/s]\n",
            "100%|██████████| 364/364 [00:11<00:00, 31.87it/s]\n"
          ]
        },
        {
          "output_type": "stream",
          "name": "stdout",
          "text": [
            "Train Loss: 0.067980, Validation Loss: 0.080511\n",
            "\n",
            "Epoch # 77\n"
          ]
        },
        {
          "output_type": "stream",
          "name": "stderr",
          "text": [
            "100%|██████████| 1460/1460 [01:18<00:00, 18.57it/s]\n",
            "100%|██████████| 364/364 [00:11<00:00, 31.34it/s]\n"
          ]
        },
        {
          "output_type": "stream",
          "name": "stdout",
          "text": [
            "Train Loss: 0.068475, Validation Loss: 0.080049\n",
            "\n",
            "Epoch # 78\n"
          ]
        },
        {
          "output_type": "stream",
          "name": "stderr",
          "text": [
            "100%|██████████| 1460/1460 [01:18<00:00, 18.61it/s]\n",
            "100%|██████████| 364/364 [00:11<00:00, 31.48it/s]\n"
          ]
        },
        {
          "output_type": "stream",
          "name": "stdout",
          "text": [
            "Train Loss: 0.068837, Validation Loss: 0.081607\n",
            "\n",
            "Epoch # 79\n"
          ]
        },
        {
          "output_type": "stream",
          "name": "stderr",
          "text": [
            "100%|██████████| 1460/1460 [01:18<00:00, 18.55it/s]\n",
            "100%|██████████| 364/364 [00:11<00:00, 31.74it/s]\n"
          ]
        },
        {
          "output_type": "stream",
          "name": "stdout",
          "text": [
            "Train Loss: 0.065294, Validation Loss: 0.078633 ->  0.076899\n",
            "Saved model at: /content/Attention UNet_kidney_1_dense_checkpoint.pth\n",
            "\n",
            "Epoch # 80\n"
          ]
        },
        {
          "output_type": "stream",
          "name": "stderr",
          "text": [
            "100%|██████████| 1460/1460 [01:18<00:00, 18.49it/s]\n",
            "100%|██████████| 364/364 [00:11<00:00, 31.56it/s]\n"
          ]
        },
        {
          "output_type": "stream",
          "name": "stdout",
          "text": [
            "Train Loss: 0.063015, Validation Loss: 0.081533\n",
            "\n",
            "Epoch # 81\n"
          ]
        },
        {
          "output_type": "stream",
          "name": "stderr",
          "text": [
            "100%|██████████| 1460/1460 [01:18<00:00, 18.59it/s]\n",
            "100%|██████████| 364/364 [00:11<00:00, 31.74it/s]\n"
          ]
        },
        {
          "output_type": "stream",
          "name": "stdout",
          "text": [
            "Train Loss: 0.065557, Validation Loss: 0.078200\n",
            "\n",
            "Epoch # 82\n"
          ]
        },
        {
          "output_type": "stream",
          "name": "stderr",
          "text": [
            "100%|██████████| 1460/1460 [01:19<00:00, 18.48it/s]\n",
            "100%|██████████| 364/364 [00:11<00:00, 30.63it/s]\n"
          ]
        },
        {
          "output_type": "stream",
          "name": "stdout",
          "text": [
            "Train Loss: 0.063359, Validation Loss: 0.085999\n",
            "\n",
            "Epoch # 83\n"
          ]
        },
        {
          "output_type": "stream",
          "name": "stderr",
          "text": [
            "100%|██████████| 1460/1460 [01:19<00:00, 18.38it/s]\n",
            "100%|██████████| 364/364 [00:11<00:00, 31.21it/s]\n"
          ]
        },
        {
          "output_type": "stream",
          "name": "stdout",
          "text": [
            "Train Loss: 0.068393, Validation Loss: 0.088963\n",
            "\n",
            "Epoch # 84\n"
          ]
        },
        {
          "output_type": "stream",
          "name": "stderr",
          "text": [
            "100%|██████████| 1460/1460 [01:19<00:00, 18.31it/s]\n",
            "100%|██████████| 364/364 [00:11<00:00, 30.65it/s]\n"
          ]
        },
        {
          "output_type": "stream",
          "name": "stdout",
          "text": [
            "Train Loss: 0.066130, Validation Loss: 0.079542\n",
            "\n",
            "Epoch # 85\n"
          ]
        },
        {
          "output_type": "stream",
          "name": "stderr",
          "text": [
            "100%|██████████| 1460/1460 [01:18<00:00, 18.52it/s]\n",
            "100%|██████████| 364/364 [00:11<00:00, 31.48it/s]\n"
          ]
        },
        {
          "output_type": "stream",
          "name": "stdout",
          "text": [
            "Train Loss: 0.061267, Validation Loss: 0.076899 ->  0.076800\n",
            "Saved model at: /content/Attention UNet_kidney_1_dense_checkpoint.pth\n",
            "\n",
            "Epoch # 86\n"
          ]
        },
        {
          "output_type": "stream",
          "name": "stderr",
          "text": [
            "100%|██████████| 1460/1460 [01:18<00:00, 18.48it/s]\n",
            "100%|██████████| 364/364 [00:11<00:00, 31.40it/s]\n"
          ]
        },
        {
          "output_type": "stream",
          "name": "stdout",
          "text": [
            "Train Loss: 0.060561, Validation Loss: 0.079442\n",
            "\n",
            "Epoch # 87\n"
          ]
        },
        {
          "output_type": "stream",
          "name": "stderr",
          "text": [
            "100%|██████████| 1460/1460 [01:19<00:00, 18.37it/s]\n",
            "100%|██████████| 364/364 [00:11<00:00, 31.36it/s]\n"
          ]
        },
        {
          "output_type": "stream",
          "name": "stdout",
          "text": [
            "Train Loss: 0.061963, Validation Loss: 0.094708\n",
            "\n",
            "Epoch # 88\n"
          ]
        },
        {
          "output_type": "stream",
          "name": "stderr",
          "text": [
            "100%|██████████| 1460/1460 [01:18<00:00, 18.48it/s]\n",
            "100%|██████████| 364/364 [00:11<00:00, 31.57it/s]\n"
          ]
        },
        {
          "output_type": "stream",
          "name": "stdout",
          "text": [
            "Train Loss: 0.062338, Validation Loss: 0.079000\n",
            "\n",
            "Epoch # 89\n"
          ]
        },
        {
          "output_type": "stream",
          "name": "stderr",
          "text": [
            "100%|██████████| 1460/1460 [01:18<00:00, 18.51it/s]\n",
            "100%|██████████| 364/364 [00:11<00:00, 30.96it/s]\n"
          ]
        },
        {
          "output_type": "stream",
          "name": "stdout",
          "text": [
            "Train Loss: 0.059030, Validation Loss: 0.078992\n",
            "\n",
            "Epoch # 90\n"
          ]
        },
        {
          "output_type": "stream",
          "name": "stderr",
          "text": [
            "100%|██████████| 1460/1460 [01:19<00:00, 18.45it/s]\n",
            "100%|██████████| 364/364 [00:11<00:00, 31.29it/s]\n"
          ]
        },
        {
          "output_type": "stream",
          "name": "stdout",
          "text": [
            "Train Loss: 0.060973, Validation Loss: 0.083910\n",
            "\n",
            "Epoch # 91\n"
          ]
        },
        {
          "output_type": "stream",
          "name": "stderr",
          "text": [
            "100%|██████████| 1460/1460 [01:19<00:00, 18.45it/s]\n",
            "100%|██████████| 364/364 [00:11<00:00, 31.46it/s]\n"
          ]
        },
        {
          "output_type": "stream",
          "name": "stdout",
          "text": [
            "Train Loss: 0.063175, Validation Loss: 0.102598\n",
            "\n",
            "Epoch # 92\n"
          ]
        },
        {
          "output_type": "stream",
          "name": "stderr",
          "text": [
            "100%|██████████| 1460/1460 [01:19<00:00, 18.46it/s]\n",
            "100%|██████████| 364/364 [00:11<00:00, 31.43it/s]\n"
          ]
        },
        {
          "output_type": "stream",
          "name": "stdout",
          "text": [
            "Train Loss: 0.061158, Validation Loss: 0.084230\n",
            "\n",
            "Epoch # 93\n"
          ]
        },
        {
          "output_type": "stream",
          "name": "stderr",
          "text": [
            "100%|██████████| 1460/1460 [01:18<00:00, 18.53it/s]\n",
            "100%|██████████| 364/364 [00:11<00:00, 31.81it/s]\n"
          ]
        },
        {
          "output_type": "stream",
          "name": "stdout",
          "text": [
            "Train Loss: 0.058175, Validation Loss: 0.080085\n",
            "\n",
            "Epoch # 94\n"
          ]
        },
        {
          "output_type": "stream",
          "name": "stderr",
          "text": [
            "100%|██████████| 1460/1460 [01:18<00:00, 18.51it/s]\n",
            "100%|██████████| 364/364 [00:11<00:00, 31.71it/s]\n"
          ]
        },
        {
          "output_type": "stream",
          "name": "stdout",
          "text": [
            "Train Loss: 0.063378, Validation Loss: 0.082274\n",
            "\n",
            "Epoch # 95\n"
          ]
        },
        {
          "output_type": "stream",
          "name": "stderr",
          "text": [
            "100%|██████████| 1460/1460 [01:18<00:00, 18.53it/s]\n",
            "100%|██████████| 364/364 [00:11<00:00, 31.43it/s]\n"
          ]
        },
        {
          "output_type": "stream",
          "name": "stdout",
          "text": [
            "Train Loss: 0.060049, Validation Loss: 0.089223\n",
            "\n",
            "Epoch # 96\n"
          ]
        },
        {
          "output_type": "stream",
          "name": "stderr",
          "text": [
            "100%|██████████| 1460/1460 [01:18<00:00, 18.52it/s]\n",
            "100%|██████████| 364/364 [00:11<00:00, 30.72it/s]\n"
          ]
        },
        {
          "output_type": "stream",
          "name": "stdout",
          "text": [
            "Train Loss: 0.058800, Validation Loss: 0.083182\n",
            "\n",
            "Epoch # 97\n"
          ]
        },
        {
          "output_type": "stream",
          "name": "stderr",
          "text": [
            "100%|██████████| 1460/1460 [01:18<00:00, 18.57it/s]\n",
            "100%|██████████| 364/364 [00:11<00:00, 31.54it/s]\n"
          ]
        },
        {
          "output_type": "stream",
          "name": "stdout",
          "text": [
            "Train Loss: 0.062290, Validation Loss: 0.076800 ->  0.075943\n",
            "Saved model at: /content/Attention UNet_kidney_1_dense_checkpoint.pth\n",
            "\n",
            "Epoch # 98\n"
          ]
        },
        {
          "output_type": "stream",
          "name": "stderr",
          "text": [
            "100%|██████████| 1460/1460 [01:18<00:00, 18.48it/s]\n",
            "100%|██████████| 364/364 [00:11<00:00, 31.05it/s]\n"
          ]
        },
        {
          "output_type": "stream",
          "name": "stdout",
          "text": [
            "Train Loss: 0.059591, Validation Loss: 0.083277\n",
            "\n",
            "Epoch # 99\n"
          ]
        },
        {
          "output_type": "stream",
          "name": "stderr",
          "text": [
            "100%|██████████| 1460/1460 [01:18<00:00, 18.54it/s]\n",
            "100%|██████████| 364/364 [00:11<00:00, 31.40it/s]\n"
          ]
        },
        {
          "output_type": "stream",
          "name": "stdout",
          "text": [
            "Train Loss: 0.059696, Validation Loss: 0.081046\n",
            "\n",
            "Epoch # 100\n"
          ]
        },
        {
          "output_type": "stream",
          "name": "stderr",
          "text": [
            "100%|██████████| 1460/1460 [01:18<00:00, 18.51it/s]\n",
            "100%|██████████| 364/364 [00:11<00:00, 31.49it/s]"
          ]
        },
        {
          "output_type": "stream",
          "name": "stdout",
          "text": [
            "Train Loss: 0.057270, Validation Loss: 0.079160\n"
          ]
        },
        {
          "output_type": "stream",
          "name": "stderr",
          "text": [
            "\n"
          ]
        }
      ],
      "source": [
        "# Initialize trainer class\n",
        "trainer = Trainer(model,\n",
        "                train_loader,\n",
        "                val_loader,\n",
        "                optimizer=optim.Adam(model.parameters(),lr=CFG.LEARNING_RATE),\n",
        "                criterion=DiceLoss(),\n",
        "                device=CFG.DEVICE,\n",
        "                checkpoint_path=CFG.CHECKPOINT_PATH,\n",
        "                model_name=CFG.TRAINED_MODEL\n",
        ")\n",
        "\n",
        "# Train the model\n",
        "model, train_df = trainer.train(epochs=CFG.NUM_EPOCHS)"
      ]
    },
    {
      "cell_type": "markdown",
      "source": [
        "### 6.3 Results in Training"
      ],
      "metadata": {
        "id": "0uR5qXLMgFMT"
      }
    },
    {
      "cell_type": "code",
      "source": [
        "train_df = pd.read_csv(os.path.join(CFG.CHECKPOINT_PATH, f\"{CFG.TRAINED_MODEL}.csv\"))\n",
        "\n",
        "sns.set_theme()\n",
        "ax = sns.lineplot(data=train_df, x=\"Epoch\", y=\"Train_Loss\", label=\"Train Loss\")\n",
        "ax = sns.lineplot(data=train_df, x=\"Epoch\", y=\"Valid_Loss\", label=\"Valid Loss\")\n",
        "\n",
        "ax.set_xlabel(\"Epoch Numbers\")\n",
        "ax.set_ylabel(\"Losses\")\n",
        "ax.set_title(\"Valid and Train Losses\")"
      ],
      "metadata": {
        "colab": {
          "base_uri": "https://localhost:8080/",
          "height": 497
        },
        "id": "FxlNwWZMgIDS",
        "outputId": "9098f07b-99a7-4655-c1bb-1586d7965392"
      },
      "execution_count": null,
      "outputs": [
        {
          "output_type": "execute_result",
          "data": {
            "text/plain": [
              "Text(0.5, 1.0, 'Valid and Train Losses')"
            ]
          },
          "metadata": {},
          "execution_count": 26
        },
        {
          "output_type": "display_data",
          "data": {
            "text/plain": [
              "<Figure size 640x480 with 1 Axes>"
            ],
            "image/png": "[encoded data removed]"
          },
          "metadata": {}
        }
      ]
    },
    {
      "cell_type": "markdown",
      "metadata": {
        "id": "4w2LYjZ9dwsG"
      },
      "source": [
        "## 7. Test"
      ]
    },
    {
      "cell_type": "markdown",
      "source": [
        "### 7.1 Tester Class"
      ],
      "metadata": {
        "id": "NiokTalrpHUA"
      }
    },
    {
      "cell_type": "code",
      "execution_count": null,
      "metadata": {
        "id": "-z9PxPuBdwsG"
      },
      "outputs": [],
      "source": [
        "class Tester:\n",
        "    def __init__(self, model, test_loader, criterion, device, checkpoint_path, model_name):\n",
        "        self.model = model\n",
        "        self.test_loader = test_loader\n",
        "        self.criterion = criterion\n",
        "        self.device = device\n",
        "        self.checkpoint_path = checkpoint_path\n",
        "        self.model_name = model_name\n",
        "\n",
        "        # Load model state dictionary\n",
        "        self.load_model()\n",
        "\n",
        "    def load_model(self):\n",
        "        model_path = os.path.join(self.checkpoint_path, self.model_name)\n",
        "        if os.path.isfile(model_path):\n",
        "            self.model.load_state_dict(torch.load(model_path))\n",
        "            print(f\"Model loaded from {model_path}\")\n",
        "        else:\n",
        "            print(\"Model file not found. Please check the path and model_name.\")\n",
        "\n",
        "    def test(self):\n",
        "        self.model.eval()\n",
        "        self.model.to(self.device)\n",
        "        test_loss = 0\n",
        "        test_df = pd.DataFrame(columns=[\"Batch\", \"Filename\", \"Loss\", \"Time_Per_Iteration\", \"IoU_Score\", \"F1_Score\", \"Precision\", \"Recall\", \"Accuracy\", \"rle\"])\n",
        "\n",
        "        with torch.no_grad():\n",
        "            for batch_index, (data, target, filenames) in enumerate(tqdm(self.test_loader)):\n",
        "                data = data.to(self.device, dtype=torch.float32).permute(0, 3, 1, 2)\n",
        "                target = target.to(self.device, dtype=torch.float32).permute(0, 3, 1, 2)\n",
        "\n",
        "                batch_start_time = time.time()\n",
        "                output = self.model(data)\n",
        "                loss = self.criterion(output, target).item()\n",
        "                test_loss += loss\n",
        "\n",
        "                batch_time = time.time() - batch_start_time\n",
        "\n",
        "                # Calculate and store metrics\n",
        "                metrics = self.calculate_metrics(output, target)\n",
        "\n",
        "                for i in range(data.size(0)):\n",
        "                    # Process each image in the batch for RLE encoding\n",
        "                    pred_mask = output[i].cpu().numpy().squeeze()  # Assuming binary mask output\n",
        "                    pred_mask = (pred_mask > 0.5).astype(np.uint8)  # Thresholding\n",
        "\n",
        "                    # RLE encode the mask\n",
        "                    rle_encoded = self.rle_encode(pred_mask)\n",
        "\n",
        "                    # Extract the first element from filename if it's a tuple\n",
        "                    filename_str = filenames[i][0] if isinstance(filenames[i], tuple) else filenames[i]\n",
        "\n",
        "                    # Append all information to test_df\n",
        "                    batch_df = pd.DataFrame({\n",
        "                        \"Batch\": [batch_index + 1],\n",
        "                        \"Filename\": [filename_str],\n",
        "                        \"Loss\": [loss],\n",
        "                        \"Time_Per_Iteration\": [batch_time],\n",
        "                        \"IoU_Score\": [metrics[\"IoU_Score\"]],\n",
        "                        \"F1_Score\": [metrics[\"F1_Score\"]],\n",
        "                        \"Precision\": [metrics[\"Precision\"]],\n",
        "                        \"Recall\": [metrics[\"Recall\"]],\n",
        "                        \"Accuracy\": [metrics[\"Accuracy\"]],\n",
        "                        \"rle\": [rle_encoded]  # Add RLE encoding\n",
        "                    })\n",
        "                    test_df = pd.concat([test_df, batch_df], ignore_index=True)\n",
        "\n",
        "        test_loss /= len(self.test_loader)\n",
        "        print(f\"Test set: Average loss: {test_loss:.4f}\")\n",
        "\n",
        "        # Save test_df with all information\n",
        "        test_df.to_csv(os.path.join(self.checkpoint_path, f\"{self.model_name}_test_results.csv\"), index=False)\n",
        "\n",
        "        return self.model, test_df\n",
        "\n",
        "    # ref.: https://www.kaggle.com/stainsby/fast-tested-rle\n",
        "    def rle_encode(self, img):\n",
        "        '''\n",
        "        img: numpy array, 1 - mask, 0 - background\n",
        "        Returns run length as string formated\n",
        "        '''\n",
        "        pixels = img.flatten()\n",
        "        pixels = np.concatenate([[0], pixels, [0]])\n",
        "        runs = np.where(pixels[1:] != pixels[:-1])[0] + 1\n",
        "        runs[1::2] -= runs[::2]\n",
        "        return ' '.join(str(x) for x in runs)\n",
        "\n",
        "    def calculate_metrics(self, y_pred, y_true):\n",
        "        with torch.no_grad():\n",
        "            y_pred = (y_pred > 0.5).float()\n",
        "            y_true = y_true.view_as(y_pred)\n",
        "\n",
        "            y_true = y_true.detach().cpu().numpy().flatten()\n",
        "            y_pred = y_pred.detach().cpu().numpy().flatten()\n",
        "\n",
        "            tp = np.sum((y_true == 1) & (y_pred == 1))\n",
        "            fp = np.sum((y_true == 0) & (y_pred == 1))\n",
        "            fn = np.sum((y_true == 1) & (y_pred == 0))\n",
        "\n",
        "            eps = 1e-8\n",
        "\n",
        "            iou = tp / (tp + fp + fn + eps)\n",
        "            precision = tp / (tp + fp + eps)\n",
        "            recall = tp / (tp + fn + eps)\n",
        "            f1_score = 2 * (precision * recall) / (precision + recall + eps)\n",
        "            accuracy = np.sum(y_true == y_pred) / len(y_true)\n",
        "\n",
        "            metrics = {\n",
        "                \"IoU_Score\": iou,\n",
        "                \"F1_Score\": f1_score,\n",
        "                \"Precision\": precision,\n",
        "                \"Recall\": recall,\n",
        "                \"Accuracy\": accuracy\n",
        "            }\n",
        "            return metrics"
      ]
    },
    {
      "cell_type": "markdown",
      "source": [
        "### 7.2 Test Model"
      ],
      "metadata": {
        "id": "ec_UiObnpTh7"
      }
    },
    {
      "cell_type": "code",
      "source": [
        "# Initialize tester class\n",
        "tester = Tester(model=attention_unet(),\n",
        "                test_loader=test_loader,\n",
        "                criterion=DiceLoss(),\n",
        "                device=CFG.DEVICE,\n",
        "                checkpoint_path=CFG.CHECKPOINT_PATH,\n",
        "                model_name=CFG.TRAINED_MODEL\n",
        ")\n",
        "\n",
        "# Test the model\n",
        "model, test_df = tester.test()"
      ],
      "metadata": {
        "id": "L2lPThQzlQV6",
        "colab": {
          "base_uri": "https://localhost:8080/",
          "height": 245
        },
        "outputId": "3a8dfe15-5e23-4634-bb64-d62199c3f6a4"
      },
      "execution_count": null,
      "outputs": [
        {
          "output_type": "error",
          "ename": "NameError",
          "evalue": "name 'attention_unet' is not defined",
          "traceback": [
            "\u001b[0;31m---------------------------------------------------------------------------\u001b[0m",
            "\u001b[0;31mNameError\u001b[0m                                 Traceback (most recent call last)",
            "\u001b[0;32m<ipython-input-2-95dc371e3185>\u001b[0m in \u001b[0;36m<cell line: 2>\u001b[0;34m()\u001b[0m\n\u001b[1;32m      1\u001b[0m \u001b[0;31m# Initialize tester class\u001b[0m\u001b[0;34m\u001b[0m\u001b[0;34m\u001b[0m\u001b[0m\n\u001b[0;32m----> 2\u001b[0;31m tester = Tester(model=attention_unet(),\n\u001b[0m\u001b[1;32m      3\u001b[0m                 \u001b[0mtest_loader\u001b[0m\u001b[0;34m=\u001b[0m\u001b[0mtest_loader\u001b[0m\u001b[0;34m,\u001b[0m\u001b[0;34m\u001b[0m\u001b[0;34m\u001b[0m\u001b[0m\n\u001b[1;32m      4\u001b[0m                 \u001b[0mcriterion\u001b[0m\u001b[0;34m=\u001b[0m\u001b[0mDiceLoss\u001b[0m\u001b[0;34m(\u001b[0m\u001b[0;34m)\u001b[0m\u001b[0;34m,\u001b[0m\u001b[0;34m\u001b[0m\u001b[0;34m\u001b[0m\u001b[0m\n\u001b[1;32m      5\u001b[0m                 \u001b[0mdevice\u001b[0m\u001b[0;34m=\u001b[0m\u001b[0mCFG\u001b[0m\u001b[0;34m.\u001b[0m\u001b[0mDEVICE\u001b[0m\u001b[0;34m,\u001b[0m\u001b[0;34m\u001b[0m\u001b[0;34m\u001b[0m\u001b[0m\n",
            "\u001b[0;31mNameError\u001b[0m: name 'attention_unet' is not defined"
          ]
        }
      ]
    },
    {
      "cell_type": "markdown",
      "source": [
        "### 7.3 Results in Test"
      ],
      "metadata": {
        "id": "9v3COcjepZf6"
      }
    },
    {
      "cell_type": "code",
      "source": [
        "# Load test results\n",
        "test_df = pd.read_csv(os.path.join(CFG.CHECKPOINT_PATH, f\"{CFG.TRAINED_MODEL}_test_results.csv\"))\n",
        "\n",
        "# Calculate the average of each metric\n",
        "average_scores = test_df[[\"IoU_Score\", \"F1_Score\", \"Precision\", \"Recall\", \"Accuracy\"]].mean()\n",
        "\n",
        "# Print the averaged results of scores\n",
        "print(\"Averaged Results of Scores:\")\n",
        "print(average_scores)\n",
        "\n",
        "# Calculate and print the average and total time per iteration\n",
        "average_time_per_iteration = test_df[\"Time_Per_Iteration\"].mean()\n",
        "total_time = test_df[\"Time_Per_Iteration\"].sum()\n",
        "\n",
        "print(\"\\nAverage Time Per Iteration: {:.4f} seconds\".format(average_time_per_iteration))\n",
        "print(\"Total Time for All Iterations: {:.4f} seconds\".format(total_time))\n",
        "\n",
        "# Divide required items from the dataset to show them only\n",
        "melted_data = test_df.melt(id_vars=[\"Filename\", \"Time_Per_Iteration\"],\n",
        "                           value_vars=[\"IoU_Score\", \"F1_Score\", \"Precision\", \"Recall\", \"Accuracy\"],\n",
        "                           var_name=\"Types of Metrics\", value_name=\"Score\")\n",
        "\n",
        "sns.set(style=\"whitegrid\")\n",
        "\n",
        "plt.figure(figsize=(20, 6))\n",
        "sns.violinplot(x=\"Types of Metrics\", y=\"Score\", data=melted_data,\n",
        "               inner=\"quartile\", linewidth=1, width=1,\n",
        "               order=[\"IoU_Score\", \"F1_Score\", \"Precision\", \"Recall\", \"Accuracy\"])\n",
        "\n",
        "# Remove side boundaries\n",
        "sns.despine(left=True)\n",
        "plt.show()"
      ],
      "metadata": {
        "id": "qrqqMMnbo8XD"
      },
      "execution_count": null,
      "outputs": []
    },
    {
      "cell_type": "markdown",
      "source": [
        "### 7.4 Illustrate predictions"
      ],
      "metadata": {
        "id": "k0ieneaipg1A"
      }
    },
    {
      "cell_type": "code",
      "source": [
        "# Choose index\n",
        "index = 0\n",
        "if index < 0 or index >= len(test_df):\n",
        "    raise(\"Index out of range.\")\n",
        "\n",
        "# Extract data\n",
        "data_row = test_df.iloc[index]\n",
        "filename = data_row[\"Filename\"]\n",
        "rle = data_row['rle']\n",
        "results = {\n",
        "    \"Loss\": data_row[\"Loss\"],\n",
        "    \"Time_Per_Iteration\": data_row[\"Time_Per_Iteration\"],\n",
        "    \"IoU_Score\": data_row[\"IoU_Score\"],\n",
        "    \"F1_Score\": data_row[\"F1_Score\"],\n",
        "    \"Precision\": data_row[\"Precision\"],\n",
        "    \"Recall\": data_row[\"Recall\"],\n",
        "    \"Accuracy\": data_row[\"Accuracy\"],\n",
        "}\n",
        "\n",
        "# Get images\n",
        "original_image = io.imread(os.path.join(CFG.TRAIN_DATASET_DIRECTORY, \"images\", filename))\n",
        "label_image = io.imread(os.path.join(CFG.TRAIN_DATASET_DIRECTORY, \"labels\", filename))\n",
        "predicted_mask = rle_decode(rle, label_image.shape)\n",
        "\n",
        "# Prepare the images and titles for display\n",
        "images = [original_image, label_image, predicted_mask]\n",
        "titles = [\"Original Image\", \"Label\", \"Predicted Mask\"]\n",
        "\n",
        "# Use the display function\n",
        "display_image(images, titles)"
      ],
      "metadata": {
        "id": "_LZZi91epmN_"
      },
      "execution_count": null,
      "outputs": []
    }
  ],
  "metadata": {
    "kernelspec": {
      "display_name": "Python 3",
      "name": "python3"
    },
    "language_info": {
      "codemirror_mode": {
        "name": "ipython",
        "version": 3
      },
      "file_extension": ".py",
      "mimetype": "text/x-python",
      "name": "python",
      "nbconvert_exporter": "python",
      "pygments_lexer": "ipython3",
      "version": "3.11.7"
    },
    "colab": {
      "provenance": [],
      "machine_shape": "hm"
    }
  },
  "nbformat": 4,
  "nbformat_minor": 0
}