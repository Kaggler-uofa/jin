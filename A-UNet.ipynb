{
  "cells": [
    {
      "cell_type": "markdown",
      "metadata": {
        "id": "BjsStU7sO97X"
      },
      "source": [
        "## 0. Setups"
      ]
    },
    {
      "cell_type": "code",
      "source": [
        "from google.colab import drive\n",
        "drive.mount('/content/drive/blood-vessel-segmentation')"
      ],
      "metadata": {
        "id": "ZHkAvD6UPA0v"
      },
      "execution_count": null,
      "outputs": []
    },
    {
      "cell_type": "code",
      "execution_count": null,
      "metadata": {
        "id": "s9h8QL6mO97e"
      },
      "outputs": [],
      "source": [
        "# system and misc\n",
        "import os\n",
        "import time\n",
        "import sys\n",
        "\n",
        "# data manipulation and visualization\n",
        "import numpy as np\n",
        "import pandas\n",
        "import matplotlib.pyplot as plt\n",
        "\n",
        "# image processing\n",
        "from skimage import io, transform, exposure\n",
        "import albumentations as Alb\n",
        "#import tifffile\n",
        "\n",
        "# deep learning\n",
        "import torch\n",
        "import torch.nn as nn\n",
        "import torch.optim as optim\n",
        "from torchinfo import summary\n",
        "from tqdm import tqdm\n",
        "from torch.utils.data import DataLoader, Dataset, random_split\n",
        "#import pretrainedmodels as ptm # pip install pretrainedmodels"
      ]
    },
    {
      "cell_type": "markdown",
      "metadata": {
        "id": "6slFcGI1O97i"
      },
      "source": [
        "## 1. Configuration"
      ]
    },
    {
      "cell_type": "code",
      "execution_count": null,
      "metadata": {
        "id": "SO4w_XQXO97j"
      },
      "outputs": [],
      "source": [
        "class CFG:\n",
        "    \"\"\"\n",
        "    Configuration class for the blood vessel segmentation project.\n",
        "    \"\"\"\n",
        "\n",
        "    # ============== Model Configuration =============\n",
        "    MODEL_NAME = 'Unet'\n",
        "    IN_CHANNEL = 1  # Number of input channels (e.g., 1 for grayscale images)\n",
        "    OUT_CHANNEL = 1 # Number of output channels\n",
        "\n",
        "    # ============== Image Processing Settings =============\n",
        "    INPUT_IMAGE_SIZE = (1024, 1024)  # Size of the input images (height x width)\n",
        "    GAMMA = 1\n",
        "\n",
        "    # =============\n",
        "    # = Training and Validation Parameters =============\n",
        "    DEVICE = \"cuda\" if torch.cuda.is_available() else \"cpu\"\n",
        "    VALID_ID = 1  # ID for validation dataset or fold\n",
        "    BATCH_SIZE = 1  # Batch size for model training\n",
        "    THRESHOLD_PERCENTILE = 0.0014109  # Threshold for post-processing\n",
        "    LEARNING_RATE = 1e-4\n",
        "    NUM_EPOCHS = 50\n",
        "    NUM_WORKERS = 0 # Number of threds\n",
        "    TRAIN_TEST_SPLIT_RATIO = 0.2 # for test subset\n",
        "\n",
        "    # ============== Model Paths =============\n",
        "    # List of paths to trained model weights\n",
        "    MODEL_PATHS = [\n",
        "        \"/path/to/model1.pt\",\n",
        "        \"/path/to/model2.pt\",\n",
        "        # Add more model paths as needed\n",
        "    ]\n",
        "\n",
        "    # ============== Data Paths =============\n",
        "    DATASET_NAME = \"kidney_1_dense\"\n",
        "    DATASET_DIRECTORY = os.path.join(\".\", \"blood-vessel-segmentation\")\n",
        "    TRAIN_DATASET_DIRECTORY = os.path.join(DATASET_DIRECTORY, \"train\", DATASET_NAME)\n",
        "    TEST_DATASET_DIRECTORY = os.path.join(DATASET_DIRECTORY, \"test\", DATASET_NAME)"
      ]
    },
    {
      "cell_type": "markdown",
      "metadata": {
        "id": "2nVqSR5cO97k"
      },
      "source": [
        "## 2. Load Dataset"
      ]
    },
    {
      "cell_type": "markdown",
      "metadata": {
        "id": "bkJkGNPgO97k"
      },
      "source": [
        "### 2,1 Custom Dataset Class"
      ]
    },
    {
      "cell_type": "code",
      "execution_count": null,
      "metadata": {
        "id": "nuFlk052O97k"
      },
      "outputs": [],
      "source": [
        "class CustomDataset(Dataset):\n",
        "    def __init__(self, image_path, mask_path=None, target_image_size=(512, 512), convert_size=True, gamma=1, image_format=\".tif\"):\n",
        "        # File IO\n",
        "        self.image_path = image_path\n",
        "        self.image_format = image_format\n",
        "        self.image_filenames = sorted([os.path.join(image_path, filename) for filename in os.listdir(image_path) if filename.endswith(self.image_format)])\n",
        "        print(f\"{len(self.image_filenames)} samples are loaded.\")\n",
        "\n",
        "        # If masks (labels) are given\n",
        "        self.mask_path = mask_path\n",
        "        if self.mask_path:\n",
        "            self.mask_filenames = sorted([os.path.join(self.mask_path, filename) for filename in os.listdir(self.mask_path) if filename.endswith(self.image_format)])\n",
        "            if not len(self.mask_filenames) == len(self.image_filenames):\n",
        "                raise(f\"Number of images and labels are not matched: {len(self.image_filenames)} images and {len(self.mask_filenames)} labels.\")\n",
        "            print(f\"{len(self.mask_filenames)} labels are loaded.\")\n",
        "\n",
        "        # Image processing\n",
        "        self.target_image_size = target_image_size\n",
        "        self.convert_size = convert_size\n",
        "        self.gamma = gamma\n",
        "\n",
        "        # Process and print the size of the first image if convert_size is True\n",
        "        if self.convert_size and len(self.image_filenames) > 0:\n",
        "            first_image = io.imread(self.image_filenames[0])\n",
        "            resized_image = self.resize_and_pad(first_image, self.target_image_size)\n",
        "            print(f\"Original size: {first_image.shape}, Converted size: {resized_image.shape}\")\n",
        "\n",
        "    def __getitem__(self, index):\n",
        "        # Load image\n",
        "        image = io.imread(self.image_filenames[index])\n",
        "\n",
        "        # Resize and pad the image if convert_size is True\n",
        "        if self.convert_size:\n",
        "            image = self.resize_and_pad(image, self.target_image_size)\n",
        "\n",
        "        # Extract the filename\n",
        "        image_filename = os.path.basename(self.image_filenames[index])\n",
        "\n",
        "        # If masks (labels) are given\n",
        "        if self.mask_path:\n",
        "            mask = io.imread(self.mask_filenames[index])\n",
        "            mask = self.resize_and_pad(mask, self.target_image_size, gamma=1) # mask containing 0s and 1s only.\n",
        "            return image, mask, image_filename\n",
        "\n",
        "        return image, image_filename\n",
        "\n",
        "    def __len__(self):\n",
        "        return len(self.image_filenames)\n",
        "\n",
        "    def resize_and_pad(self, image, target_image_size, gamma=3):\n",
        "        \"\"\"Resize an image, apply gamma correction, and add padding to keep aspect ratio.\"\"\"\n",
        "        # Calculate scale and padding\n",
        "        h, w = image.shape[:2]\n",
        "        scale = min(target_image_size[0] / h, target_image_size[1] / w)\n",
        "        new_h, new_w = int(h * scale), int(w * scale)\n",
        "        pad_h = (target_image_size[0] - new_h) // 2\n",
        "        pad_w = (target_image_size[1] - new_w) // 2\n",
        "\n",
        "        # Resize image with 'constant' mode to keep original pixel values\n",
        "        image_resized = transform.resize(\n",
        "            image,\n",
        "            (new_h, new_w),\n",
        "            mode='constant',\n",
        "            anti_aliasing=True,\n",
        "            preserve_range = True, # preserve the original image's intensity range\n",
        "            order=1\n",
        "        )\n",
        "\n",
        "        # Apply gamma correction to adjust brightness\n",
        "        if not self.gamma == 1:\n",
        "            image_resized = exposure.adjust_gamma(image_resized, gamma)\n",
        "\n",
        "        # Add a channel dimension to grayscale images if necessary\n",
        "        if len(image.shape) == 2:  # Grayscale image\n",
        "            image_resized = image_resized[..., np.newaxis]\n",
        "\n",
        "        # Initialize padded image\n",
        "        padded_image = np.zeros((target_image_size[0], target_image_size[1], image_resized.shape[2]), dtype=image_resized.dtype)\n",
        "\n",
        "        # Insert the resized and adjusted image into the padded image\n",
        "        padded_image[pad_h:pad_h+new_h, pad_w:pad_w+new_w, :] = image_resized\n",
        "\n",
        "        return padded_image"
      ]
    },
    {
      "cell_type": "markdown",
      "metadata": {
        "id": "gSm_tfuYO97l"
      },
      "source": [
        "### 2.2 Display Function"
      ]
    },
    {
      "cell_type": "code",
      "execution_count": null,
      "metadata": {
        "id": "tDzMcmlzO97m"
      },
      "outputs": [],
      "source": [
        "def display_image(images, titles=None, max_cols=4):\n",
        "    # Wrap single image in a list\n",
        "    if not isinstance(images, list):\n",
        "        images = [images]\n",
        "        titles = [titles] if titles is not None else titles\n",
        "\n",
        "    if titles is not None and not isinstance(titles, list):\n",
        "        raise TypeError(\"Titles should be provided as a list or a single title for a single image.\")\n",
        "\n",
        "    if titles and len(images) != len(titles):\n",
        "        raise ValueError(\"Every image should have a corresponding title.\")\n",
        "\n",
        "    num_images = len(images)\n",
        "    cols = min(num_images, max_cols)\n",
        "    rows = num_images // cols + (num_images % cols > 0)\n",
        "    fig, axes = plt.subplots(rows, cols, figsize=(cols * 4, rows * 4))\n",
        "    if rows == 1 or cols == 1:\n",
        "        axes = np.array([axes])\n",
        "\n",
        "    axes = axes.flatten()[:num_images]  # Limit to the number of images to avoid blank subplots\n",
        "\n",
        "    for ax, img, title in zip(axes, images, titles or [None]*num_images):\n",
        "        if isinstance(img, torch.Tensor):\n",
        "            img = img.cpu().numpy()\n",
        "            if img.ndim == 3 and img.shape[0] in [1, 3, 4]:\n",
        "                img = img.transpose(1, 2, 0)\n",
        "            if img.ndim == 3 and img.shape[2] == 1:\n",
        "                img = img.squeeze(2)\n",
        "\n",
        "        ax.imshow(img, cmap='gray')\n",
        "        if title:\n",
        "            ax.set_title(title)\n",
        "        ax.axis('off')\n",
        "\n",
        "    plt.tight_layout()\n",
        "    plt.show()"
      ]
    },
    {
      "cell_type": "markdown",
      "metadata": {
        "id": "A1MHUoGcO97m"
      },
      "source": [
        "### 2.3 Load Dataset and Display Sample Image"
      ]
    },
    {
      "cell_type": "code",
      "execution_count": null,
      "metadata": {
        "id": "y_g9PuEFO97n",
        "outputId": "918f9e7e-3bff-4bb4-b09d-422d9d0fc0a0"
      },
      "outputs": [
        {
          "name": "stdout",
          "output_type": "stream",
          "text": [
            "2279 samples are loaded.\n",
            "2279 labels are loaded.\n",
            "Original size: (1303, 912), Converted size: (1024, 1024, 1)\n"
          ]
        }
      ],
      "source": [
        "image_path = os.path.join(CFG.TRAIN_DATASET_DIRECTORY, \"images\")\n",
        "mask_path = os.path.join(CFG.TRAIN_DATASET_DIRECTORY, \"labels\")\n",
        "dataset = CustomDataset(image_path, mask_path, target_image_size=CFG.INPUT_IMAGE_SIZE, gamma=CFG.GAMMA)\n"
      ]
    },
    {
      "cell_type": "code",
      "execution_count": null,
      "metadata": {
        "id": "BPrhRq8-O97p",
        "outputId": "0d51e7e5-471c-4dda-f5de-9b0f665bb545"
      },
      "outputs": [
        {
          "data": {
            "image/png": "[encoded data removed]",
            "text/plain": [
              "<Figure size 1200x400 with 3 Axes>"
            ]
          },
          "metadata": {},
          "output_type": "display_data"
        }
      ],
      "source": [
        "index = 600\n",
        "original_image = io.imread(os.path.join(CFG.TRAIN_DATASET_DIRECTORY, \"images\", dataset[index][2]))\n",
        "display_image([original_image, dataset[index][0], dataset[index][1]], [f\"Image {dataset[index][2]}\", \"Processed\", f\"Mask {dataset[index][2]}\"])"
      ]
    },
    {
      "cell_type": "markdown",
      "metadata": {
        "id": "InpGobwLO97p"
      },
      "source": [
        "### 2.4 Train-Test-Split and DataLoader"
      ]
    },
    {
      "cell_type": "code",
      "execution_count": null,
      "metadata": {
        "id": "rOXmO43UO97q"
      },
      "outputs": [],
      "source": [
        "# Calculate the sizes of train and test sets\n",
        "total_size = len(dataset)\n",
        "test_size = int(total_size * CFG.TRAIN_TEST_SPLIT_RATIO)\n",
        "train_size = total_size - test_size\n",
        "\n",
        "# Split the dataset into train and test datasets\n",
        "train_dataset, test_dataset = random_split(dataset, [train_size, test_size])\n",
        "\n",
        "# Further split the train dataset into train and validation datasets\n",
        "val_size = int(train_size * CFG.TRAIN_TEST_SPLIT_RATIO)\n",
        "new_train_size = train_size - val_size\n",
        "train_dataset, val_dataset = random_split(train_dataset, [new_train_size, val_size])\n",
        "\n",
        "# Create DataLoaders for train, validation, and test datasets\n",
        "train_loader = DataLoader(train_dataset, batch_size=CFG.BATCH_SIZE, shuffle=True, num_workers=CFG.NUM_WORKERS)\n",
        "val_loader = DataLoader(val_dataset, batch_size=CFG.BATCH_SIZE, shuffle=False, num_workers=CFG.NUM_WORKERS)\n",
        "test_loader = DataLoader(test_dataset, batch_size=CFG.BATCH_SIZE, shuffle=False, num_workers=CFG.NUM_WORKERS)"
      ]
    },
    {
      "cell_type": "markdown",
      "metadata": {
        "id": "NcRDptV4O97q"
      },
      "source": [
        "## 3. Image Augmentation"
      ]
    },
    {
      "cell_type": "code",
      "execution_count": null,
      "metadata": {
        "id": "6l0cG81PO97r"
      },
      "outputs": [],
      "source": [
        "def Augement_image(image, mask):\n",
        "\n",
        "    image_dense = torch.from_numpy(image.astype(np.float32))\n",
        "    mask_dense = torch.from_numpy(mask.astype(np.float32))\n",
        "\n",
        "    if len(image_dense.shape) == 2:\n",
        "        image_dense = image_dense.unsqueeze(0)\n",
        "\n",
        "    image_np = image_dense.permute(1, 2, 0).numpy()\n",
        "    mask_np = mask_dense.numpy()\n",
        "\n",
        "    image_list = [None, None, None, None]\n",
        "    mask_list = [None, None, None, None]\n",
        "\n",
        "    transform_rotate_90 = Alb.Compose([\n",
        "        Alb.Rotate(limit=90, p=0.5)\n",
        "    ])\n",
        "\n",
        "    # Original image\n",
        "    image_list[0] = image_np\n",
        "    mask_list[0] = mask_np\n",
        "\n",
        "    # Original image with 90-degree rotation\n",
        "    augmented_rotate_90 = transform_rotate_90(image=image_np, mask=mask_np)\n",
        "    image_list[1], mask_list[1] = augmented_rotate_90['image'], augmented_rotate_90['mask']\n",
        "\n",
        "    # Original image with 180-degree rotation\n",
        "    augmented_rotate_180 = transform_rotate_90(image=image_list[1], mask=mask_list[1])\n",
        "    image_list[2], mask_list[2] = augmented_rotate_180['image'], augmented_rotate_180['mask']\n",
        "\n",
        "    # Original image with 270-degree rotation\n",
        "    augmented_rotate_270 = transform_rotate_90(image=image_list[2], mask=mask_list[2])\n",
        "    image_list[3], mask_list[3] = augmented_rotate_270['image'], augmented_rotate_270['mask']\n",
        "\n",
        "    # Making the mask dimentions 3\n",
        "    for i in range(4):\n",
        "        if mask_list[i].ndim == 2:\n",
        "            mask_list[i] = mask_list[i][..., np.newaxis]\n",
        "\n",
        "    augmented_data_zip = list(zip(*[image_list, mask_list]))\n",
        "\n",
        "    return augmented_data_zip"
      ]
    },
    {
      "cell_type": "markdown",
      "metadata": {
        "id": "KJfXpgldO97s"
      },
      "source": [
        "![image.png](attachment:image.png)"
      ]
    },
    {
      "cell_type": "markdown",
      "metadata": {
        "id": "VBcDTHNxO97s"
      },
      "source": [
        "## 4. Model"
      ]
    },
    {
      "cell_type": "code",
      "execution_count": null,
      "metadata": {
        "id": "5o3Y5SrWO97s"
      },
      "outputs": [],
      "source": [
        "# SSL certificate expired for se_resnext50_32x4d encoder\n",
        "import ssl\n",
        "ssl._create_default_https_context = ssl._create_unverified_context"
      ]
    },
    {
      "cell_type": "markdown",
      "metadata": {
        "id": "fj4Ansz3O97t"
      },
      "source": [
        "### 4.1 Attention U-Net ResNext50 32x4d"
      ]
    },
    {
      "cell_type": "code",
      "execution_count": null,
      "metadata": {
        "id": "u7oDYCErO97t"
      },
      "outputs": [],
      "source": [
        "class conv_block(nn.Module):\n",
        "    def __init__(self, in_c, out_c):\n",
        "        super().__init__()\n",
        "\n",
        "        self.conv = nn.Sequential(\n",
        "            nn.Conv2d(in_c, out_c, kernel_size=3, padding=1),\n",
        "            nn.BatchNorm2d(out_c),\n",
        "            nn.ReLU(inplace=True),\n",
        "            nn.Conv2d(out_c, out_c, kernel_size=3, padding=1),\n",
        "            nn.BatchNorm2d(out_c),\n",
        "            nn.ReLU(inplace=True)\n",
        "        )\n",
        "\n",
        "    def forward(self, x):\n",
        "        return self.conv(x)\n",
        "\n",
        "class encoder_block(nn.Module):\n",
        "    def __init__(self, in_c, out_c):\n",
        "        super().__init__()\n",
        "\n",
        "        self.conv = conv_block(in_c, out_c)\n",
        "        self.pool = nn.MaxPool2d((2, 2))\n",
        "\n",
        "    def forward(self, x):\n",
        "        s = self.conv(x)\n",
        "        p = self.pool(s)\n",
        "        return s, p\n",
        "\n",
        "class attention_gate(nn.Module):\n",
        "    def __init__(self, in_c, out_c):\n",
        "        super().__init__()\n",
        "\n",
        "        self.Wg = nn.Sequential(\n",
        "            nn.Conv2d(in_c[0], out_c, kernel_size=1, padding=0),\n",
        "            nn.BatchNorm2d(out_c)\n",
        "        )\n",
        "        self.Ws = nn.Sequential(\n",
        "            nn.Conv2d(in_c[1], out_c, kernel_size=1, padding=0),\n",
        "            nn.BatchNorm2d(out_c)\n",
        "        )\n",
        "        self.relu = nn.ReLU(inplace=True)\n",
        "        self.output = nn.Sequential(\n",
        "            nn.Conv2d(out_c, out_c, kernel_size=1, padding=0),\n",
        "            nn.Sigmoid()\n",
        "        )\n",
        "\n",
        "    def forward(self, g, s):\n",
        "        Wg = self.Wg(g)\n",
        "        Ws = self.Ws(s)\n",
        "        out = self.relu(Wg + Ws)\n",
        "        out = self.output(out)\n",
        "        return out * s\n",
        "\n",
        "class decoder_block(nn.Module):\n",
        "    def __init__(self, in_c, out_c):\n",
        "        super().__init__()\n",
        "\n",
        "        self.up = nn.Upsample(scale_factor=2, mode=\"bilinear\", align_corners=True)\n",
        "        self.ag = attention_gate(in_c, out_c)\n",
        "        self.c1 = conv_block(in_c[0]+out_c, out_c)\n",
        "\n",
        "    def forward(self, x, s):\n",
        "        x = self.up(x)\n",
        "        s = self.ag(x, s)\n",
        "        x = torch.cat([x, s], axis=1)\n",
        "        x = self.c1(x)\n",
        "        return x\n",
        "\n",
        "class attention_unet(nn.Module):\n",
        "    def __init__(self):\n",
        "        super().__init__()\n",
        "\n",
        "        self.e1 = encoder_block(1, 64)  # Adjusted for 1 input channel\n",
        "        self.e2 = encoder_block(64, 128)\n",
        "        self.e3 = encoder_block(128, 256)\n",
        "        # Add more encoder blocks if needed to accommodate the larger input size\n",
        "\n",
        "        self.b1 = conv_block(256, 512)\n",
        "\n",
        "        self.d1 = decoder_block([512, 256], 256)\n",
        "        self.d2 = decoder_block([256, 128], 128)\n",
        "        self.d3 = decoder_block([128, 64], 64)\n",
        "        # Add more decoder blocks symmetrically if more encoder blocks are added\n",
        "\n",
        "        self.output = nn.Conv2d(64, 1, kernel_size=1, padding=0)  # Output for 1 channel\n",
        "\n",
        "    def forward(self, x):\n",
        "        s1, p1 = self.e1(x)\n",
        "        s2, p2 = self.e2(p1)\n",
        "        s3, p3 = self.e3(p2)\n",
        "\n",
        "        b1 = self.b1(p3)\n",
        "\n",
        "        d1 = self.d1(b1, s3)\n",
        "        d2 = self.d2(d1, s2)\n",
        "        d3 = self.d3(d2, s1)\n",
        "\n",
        "        output = self.output(d3)\n",
        "        return output"
      ]
    },
    {
      "cell_type": "markdown",
      "metadata": {
        "id": "46s4ZTqoO97u"
      },
      "source": [
        "### 4.2 Model Summary"
      ]
    },
    {
      "cell_type": "code",
      "execution_count": null,
      "metadata": {
        "id": "j_glN8QfO97u",
        "outputId": "e46dceab-7b17-4dd3-c643-5170806593b2"
      },
      "outputs": [
        {
          "data": {
            "text/plain": [
              "==========================================================================================\n",
              "Layer (type:depth-idx)                   Output Shape              Param #\n",
              "==========================================================================================\n",
              "attention_unet                           [1, 1, 1024, 1024]        --\n",
              "├─encoder_block: 1-1                     [1, 64, 1024, 1024]       --\n",
              "│    └─conv_block: 2-1                   [1, 64, 1024, 1024]       --\n",
              "│    │    └─Sequential: 3-1              [1, 64, 1024, 1024]       37,824\n",
              "│    └─MaxPool2d: 2-2                    [1, 64, 512, 512]         --\n",
              "├─encoder_block: 1-2                     [1, 128, 512, 512]        --\n",
              "│    └─conv_block: 2-3                   [1, 128, 512, 512]        --\n",
              "│    │    └─Sequential: 3-2              [1, 128, 512, 512]        221,952\n",
              "│    └─MaxPool2d: 2-4                    [1, 128, 256, 256]        --\n",
              "├─encoder_block: 1-3                     [1, 256, 256, 256]        --\n",
              "│    └─conv_block: 2-5                   [1, 256, 256, 256]        --\n",
              "│    │    └─Sequential: 3-3              [1, 256, 256, 256]        886,272\n",
              "│    └─MaxPool2d: 2-6                    [1, 256, 128, 128]        --\n",
              "├─conv_block: 1-4                        [1, 512, 128, 128]        --\n",
              "│    └─Sequential: 2-7                   [1, 512, 128, 128]        --\n",
              "│    │    └─Conv2d: 3-4                  [1, 512, 128, 128]        1,180,160\n",
              "│    │    └─BatchNorm2d: 3-5             [1, 512, 128, 128]        1,024\n",
              "│    │    └─ReLU: 3-6                    [1, 512, 128, 128]        --\n",
              "│    │    └─Conv2d: 3-7                  [1, 512, 128, 128]        2,359,808\n",
              "│    │    └─BatchNorm2d: 3-8             [1, 512, 128, 128]        1,024\n",
              "│    │    └─ReLU: 3-9                    [1, 512, 128, 128]        --\n",
              "├─decoder_block: 1-5                     [1, 256, 256, 256]        --\n",
              "│    └─Upsample: 2-8                     [1, 512, 256, 256]        --\n",
              "│    └─attention_gate: 2-9               [1, 256, 256, 256]        --\n",
              "│    │    └─Sequential: 3-10             [1, 256, 256, 256]        131,840\n",
              "│    │    └─Sequential: 3-11             [1, 256, 256, 256]        66,304\n",
              "│    │    └─ReLU: 3-12                   [1, 256, 256, 256]        --\n",
              "│    │    └─Sequential: 3-13             [1, 256, 256, 256]        65,792\n",
              "│    └─conv_block: 2-10                  [1, 256, 256, 256]        --\n",
              "│    │    └─Sequential: 3-14             [1, 256, 256, 256]        2,360,832\n",
              "├─decoder_block: 1-6                     [1, 128, 512, 512]        --\n",
              "│    └─Upsample: 2-11                    [1, 256, 512, 512]        --\n",
              "│    └─attention_gate: 2-12              [1, 128, 512, 512]        --\n",
              "│    │    └─Sequential: 3-15             [1, 128, 512, 512]        33,152\n",
              "│    │    └─Sequential: 3-16             [1, 128, 512, 512]        16,768\n",
              "│    │    └─ReLU: 3-17                   [1, 128, 512, 512]        --\n",
              "│    │    └─Sequential: 3-18             [1, 128, 512, 512]        16,512\n",
              "│    └─conv_block: 2-13                  [1, 128, 512, 512]        --\n",
              "│    │    └─Sequential: 3-19             [1, 128, 512, 512]        590,592\n",
              "├─decoder_block: 1-7                     [1, 64, 1024, 1024]       --\n",
              "│    └─Upsample: 2-14                    [1, 128, 1024, 1024]      --\n",
              "│    └─attention_gate: 2-15              [1, 64, 1024, 1024]       --\n",
              "│    │    └─Sequential: 3-20             [1, 64, 1024, 1024]       8,384\n",
              "│    │    └─Sequential: 3-21             [1, 64, 1024, 1024]       4,288\n",
              "│    │    └─ReLU: 3-22                   [1, 64, 1024, 1024]       --\n",
              "│    │    └─Sequential: 3-23             [1, 64, 1024, 1024]       4,160\n",
              "│    └─conv_block: 2-16                  [1, 64, 1024, 1024]       --\n",
              "│    │    └─Sequential: 3-24             [1, 64, 1024, 1024]       147,840\n",
              "├─Conv2d: 1-8                            [1, 1, 1024, 1024]        65\n",
              "==========================================================================================\n",
              "Total params: 8,134,593\n",
              "Trainable params: 8,134,593\n",
              "Non-trainable params: 0\n",
              "Total mult-adds (Units.GIGABYTES): 729.51\n",
              "==========================================================================================\n",
              "Input size (MB): 4.19\n",
              "Forward/backward pass size (MB): 12490.64\n",
              "Params size (MB): 32.54\n",
              "Estimated Total Size (MB): 12527.37\n",
              "=========================================================================================="
            ]
          },
          "execution_count": 31,
          "metadata": {},
          "output_type": "execute_result"
        }
      ],
      "source": [
        "model = attention_unet()\n",
        "# summary(model, input_size = (CFG.BATCH_SIZE, 1, CFG.INPUT_IMAGE_SIZE[0], CFG.INPUT_IMAGE_SIZE[1]))\n",
        "summary(model, input_size = (1, 1, CFG.INPUT_IMAGE_SIZE[0], CFG.INPUT_IMAGE_SIZE[1]))"
      ]
    },
    {
      "cell_type": "markdown",
      "metadata": {
        "id": "9BTg8tMyO97v"
      },
      "source": [
        "## 5. Evaluation"
      ]
    },
    {
      "cell_type": "code",
      "execution_count": null,
      "metadata": {
        "id": "Vhd6prYmO97v"
      },
      "outputs": [],
      "source": [
        "# ref.: https://www.kaggle.com/stainsby/fast-tested-rle\n",
        "def rle_encode(img):\n",
        "    '''\n",
        "    img: numpy array, 1 - mask, 0 - background\n",
        "    Returns run length as string formated\n",
        "    '''\n",
        "    pixels = img.flatten()\n",
        "    pixels = np.concatenate([[0], pixels, [0]])\n",
        "    runs = np.where(pixels[1:] != pixels[:-1])[0] + 1\n",
        "    runs[1::2] -= runs[::2]\n",
        "    return ' '.join(str(x) for x in runs)\n",
        "\n",
        "def rle_decode(mask_rle, shape):\n",
        "    '''\n",
        "    mask_rle: run-length as string formated (start length)\n",
        "    shape: (height,width) of array to return\n",
        "    Returns numpy array, 1 - mask, 0 - background\n",
        "\n",
        "    '''\n",
        "    s = mask_rle.split()\n",
        "    starts, lengths = [np.asarray(x, dtype=int) for x in (s[0:][::2], s[1:][::2])]\n",
        "    starts -= 1\n",
        "    ends = starts + lengths\n",
        "    img = np.zeros(shape[0]*shape[1], dtype=np.uint8)\n",
        "    for lo, hi in zip(starts, ends):\n",
        "        img[lo:hi] = 1\n",
        "    return img.reshape(shape)"
      ]
    },
    {
      "cell_type": "markdown",
      "metadata": {
        "id": "xB8jgiHKO97w"
      },
      "source": [
        "### 5.1 Run-Length Encode and Decode\n",
        "\n",
        "Run-Length Encoding (RLE) is a simple form of data compression where runs of data (i.e., sequences in which the same data value occurs in many consecutive data elements) are stored as a single data value and count. It is particularly effective for data with many such runs, as it can significantly reduce the size of the data.\n",
        "\n",
        "In the context of image segmentation, such as in a Kaggle competition for blood vessel segmentation from CT images, RLE is often used to encode binary masks. In a binary mask, each pixel is either part of the object of interest (e.g., a blood vessel) or the background. RLE can efficiently represent these masks, especially when large regions of pixels are the same (all vessel or all background).\n",
        "\n",
        "The encoding typically works as follows:\n",
        "\n",
        "1. The binary mask is flattened into a one-dimensional array (e.g., by taking each row of pixels in turn).\n",
        "2. The algorithm goes through this array and counts the number of consecutive pixels with the same value.\n",
        "3. Each run of pixels is then represented by two numbers: the start position in the flattened array and the length of the run.\n",
        "\n",
        "For example, the array <code>[0, 0, 1, 1, 1, 0, 0]</code> would be encoded as <code>[2, 3]</code> in RLE, meaning that starting from the third element, there are three consecutive 1s."
      ]
    },
    {
      "cell_type": "markdown",
      "metadata": {
        "id": "47f9Ox7jO97w"
      },
      "source": [
        "### 5.2 Loss Functions"
      ]
    },
    {
      "cell_type": "markdown",
      "metadata": {
        "id": "lPmlLv77O97w"
      },
      "source": [
        "#### 5.2.1. DICE Loss\n",
        "Dice loss is particularly useful for data with imbalanced classes. It measures the overlap between the predicted segmentation and the ground truth."
      ]
    },
    {
      "cell_type": "code",
      "execution_count": null,
      "metadata": {
        "id": "tr9xF-yVO97x"
      },
      "outputs": [],
      "source": [
        "class DiceLoss(nn.Module):\n",
        "    def forward(self, inputs, targets, smooth=1):\n",
        "        inputs = inputs.sigmoid()\n",
        "        intersection = (inputs * targets).sum()\n",
        "        dice = (2.*intersection + smooth)/(inputs.sum() + targets.sum() + smooth)\n",
        "        return 1 - dice"
      ]
    },
    {
      "cell_type": "markdown",
      "metadata": {
        "id": "8bt2h7S4O97x"
      },
      "source": [
        "#### 5.2.2. Jaccard/Intersection over Union (IoU) Loss\n",
        "Similar to Dice loss, IoU is another common metric for the evaluation of object detection algorithms, such as image segmentation."
      ]
    },
    {
      "cell_type": "code",
      "execution_count": null,
      "metadata": {
        "id": "QARq9HkQO97x"
      },
      "outputs": [],
      "source": [
        "class IoULoss(nn.Module):\n",
        "    def forward(self, inputs, targets, smooth=1):\n",
        "        inputs = inputs.sigmoid()\n",
        "        intersection = (inputs * targets).sum()\n",
        "        total = (inputs + targets).sum()\n",
        "        union = total - intersection\n",
        "        IoU = (intersection + smooth) / (union + smooth)\n",
        "        return 1 - IoU"
      ]
    },
    {
      "cell_type": "markdown",
      "metadata": {
        "id": "rQ6FjS1gO97x"
      },
      "source": [
        "#### 5.2.3 Focal Loss\n",
        "This loss function is designed to address class imbalance by down-weighting well-classified examples."
      ]
    },
    {
      "cell_type": "code",
      "execution_count": null,
      "metadata": {
        "id": "ukJZy80TO97y"
      },
      "outputs": [],
      "source": [
        "class FocalLoss(nn.Module):\n",
        "    def __init__(self, alpha=1, gamma=2, logits=True, reduce=True):\n",
        "        super(FocalLoss, self).__init__()\n",
        "        self.alpha = alpha\n",
        "        self.gamma = gamma\n",
        "        self.logits = logits\n",
        "        self.reduce = reduce\n",
        "\n",
        "    def forward(self, inputs, targets):\n",
        "        if self.logits:\n",
        "            BCE_loss = F.binary_cross_entropy_with_logits(inputs, targets, reduce=False)\n",
        "        else:\n",
        "            BCE_loss = F.binary_cross_entropy(inputs, targets, reduce=False)\n",
        "        pt = torch.exp(-BCE_loss)\n",
        "        F_loss = self.alpha * (1-pt)**self.gamma * BCE_loss\n",
        "\n",
        "        if self.reduce:\n",
        "            return torch.mean(F_loss)\n",
        "        else:\n",
        "            return F_loss"
      ]
    },
    {
      "cell_type": "markdown",
      "metadata": {
        "id": "1fon7TwiO97y"
      },
      "source": [
        "### 5.4 Metrics"
      ]
    },
    {
      "cell_type": "code",
      "execution_count": null,
      "metadata": {
        "id": "6DOOcpJiO97y"
      },
      "outputs": [],
      "source": [
        "def calculate_metrics(y_pred, y_true):\n",
        "    \"\"\"\n",
        "    Calculates IOU, F1 score, precision, recall, and accuracy for U-Net predictions using NumPy.\n",
        "\n",
        "    Arguments:\n",
        "    y_true -- the ground truth labels (a binary array of 0s and 1s)\n",
        "    y_pred -- the predicted labels (a binary array of 0s and 1s)\n",
        "\n",
        "    Returns:\n",
        "    A dictionary containing the IOU, F1 score, precision, recall, and accuracy.\n",
        "    \"\"\"\n",
        "    with torch.no_grad():\n",
        "        # Convert probability output to binary predictions\n",
        "        y_pred = (y_pred > 0.5).float()\n",
        "\n",
        "        # Flatten the arrays\n",
        "        y_true = y_true.detach().cpu().numpy().flatten()\n",
        "        y_pred = y_pred.detach().cpu().numpy().flatten()\n",
        "\n",
        "        # Calculate true positives, false positives, and false negatives\n",
        "        tp = np.sum((y_true == 1) & (y_pred == 1))\n",
        "        fp = np.sum((y_true == 0) & (y_pred == 1))\n",
        "        fn = np.sum((y_true == 1) & (y_pred == 0))\n",
        "\n",
        "        # Very small number to prevent infinity when dividing zero\n",
        "        eps = 1e-8\n",
        "\n",
        "        # Calculate IOU\n",
        "        iou = tp / (tp + fp + fn + eps)\n",
        "\n",
        "        # Calculate precision\n",
        "        precision = tp / (tp + fp + eps)\n",
        "\n",
        "        # Calculate recall\n",
        "        recall = tp / (tp + fn + eps)\n",
        "\n",
        "        # Calculate F1 score\n",
        "        f1_score = 2 * (precision * recall) / (precision + recall + eps)\n",
        "\n",
        "        # Calculate accuracy\n",
        "        accuracy = np.sum(y_true == y_pred) / len(y_true)\n",
        "\n",
        "    # Return a dictionary containing the metrics\n",
        "    metrics = {\"IoU_Score\": iou, \"F1_Score\": f1_score, \"Precision\": precision, \"Recall\": recall, \"Accuracy\": accuracy}\n",
        "    return metrics"
      ]
    },
    {
      "cell_type": "markdown",
      "metadata": {
        "id": "BlwmSu_EO97z"
      },
      "source": [
        "## 6. Train"
      ]
    },
    {
      "cell_type": "markdown",
      "metadata": {
        "id": "r1qr2LJ_O97z"
      },
      "source": [
        "### 6.1 Trainer Class"
      ]
    },
    {
      "cell_type": "code",
      "execution_count": null,
      "metadata": {
        "id": "gkdzB5lIO97z"
      },
      "outputs": [],
      "source": [
        "class Trainer:\n",
        "    def __init__(self, model, train_loader, val_loader, optimizer, criterion, device):\n",
        "        self.model = model\n",
        "        self.train_loader = train_loader\n",
        "        self.val_loader = val_loader\n",
        "        self.optimizer = optimizer\n",
        "        self.criterion = criterion\n",
        "        self.device = device\n",
        "\n",
        "    def train_epoch(self):\n",
        "        self.model.train()\n",
        "        for batch_index, batch in enumerate(tqdm(self.train_loader)):\n",
        "            self.optimizer.zero_grad()\n",
        "            data, target, filename = batch\n",
        "\n",
        "            data = data.to(self.device, dtype=torch.float32).permute(0, 3, 1, 2)\n",
        "            target = target.to(self.device, dtype=torch.float32).permute(0, 3, 1, 2)\n",
        "\n",
        "            # Convert data and target to float\n",
        "            data = data.float()\n",
        "            target = target.float()\n",
        "\n",
        "            output = self.model(data)\n",
        "            train_loss = self.criterion(output, target)\n",
        "            train_loss.backward()\n",
        "            self.optimizer.step()\n",
        "\n",
        "            train_loss += train_loss.item()\n",
        "\n",
        "        train_loss = train_loss/len(train_loader)\n",
        "        return train_loss\n",
        "\n",
        "    def validate(self):\n",
        "        self.model.eval()\n",
        "        val_loss = 0\n",
        "        with torch.no_grad():\n",
        "            for batch_index, batch in enumerate(tqdm(self.val_loader)):\n",
        "                data, target, filename = batch\n",
        "                data = data.to(self.device, dtype=torch.float32).permute(0, 3, 1, 2)\n",
        "                target = target.to(self.device, dtype=torch.float32).permute(0, 3, 1, 2)\n",
        "\n",
        "                # Convert data and target to float\n",
        "                data = data.float()\n",
        "                target = target.float()\n",
        "\n",
        "                output = self.model(data)\n",
        "                val_loss += self.criterion(output, target).item()\n",
        "        return val_loss / len(self.val_loader.dataset)\n",
        "\n",
        "    def train(self, epochs):\n",
        "        for epoch in range(epochs):\n",
        "            self.train_epoch()\n",
        "            val_loss = self.validate()\n",
        "            print(f\"Epoch: {epoch}, Validation Loss: {val_loss}\")"
      ]
    },
    {
      "cell_type": "markdown",
      "metadata": {
        "id": "BrY0FrkMO970"
      },
      "source": [
        "### 6.2 Train Model"
      ]
    },
    {
      "cell_type": "code",
      "execution_count": null,
      "metadata": {
        "id": "jWoD6hSWO98C",
        "outputId": "7d8026f2-7972-45ca-874b-67a7955f7878"
      },
      "outputs": [
        {
          "name": "stderr",
          "output_type": "stream",
          "text": [
            "  0%|          | 7/1460 [08:47<29:40:09, 73.51s/it]"
          ]
        }
      ],
      "source": [
        "trainer = Trainer(model,\n",
        "                  train_loader,\n",
        "                  val_loader,\n",
        "                  optimizer=optim.Adam(model.parameters(),lr=CFG.LEARNING_RATE),\n",
        "                  criterion=DiceLoss(),\n",
        "                  device=CFG.DEVICE\n",
        ")\n",
        "\n",
        "trainer.train(epochs=CFG.NUM_EPOCHS)"
      ]
    },
    {
      "cell_type": "markdown",
      "metadata": {
        "id": "hUaBOvtHO98E"
      },
      "source": [
        "## 7. Test"
      ]
    },
    {
      "cell_type": "code",
      "execution_count": null,
      "metadata": {
        "id": "1W1UvZYfO98H"
      },
      "outputs": [],
      "source": [
        "class Tester:\n",
        "    def __init__(self, model, test_loader, criterion):\n",
        "        self.model = model\n",
        "        self.test_loader = test_loader\n",
        "        self.criterion = criterion\n",
        "\n",
        "    def test(self):\n",
        "        self.model.eval()\n",
        "        test_loss = 0\n",
        "        correct = 0\n",
        "\n",
        "        with torch.no_grad():\n",
        "            for data, target in self.test_loader:\n",
        "                output = self.model(data)\n",
        "                test_loss += self.criterion(output, target).item()\n",
        "                # Add accuracy calculation if applicable\n",
        "\n",
        "        test_loss /= len(self.test_loader.dataset)\n",
        "        print(f\"Test set: Average loss: {test_loss:.4f}\")\n",
        "\n"
      ]
    }
  ],
  "metadata": {
    "kernelspec": {
      "display_name": "Python 3",
      "name": "python3"
    },
    "language_info": {
      "codemirror_mode": {
        "name": "ipython",
        "version": 3
      },
      "file_extension": ".py",
      "mimetype": "text/x-python",
      "name": "python",
      "nbconvert_exporter": "python",
      "pygments_lexer": "ipython3",
      "version": "3.11.7"
    },
    "colab": {
      "provenance": [],
      "gpuType": "T4"
    },
    "accelerator": "GPU"
  },
  "nbformat": 4,
  "nbformat_minor": 0
}