{
 "cells": [
  {
   "cell_type": "markdown",
   "metadata": {},
   "source": [
    "# 0. Setups"
   ]
  },
  {
   "cell_type": "code",
   "execution_count": 152,
   "metadata": {},
   "outputs": [],
   "source": [
    "import os\n",
    "import time\n",
    "import sys\n",
    "\n",
    "import numpy as np\n",
    "import pandas as pd\n",
    "from skimage import io, transform, exposure\n",
    "import matplotlib.pyplot as plt\n",
    "import albumentations as Alb\n",
    "# import tifffile\n",
    "from sklearn.metrics import accuracy_score\n",
    "\n",
    "import torch\n",
    "import torch.nn as nn\n",
    "import torch.optim as optim\n",
    "import torch.nn.functional as F\n",
    "from torch.utils.data import DataLoader, Dataset, Subset, random_split\n",
    "from torchinfo import summary\n",
    "from tqdm import tqdm"
   ]
  },
  {
   "cell_type": "markdown",
   "metadata": {},
   "source": [
    "# 1. Configuration"
   ]
  },
  {
   "cell_type": "code",
   "execution_count": 153,
   "metadata": {},
   "outputs": [],
   "source": [
    "class CFG:\n",
    "    \"\"\"\n",
    "    Configuration class for the blood vessel segmentation project.\n",
    "    \"\"\"\n",
    "    # ============== Data Paths =============\n",
    "    DATASET_NAME = \"kidney_1_dense\"\n",
    "    DATASET_DIRECTORY = os.path.join(\"..\", \"data\")\n",
    "    TRAIN_DATASET_DIRECTORY = os.path.join(DATASET_DIRECTORY, \"train\", DATASET_NAME)\n",
    "    TEST_DATASET_DIRECTORY = os.path.join(DATASET_DIRECTORY, \"test\", DATASET_NAME)\n",
    "\n",
    "    # ============== Model Paths =============\n",
    "    # List of paths to trained model weights\n",
    "    CHECKPOINT_PATH = \"checkpoints\"\n",
    "    TRAINED_MODEL_NAME = f\"{DATASET_NAME}_checkpoint.pth\"\n",
    "\n",
    "    # ============== Model Configuration =============\n",
    "    MODEL_NAME = 'Unet'\n",
    "    BACKBONE = 'se_resnext50_32x4d'\n",
    "    IN_CHANNEL = 1  # Number of input channels (e.g., 1 for grayscale images)\n",
    "    OUT_CHANNEL = 1 # Number of output channels\n",
    "\n",
    "    # ============== Image Processing Settings =============\n",
    "    INPUT_IMAGE_SIZE = (512, 512)  # Size of the input images (height x width)\n",
    "    GAMMA = 1\n",
    "    NUM_IMAGES = 50 # Number of images\n",
    "\n",
    "\n",
    "    # =============Training and Validation Parameters =============\n",
    "    DEVICE = \"cuda\" if torch.cuda.is_available() else \"cpu\"\n",
    "    VALID_ID = 1  # ID for validation dataset or fold\n",
    "    BATCH_SIZE = 1  # Batch size for model training\n",
    "    THRESHOLD_PERCENTILE = 0.0014109  # Threshold for post-processing\n",
    "    LEARNING_RATE = 1e-4\n",
    "    NUM_EPOCHS = 50\n",
    "    NUM_WORKERS = 0 # Number of threds\n",
    "    TRAIN_TEST_SPLIT_RATIO = 0.2 # for test subset\n",
    "    "
   ]
  },
  {
   "cell_type": "markdown",
   "metadata": {},
   "source": [
    "# 2. Load Dataset"
   ]
  },
  {
   "cell_type": "markdown",
   "metadata": {},
   "source": [
    "### 2.1. Custom Dataset Class"
   ]
  },
  {
   "cell_type": "code",
   "execution_count": 154,
   "metadata": {},
   "outputs": [],
   "source": [
    "class CustomDataset(Dataset):\n",
    "    def __init__(self, image_path, mask_path=None, target_image_size=(512, 512), convert_size=True, gamma=1, image_format=\".tif\"):\n",
    "        # File IO\n",
    "        self.image_path = image_path\n",
    "        self.image_format = image_format\n",
    "        self.image_filenames = sorted([os.path.join(self.image_path, filename) for filename in os.listdir(self.image_path) if filename.endswith(self.image_format)])\n",
    "        print(f\"{len(self.image_filenames)} images are loaded.\")\n",
    "\n",
    "        # If masks (labels) are given\n",
    "        self.mask_path = mask_path\n",
    "        if self.mask_path:\n",
    "            self.mask_filenames = sorted([os.path.join(self.mask_path, filename) for filename in os.listdir(self.mask_path) if filename.endswith(self.image_format)])\n",
    "            if not len(self.mask_filenames) == len(self.image_filenames):\n",
    "                raise(f\"Number of images and labels are not matched: {len(self.image_filenames)} images and {len(self.mask_filenames)} labels.\")\n",
    "            print(f\"{len(self.mask_filenames)} labels are loaded.\")\n",
    "\n",
    "        # Image processing\n",
    "        self.target_image_size = target_image_size\n",
    "        self.convert_size = convert_size\n",
    "        self.gamma = gamma\n",
    "\n",
    "        # Process and print the size of the first image if convert_size is True\n",
    "        if self.convert_size and len(self.image_filenames) > 0:\n",
    "            first_image = io.imread(self.image_filenames[0])\n",
    "            resized_image = self.resize_and_pad(first_image, self.target_image_size)\n",
    "            print(f\"Original size: {first_image.shape}, Converted size: {resized_image.shape}\")\n",
    "\n",
    "    def __getitem__(self, index):\n",
    "        # Load image\n",
    "        image = io.imread(self.image_filenames[index])\n",
    "\n",
    "        # Resize and pad the image if convert_size is True\n",
    "        if self.convert_size:\n",
    "            image = self.resize_and_pad(image, self.target_image_size, self.gamma)\n",
    "        \n",
    "        # Extract the filename\n",
    "        image_filename = os.path.basename(self.image_filenames[index])\n",
    "\n",
    "        # If masks (labels) are given\n",
    "        if self.mask_path:\n",
    "            mask = io.imread(self.mask_filenames[index])\n",
    "            mask = self.resize_and_pad(mask, self.target_image_size, gamma=1) # mask containing 0s and 1s only.\n",
    "            return image, mask, image_filename\n",
    "\n",
    "        return image, image_filename\n",
    "\n",
    "    def __len__(self):\n",
    "        return len(self.image_filenames)\n",
    "\n",
    "    def resize_and_pad(self, image, target_image_size, gamma=1):\n",
    "        \"\"\"Resize an image and add padding to keep aspect ratio.\"\"\"\n",
    "        # Calculate scale and padding\n",
    "        h, w = image.shape[:2]\n",
    "        scale = min(target_image_size[0] / h, target_image_size[1] / w)\n",
    "        new_h, new_w = int(h * scale), int(w * scale)\n",
    "        pad_h = (target_image_size[0] - new_h) // 2\n",
    "        pad_w = (target_image_size[1] - new_w) // 2\n",
    "\n",
    "        # Resize image with preserve_range set to True\n",
    "        image_resized = transform.resize(\n",
    "            image,\n",
    "            (new_h, new_w),\n",
    "            anti_aliasing=True,\n",
    "            mode='constant',\n",
    "            preserve_range=True,  # This will preserve the original image's intensity range\n",
    "            order=1\n",
    "        )\n",
    "\n",
    "        # Apply gamma correction to adjust brightness\n",
    "        if not gamma == 1:\n",
    "            image_resized = exposure.adjust_gamma(image_resized, gamma)\n",
    "\n",
    "        # Add a channel dimension to grayscale images if necessary\n",
    "        if len(image.shape) == 2:  # Grayscale image\n",
    "            image_resized = image_resized[..., np.newaxis]\n",
    "\n",
    "        # Initialize padded image\n",
    "        padded_image = np.zeros((target_image_size[0], target_image_size[1], image_resized.shape[2]), dtype=image_resized.dtype)\n",
    "\n",
    "        # Insert the resized image into the padded image\n",
    "        padded_image[pad_h:pad_h+new_h, pad_w:pad_w+new_w, :] = image_resized\n",
    "\n",
    "        return padded_image"
   ]
  },
  {
   "cell_type": "markdown",
   "metadata": {},
   "source": [
    "### 2.2. Display Function"
   ]
  },
  {
   "cell_type": "code",
   "execution_count": 155,
   "metadata": {},
   "outputs": [],
   "source": [
    "def display_image(images, titles=None, max_cols=4):\n",
    "    # Wrap single image in a list\n",
    "    if not isinstance(images, list):\n",
    "        images = [images]\n",
    "        titles = [titles] if titles is not None else titles\n",
    "\n",
    "    if titles is not None and not isinstance(titles, list):\n",
    "        raise TypeError(\"Titles should be provided as a list or a single title for a single image.\")\n",
    "\n",
    "    if titles and len(images) != len(titles):\n",
    "        raise ValueError(\"Every image should have a corresponding title.\")\n",
    "\n",
    "    num_images = len(images)\n",
    "    cols = min(num_images, max_cols)\n",
    "    rows = num_images // cols + (num_images % cols > 0)\n",
    "    fig, axes = plt.subplots(rows, cols, figsize=(cols * 4, rows * 4))\n",
    "    if rows == 1 or cols == 1:\n",
    "        axes = np.array([axes])\n",
    "\n",
    "    axes = axes.flatten()[:num_images]  # Limit to the number of images to avoid blank subplots\n",
    "\n",
    "    for ax, img, title in zip(axes, images, titles or [None]*num_images):\n",
    "        if isinstance(img, torch.Tensor):\n",
    "            img = img.cpu().numpy()\n",
    "            if img.ndim == 3 and img.shape[0] in [1, 3, 4]:\n",
    "                img = img.transpose(1, 2, 0)\n",
    "            if img.ndim == 3 and img.shape[2] == 1:\n",
    "                img = img.squeeze(2)\n",
    "\n",
    "        ax.imshow(img, cmap='gray')\n",
    "        if title:\n",
    "            ax.set_title(title)\n",
    "        ax.axis('off')\n",
    "\n",
    "    plt.tight_layout()\n",
    "    plt.show()"
   ]
  },
  {
   "cell_type": "markdown",
   "metadata": {},
   "source": [
    "### 2.3. Load dataset and display sample image"
   ]
  },
  {
   "cell_type": "code",
   "execution_count": 156,
   "metadata": {},
   "outputs": [
    {
     "name": "stdout",
     "output_type": "stream",
     "text": [
      "2279 images are loaded.\n",
      "2279 labels are loaded.\n",
      "Original size: (1303, 912), Converted size: (512, 512, 1)\n"
     ]
    }
   ],
   "source": [
    "image_path = os.path.join(CFG.TRAIN_DATASET_DIRECTORY, \"images\")\n",
    "mask_path = os.path.join(CFG.TRAIN_DATASET_DIRECTORY, \"labels\")\n",
    "dataset = CustomDataset(image_path, mask_path, target_image_size=CFG.INPUT_IMAGE_SIZE, gamma=CFG.GAMMA)"
   ]
  },
  {
   "cell_type": "code",
   "execution_count": 157,
   "metadata": {},
   "outputs": [
    {
     "data": {
      "image/png": "[encoded data removed]",
      "text/plain": [
       "<Figure size 1200x400 with 3 Axes>"
      ]
     },
     "metadata": {},
     "output_type": "display_data"
    }
   ],
   "source": [
    "index = 600\n",
    "original_image = io.imread(os.path.join(CFG.TRAIN_DATASET_DIRECTORY, \"images\", dataset[index][2]))\n",
    "display_image([original_image, dataset[index][0], dataset[index][1]], [f\"Image {dataset[index][2]}\", \"Processed\", f\"Mask {dataset[index][2]}\"])"
   ]
  },
  {
   "cell_type": "markdown",
   "metadata": {},
   "source": [
    "### 2.4. Train-Test-Split and DataLoader"
   ]
  },
  {
   "cell_type": "code",
   "execution_count": 158,
   "metadata": {},
   "outputs": [],
   "source": [
    "if CFG.NUM_IMAGES:\n",
    "    # Create a subset of the dataset\n",
    "    indices = torch.randperm(len(dataset)).tolist()\n",
    "    subset_indices = indices[:CFG.NUM_IMAGES]\n",
    "    subset_dataset = Subset(dataset, subset_indices)\n",
    "    dataset = subset_dataset\n",
    "\n",
    "# Calculate the sizes of train and test sets\n",
    "total_size = len(dataset)\n",
    "test_size = int(total_size * CFG.TRAIN_TEST_SPLIT_RATIO)\n",
    "train_size = total_size - test_size\n",
    "\n",
    "# Split the dataset into train and test datasets\n",
    "train_dataset, test_dataset = random_split(dataset, [train_size, test_size])\n",
    "\n",
    "# Further split the train dataset into train and validation datasets\n",
    "val_size = int(train_size * CFG.TRAIN_TEST_SPLIT_RATIO)\n",
    "new_train_size = train_size - val_size\n",
    "train_dataset, val_dataset = random_split(train_dataset, [new_train_size, val_size])\n",
    "\n",
    "# Create DataLoaders for train, validation, and test datasets\n",
    "train_loader = DataLoader(train_dataset, batch_size=CFG.BATCH_SIZE, shuffle=True, num_workers=CFG.NUM_WORKERS)\n",
    "val_loader = DataLoader(val_dataset, batch_size=CFG.BATCH_SIZE, shuffle=False, num_workers=CFG.NUM_WORKERS)\n",
    "test_loader = DataLoader(test_dataset, batch_size=CFG.BATCH_SIZE, shuffle=False, num_workers=CFG.NUM_WORKERS)"
   ]
  },
  {
   "cell_type": "markdown",
   "metadata": {},
   "source": [
    "# 3. Image Augmentation"
   ]
  },
  {
   "cell_type": "code",
   "execution_count": 159,
   "metadata": {},
   "outputs": [],
   "source": [
    "def Augement_image(image, mask):\n",
    "\n",
    "    image_dense = torch.from_numpy(image.astype(np.float32))\n",
    "    mask_dense = torch.from_numpy(mask.astype(np.float32))\n",
    "\n",
    "    if len(image_dense.shape) == 2:\n",
    "        image_dense = image_dense.unsqueeze(0)\n",
    "\n",
    "    image_np = image_dense.permute(1, 2, 0).numpy()\n",
    "    mask_np = mask_dense.numpy()\n",
    "\n",
    "    image_list = [None, None, None, None]\n",
    "    mask_list = [None, None, None, None]\n",
    "    \n",
    "    transform_rotate_90 = Alb.Compose([\n",
    "        Alb.Rotate(limit=90, p=0.5)\n",
    "    ])\n",
    "\n",
    "    # Original image\n",
    "    image_list[0] = image_np\n",
    "    mask_list[0] = mask_np\n",
    "\n",
    "    # Original image with 90-degree rotation\n",
    "    augmented_rotate_90 = transform_rotate_90(image=image_np, mask=mask_np)\n",
    "    image_list[1], mask_list[1] = augmented_rotate_90['image'], augmented_rotate_90['mask']\n",
    "\n",
    "    # Original image with 180-degree rotation\n",
    "    augmented_rotate_180 = transform_rotate_90(image=image_list[1], mask=mask_list[1])   \n",
    "    image_list[2], mask_list[2] = augmented_rotate_180['image'], augmented_rotate_180['mask']\n",
    "\n",
    "    # Original image with 270-degree rotation\n",
    "    augmented_rotate_270 = transform_rotate_90(image=image_list[2], mask=mask_list[2])\n",
    "    image_list[3], mask_list[3] = augmented_rotate_270['image'], augmented_rotate_270['mask']\n",
    "\n",
    "    # Making the mask dimentions 3\n",
    "    for i in range(4):\n",
    "        if mask_list[i].ndim == 2:\n",
    "            mask_list[i] = mask_list[i][..., np.newaxis]\n",
    "\n",
    "    augmented_data_zip = list(zip(*[image_list, mask_list]))\n",
    "\n",
    "    return augmented_data_zip"
   ]
  },
  {
   "cell_type": "markdown",
   "metadata": {},
   "source": [
    "# RLE Encoding & Decoding"
   ]
  },
  {
   "cell_type": "code",
   "execution_count": 160,
   "metadata": {},
   "outputs": [],
   "source": [
    "def rle_encode(img):\n",
    "    '''\n",
    "    img: numpy array, 1 - mask, 0 - background\n",
    "    Returns run length as string formated\n",
    "    '''\n",
    "    pixels = img.flatten()\n",
    "    pixels = np.concatenate([[0], pixels, [0]])\n",
    "    runs = np.where(pixels[1:] != pixels[:-1])[0] + 1\n",
    "    runs[1::2] -= runs[::2]\n",
    "    rle = ' '.join(str(x) for x in runs)\n",
    "    if rle == '':\n",
    "        rle = '1 0'\n",
    "    return rle\n",
    "\n",
    "def rle_decode(mask_rle, shape):\n",
    "    '''\n",
    "    mask_rle: run-length as string formated (start length)\n",
    "    shape: (height,width) of array to return \n",
    "    Returns numpy array, 1 - mask, 0 - background\n",
    "    '''\n",
    "    s = mask_rle.split()\n",
    "    starts, lengths = [np.asarray(x, dtype=int) for x in (s[0:][::2], s[1:][::2])]\n",
    "    starts -= 1\n",
    "    ends = starts + lengths\n",
    "    img = np.zeros(shape[0]*shape[1], dtype=np.uint8)\n",
    "    for lo, hi in zip(starts, ends):\n",
    "        img[lo:hi] = 1\n",
    "    return img.reshape(shape)"
   ]
  },
  {
   "cell_type": "markdown",
   "metadata": {},
   "source": [
    "# Model"
   ]
  },
  {
   "cell_type": "markdown",
   "metadata": {},
   "source": [
    "## 1.5 VGG16"
   ]
  },
  {
   "cell_type": "code",
   "execution_count": 161,
   "metadata": {},
   "outputs": [],
   "source": [
    "class VGGBlock(nn.Module):\n",
    "    def __init__(self, in_channels, out_channels, num_conv_layers):\n",
    "        super(VGGBlock, self).__init__()\n",
    "\n",
    "        layers = []\n",
    "        for _ in range(num_conv_layers):\n",
    "            layers.append(nn.Conv2d(in_channels, out_channels, kernel_size=3, padding=1))\n",
    "            layers.append(nn.BatchNorm2d(out_channels))\n",
    "            layers.append(nn.ReLU(inplace=True))\n",
    "            in_channels = out_channels\n",
    "\n",
    "        layers.append(nn.MaxPool2d(kernel_size=2, stride=2))  # Change stride from 2 to 1\n",
    "\n",
    "        self.vgg_block = nn.Sequential(*layers)\n",
    "\n",
    "    def forward(self, x):\n",
    "        return self.vgg_block(x)\n",
    "\n",
    "class VGG16(nn.Module):\n",
    "    def __init__(self, in_channels, num_classes):\n",
    "        super(VGG16, self).__init__()\n",
    "\n",
    "        self.encoder = nn.Sequential(\n",
    "            VGGBlock(in_channels, 64, 2),\n",
    "            VGGBlock(64, 128, 2),\n",
    "            VGGBlock(128, 256, 3),\n",
    "            VGGBlock(256, 512, 3),\n",
    "            VGGBlock(512, 512, 3)\n",
    "        )\n",
    "\n",
    "        self.avg_pool = nn.AdaptiveAvgPool2d((7, 7))\n",
    "        self.fc = nn.Sequential(\n",
    "            nn.Linear(512 * 7 * 7, 4096),\n",
    "            nn.ReLU(inplace=True),\n",
    "            nn.Dropout(),\n",
    "            nn.Linear(4096, 4096),\n",
    "            nn.ReLU(inplace=True),\n",
    "            nn.Dropout(),\n",
    "            nn.Linear(4096, num_classes)\n",
    "        )\n",
    "\n",
    "    def forward(self, x):\n",
    "        x = self.encoder(x)\n",
    "        x = self.avg_pool(x)\n",
    "        x = torch.flatten(x, 1)\n",
    "        x = self.fc(x)\n",
    "        return x"
   ]
  },
  {
   "cell_type": "code",
   "execution_count": 162,
   "metadata": {},
   "outputs": [
    {
     "name": "stdout",
     "output_type": "stream",
     "text": [
      "VGG16(\n",
      "  (encoder): Sequential(\n",
      "    (0): VGGBlock(\n",
      "      (vgg_block): Sequential(\n",
      "        (0): Conv2d(1, 64, kernel_size=(3, 3), stride=(1, 1), padding=(1, 1))\n",
      "        (1): BatchNorm2d(64, eps=1e-05, momentum=0.1, affine=True, track_running_stats=True)\n",
      "        (2): ReLU(inplace=True)\n",
      "        (3): Conv2d(64, 64, kernel_size=(3, 3), stride=(1, 1), padding=(1, 1))\n",
      "        (4): BatchNorm2d(64, eps=1e-05, momentum=0.1, affine=True, track_running_stats=True)\n",
      "        (5): ReLU(inplace=True)\n",
      "        (6): MaxPool2d(kernel_size=2, stride=2, padding=0, dilation=1, ceil_mode=False)\n",
      "      )\n",
      "    )\n",
      "    (1): VGGBlock(\n",
      "      (vgg_block): Sequential(\n",
      "        (0): Conv2d(64, 128, kernel_size=(3, 3), stride=(1, 1), padding=(1, 1))\n",
      "        (1): BatchNorm2d(128, eps=1e-05, momentum=0.1, affine=True, track_running_stats=True)\n",
      "        (2): ReLU(inplace=True)\n",
      "        (3): Conv2d(128, 128, kernel_size=(3, 3), stride=(1, 1), padding=(1, 1))\n",
      "        (4): BatchNorm2d(128, eps=1e-05, momentum=0.1, affine=True, track_running_stats=True)\n",
      "        (5): ReLU(inplace=True)\n",
      "        (6): MaxPool2d(kernel_size=2, stride=2, padding=0, dilation=1, ceil_mode=False)\n",
      "      )\n",
      "    )\n",
      "    (2): VGGBlock(\n",
      "      (vgg_block): Sequential(\n",
      "        (0): Conv2d(128, 256, kernel_size=(3, 3), stride=(1, 1), padding=(1, 1))\n",
      "        (1): BatchNorm2d(256, eps=1e-05, momentum=0.1, affine=True, track_running_stats=True)\n",
      "        (2): ReLU(inplace=True)\n",
      "        (3): Conv2d(256, 256, kernel_size=(3, 3), stride=(1, 1), padding=(1, 1))\n",
      "        (4): BatchNorm2d(256, eps=1e-05, momentum=0.1, affine=True, track_running_stats=True)\n",
      "        (5): ReLU(inplace=True)\n",
      "        (6): Conv2d(256, 256, kernel_size=(3, 3), stride=(1, 1), padding=(1, 1))\n",
      "        (7): BatchNorm2d(256, eps=1e-05, momentum=0.1, affine=True, track_running_stats=True)\n",
      "        (8): ReLU(inplace=True)\n",
      "        (9): MaxPool2d(kernel_size=2, stride=2, padding=0, dilation=1, ceil_mode=False)\n",
      "      )\n",
      "    )\n",
      "    (3): VGGBlock(\n",
      "      (vgg_block): Sequential(\n",
      "        (0): Conv2d(256, 512, kernel_size=(3, 3), stride=(1, 1), padding=(1, 1))\n",
      "        (1): BatchNorm2d(512, eps=1e-05, momentum=0.1, affine=True, track_running_stats=True)\n",
      "        (2): ReLU(inplace=True)\n",
      "        (3): Conv2d(512, 512, kernel_size=(3, 3), stride=(1, 1), padding=(1, 1))\n",
      "        (4): BatchNorm2d(512, eps=1e-05, momentum=0.1, affine=True, track_running_stats=True)\n",
      "        (5): ReLU(inplace=True)\n",
      "        (6): Conv2d(512, 512, kernel_size=(3, 3), stride=(1, 1), padding=(1, 1))\n",
      "        (7): BatchNorm2d(512, eps=1e-05, momentum=0.1, affine=True, track_running_stats=True)\n",
      "        (8): ReLU(inplace=True)\n",
      "        (9): MaxPool2d(kernel_size=2, stride=2, padding=0, dilation=1, ceil_mode=False)\n",
      "      )\n",
      "    )\n",
      "    (4): VGGBlock(\n",
      "      (vgg_block): Sequential(\n",
      "        (0): Conv2d(512, 512, kernel_size=(3, 3), stride=(1, 1), padding=(1, 1))\n",
      "        (1): BatchNorm2d(512, eps=1e-05, momentum=0.1, affine=True, track_running_stats=True)\n",
      "        (2): ReLU(inplace=True)\n",
      "        (3): Conv2d(512, 512, kernel_size=(3, 3), stride=(1, 1), padding=(1, 1))\n",
      "        (4): BatchNorm2d(512, eps=1e-05, momentum=0.1, affine=True, track_running_stats=True)\n",
      "        (5): ReLU(inplace=True)\n",
      "        (6): Conv2d(512, 512, kernel_size=(3, 3), stride=(1, 1), padding=(1, 1))\n",
      "        (7): BatchNorm2d(512, eps=1e-05, momentum=0.1, affine=True, track_running_stats=True)\n",
      "        (8): ReLU(inplace=True)\n",
      "        (9): MaxPool2d(kernel_size=2, stride=2, padding=0, dilation=1, ceil_mode=False)\n",
      "      )\n",
      "    )\n",
      "  )\n",
      "  (avg_pool): AdaptiveAvgPool2d(output_size=(7, 7))\n",
      "  (fc): Sequential(\n",
      "    (0): Linear(in_features=25088, out_features=4096, bias=True)\n",
      "    (1): ReLU(inplace=True)\n",
      "    (2): Dropout(p=0.5, inplace=False)\n",
      "    (3): Linear(in_features=4096, out_features=4096, bias=True)\n",
      "    (4): ReLU(inplace=True)\n",
      "    (5): Dropout(p=0.5, inplace=False)\n",
      "    (6): Linear(in_features=4096, out_features=1, bias=True)\n",
      "  )\n",
      ")\n"
     ]
    },
    {
     "data": {
      "text/plain": [
       "==========================================================================================\n",
       "Layer (type:depth-idx)                   Output Shape              Param #\n",
       "==========================================================================================\n",
       "VGG16                                    [1, 1]                    --\n",
       "├─Sequential: 1-1                        [1, 512, 32, 32]          --\n",
       "│    └─VGGBlock: 2-1                     [1, 64, 512, 512]         --\n",
       "│    │    └─Sequential: 3-1              [1, 64, 512, 512]         37,824\n",
       "│    └─VGGBlock: 2-2                     [1, 128, 256, 256]        --\n",
       "│    │    └─Sequential: 3-2              [1, 128, 256, 256]        221,952\n",
       "│    └─VGGBlock: 2-3                     [1, 256, 128, 128]        --\n",
       "│    │    └─Sequential: 3-3              [1, 256, 128, 128]        1,476,864\n",
       "│    └─VGGBlock: 2-4                     [1, 512, 64, 64]          --\n",
       "│    │    └─Sequential: 3-4              [1, 512, 64, 64]          5,902,848\n",
       "│    └─VGGBlock: 2-5                     [1, 512, 32, 32]          --\n",
       "│    │    └─Sequential: 3-5              [1, 512, 32, 32]          7,082,496\n",
       "├─AdaptiveAvgPool2d: 1-2                 [1, 512, 7, 7]            --\n",
       "├─Sequential: 1-3                        [1, 1]                    --\n",
       "│    └─Linear: 2-6                       [1, 4096]                 102,764,544\n",
       "│    └─ReLU: 2-7                         [1, 4096]                 --\n",
       "│    └─Dropout: 2-8                      [1, 4096]                 --\n",
       "│    └─Linear: 2-9                       [1, 4096]                 16,781,312\n",
       "│    └─ReLU: 2-10                        [1, 4096]                 --\n",
       "│    └─Dropout: 2-11                     [1, 4096]                 --\n",
       "│    └─Linear: 2-12                      [1, 1]                    4,097\n",
       "==========================================================================================\n",
       "Total params: 134,271,937\n",
       "Trainable params: 134,271,937\n",
       "Non-trainable params: 0\n",
       "Total mult-adds (Units.GIGABYTES): 319.91\n",
       "==========================================================================================\n",
       "Input size (MB): 4.19\n",
       "Forward/backward pass size (MB): 4529.91\n",
       "Params size (MB): 537.09\n",
       "Estimated Total Size (MB): 5071.20\n",
       "=========================================================================================="
      ]
     },
     "execution_count": 162,
     "metadata": {},
     "output_type": "execute_result"
    }
   ],
   "source": [
    "# Example usage:\n",
    "in_channels = 1  # Assuming input images have 3 channels (e.g., RGB)\n",
    "num_classes = 1  # Number of segmentation classes\n",
    "model = VGG16(in_channels, num_classes)\n",
    "\n",
    "print(model)\n",
    "summary(model, input_size=(1, in_channels, 1024, 1024)) "
   ]
  },
  {
   "cell_type": "markdown",
   "metadata": {},
   "source": [
    "# Loss function"
   ]
  },
  {
   "cell_type": "code",
   "execution_count": 163,
   "metadata": {},
   "outputs": [],
   "source": [
    "class FocalLoss(nn.modules.loss._WeightedLoss):\n",
    "\n",
    "    def __init__(self, gamma=0, size_average=None, ignore_index=-100,\n",
    "                 reduce=None, balance_param=1.0):\n",
    "        super(FocalLoss, self).__init__(size_average)\n",
    "        self.gamma = gamma\n",
    "        self.size_average = size_average\n",
    "        self.ignore_index = ignore_index\n",
    "        self.balance_param = balance_param\n",
    "\n",
    "    def forward(self, input, target):\n",
    "        \n",
    "        assert len(input.shape) == len(target.shape)\n",
    "        assert input.size(0) == target.size(0)\n",
    "        assert input.size(1) == target.size(1)\n",
    "\n",
    "        logpt = - F.binary_cross_entropy_with_logits(input, target)\n",
    "        pt = torch.exp(logpt)\n",
    "\n",
    "        focal_loss = -((1 - pt) ** self.gamma) * logpt\n",
    "        balanced_focal_loss = self.balance_param * focal_loss\n",
    "        return balanced_focal_loss\n"
   ]
  },
  {
   "cell_type": "code",
   "execution_count": 164,
   "metadata": {},
   "outputs": [],
   "source": [
    "class DiceLoss(nn.Module):\n",
    "    def forward(self, inputs, targets, smooth=1):\n",
    "        inputs = inputs.sigmoid()\n",
    "        intersection = (inputs * targets).sum()\n",
    "        dice = (2.*intersection + smooth)/(inputs.sum() + targets.sum() + smooth)\n",
    "        return 1 - dice"
   ]
  },
  {
   "cell_type": "code",
   "execution_count": 165,
   "metadata": {},
   "outputs": [],
   "source": [
    "class IoULoss(nn.Module):\n",
    "    def forward(self, inputs, targets, smooth=1):\n",
    "        inputs = inputs.sigmoid()\n",
    "        intersection = (inputs * targets).sum()\n",
    "        total = (inputs + targets).sum()\n",
    "        union = total - intersection \n",
    "        IoU = (intersection + smooth) / (union + smooth)\n",
    "        return 1 - IoU"
   ]
  },
  {
   "cell_type": "code",
   "execution_count": 166,
   "metadata": {},
   "outputs": [],
   "source": [
    "def dice_coefficient(prediction, target):\n",
    "\n",
    "    mask = np.zeros_like(prediction)\n",
    "    mask[prediction >= 0.5] = 1\n",
    "\n",
    "    inter = np.sum(mask * target)\n",
    "    union = np.sum(mask) + np.sum(target)\n",
    "    epsilon = 1e-6\n",
    "    result = np.mean(2 * inter / (union + epsilon))\n",
    "    return result"
   ]
  },
  {
   "cell_type": "markdown",
   "metadata": {},
   "source": [
    "## Metrics"
   ]
  },
  {
   "cell_type": "code",
   "execution_count": 167,
   "metadata": {},
   "outputs": [],
   "source": [
    "def calculate_metrics(y_pred, y_true):\n",
    "    \"\"\"\n",
    "    Calculates IOU, F1 score, precision, recall, and accuracy for U-Net predictions using NumPy.\n",
    "\n",
    "    Arguments:\n",
    "    y_true -- the ground truth labels (a binary array of 0s and 1s)\n",
    "    y_pred -- the predicted labels (a binary array of 0s and 1s)\n",
    "\n",
    "    Returns:\n",
    "    A dictionary containing the IOU, F1 score, precision, recall, and accuracy.\n",
    "    \"\"\"\n",
    "    with torch.no_grad():\n",
    "        # Convert probability output to binary predictions\n",
    "        y_pred = (y_pred > 0.5).float()\n",
    "\n",
    "        # Flatten the arrays\n",
    "        y_true = y_true.detach().cpu().numpy().flatten()\n",
    "        y_pred = y_pred.detach().cpu().numpy().flatten()\n",
    "\n",
    "        # Calculate true positives, false positives, and false negatives\n",
    "        tp = np.sum((y_true == 1) & (y_pred == 1))\n",
    "        fp = np.sum((y_true == 0) & (y_pred == 1))\n",
    "        fn = np.sum((y_true == 1) & (y_pred == 0))\n",
    "\n",
    "        # Very small number to prevent infinity when dividing zero\n",
    "        eps = 1e-8\n",
    "\n",
    "        # Calculate IOU\n",
    "        iou = tp / (tp + fp + fn + eps)\n",
    "\n",
    "        # Calculate precision\n",
    "        precision = tp / (tp + fp + eps)\n",
    "\n",
    "        # Calculate recall\n",
    "        recall = tp / (tp + fn + eps)\n",
    "\n",
    "        # Calculate F1 score\n",
    "        f1_score = 2 * (precision * recall) / (precision + recall + eps)\n",
    "\n",
    "        # Calculate accuracy\n",
    "        accuracy = np.sum(y_true == y_pred) / len(y_true)\n",
    "\n",
    "    # Return a dictionary containing the metrics\n",
    "    metrics = {\"IoU_Score\": iou, \"F1_Score\": f1_score, \"Precision\": precision, \"Recall\": recall, \"Accuracy\": accuracy}\n",
    "    return metrics"
   ]
  },
  {
   "cell_type": "markdown",
   "metadata": {},
   "source": [
    "# Training and Testing"
   ]
  },
  {
   "cell_type": "code",
   "execution_count": 168,
   "metadata": {},
   "outputs": [],
   "source": [
    "class Trainer:\n",
    "    def __init__(self, model, train_loader, val_loader, optimizer, criterion, device, checkpoint_filename):\n",
    "        self.model = model\n",
    "        self.train_loader = train_loader\n",
    "        self.val_loader = val_loader\n",
    "        self.optimizer = optimizer\n",
    "        self.criterion = criterion\n",
    "        self.device = device\n",
    "        self.checkpoint_filename = checkpoint_filename\n",
    "        self.best_valid_loss = float('inf')\n",
    "\n",
    "    def train_epoch(self):\n",
    "        self.model.train()\n",
    "        for batch_index, batch in enumerate(tqdm(self.train_loader)):\n",
    "            self.optimizer.zero_grad()\n",
    "            data, target, filename = batch\n",
    "            \n",
    "            data = data.to(self.device, dtype=torch.float32).permute(0, 3, 1, 2)\n",
    "            target = target.to(self.device, dtype=torch.float32).permute(0, 3, 1, 2)\n",
    "\n",
    "            # Convert data and target to float\n",
    "            data = data.float()\n",
    "            target = target.float()\n",
    "\n",
    "            output = self.model(data)\n",
    "            train_loss = self.criterion(output, target)\n",
    "            train_loss.backward()\n",
    "            self.optimizer.step()\n",
    "\n",
    "            train_loss += train_loss.item()\n",
    "\n",
    "        train_loss = train_loss/len(train_loader)\n",
    "        return train_loss\n",
    "\n",
    "    def validate(self):\n",
    "        self.model.eval()\n",
    "        val_loss = 0\n",
    "        with torch.no_grad():\n",
    "            for batch_index, batch in enumerate(tqdm(self.val_loader)):\n",
    "                data, target, filename = batch\n",
    "                data = data.to(self.device, dtype=torch.float32).permute(0, 3, 1, 2)\n",
    "                target = target.to(self.device, dtype=torch.float32).permute(0, 3, 1, 2)\n",
    "\n",
    "                # Convert data and target to float\n",
    "                data = data.float()\n",
    "                target = target.float()\n",
    "\n",
    "                output = self.model(data)\n",
    "                val_loss += self.criterion(output, target).item()\n",
    "        return val_loss / len(self.val_loader.dataset)\n",
    "\n",
    "    def train(self, epochs):\n",
    "        # Initialize\n",
    "        train_df = pd.DataFrame(columns=[\n",
    "            \"Epoch\",\n",
    "            \"Train_Loss\",\n",
    "            \"Valid_Loss\",\n",
    "            \"Time_Per_Iteration\"\n",
    "        ])\n",
    "\n",
    "        for epoch in range(epochs):\n",
    "            print(f\"\\nEpoch # {epoch+1}\")\n",
    "            start_time = time.time()\n",
    "            train_loss = self.train_epoch()\n",
    "            val_loss = self.validate()\n",
    "            iteration_time = (time.time() - start_time) / len(train_loader)\n",
    "            \n",
    "            # Saving training log\n",
    "            result_data = {\n",
    "                \"Epoch\" : epoch+1,\n",
    "                \"Train_Loss\" : train_loss,\n",
    "                \"Valid_Loss\" : val_loss,\n",
    "                \"Time_Per_Iteration\" : iteration_time\n",
    "            }\n",
    "            train_df = pd.concat([train_df, pd.DataFrame(result_data, index=[0])], ignore_index=True)\n",
    "            train_df.to_excel(os.path.join(\"checkpoints\", f\"{self.checkpoint_filename}.xlsx\"))\n",
    "            \n",
    "            # Save model if the valid loss is lower than the previous ones\n",
    "            if val_loss < self.best_valid_loss:\n",
    "                print(f\"Train Loss: {train_loss:2.6f}, Validation Loss: {self.best_valid_loss:2.6f} -> {val_loss: 2.6f}\")\n",
    "                self.best_valid_loss = val_loss\n",
    "                self.save_model(self.model, \"checkpoints\", self.checkpoint_filename)\n",
    "                print(f\"Saved model at: {self.checkpoint_filename}\")\n",
    "            else:\n",
    "                print(f\"Train Loss: {train_loss:2.6f}, Validation Loss: {val_loss:2.6f}\")\n",
    "\n",
    "        return model, train_df\n",
    "    \n",
    "    def save_model(self, model, path, filename):\n",
    "        # make directory if there is not\n",
    "        if not os.path.exists(path):\n",
    "            os.makedirs(path)\n",
    "\n",
    "        # save weight values in .pth file\n",
    "        torch.save(model.state_dict(), os.path.join(path, filename))"
   ]
  },
  {
   "cell_type": "code",
   "execution_count": 169,
   "metadata": {},
   "outputs": [
    {
     "name": "stdout",
     "output_type": "stream",
     "text": [
      "\n",
      "Epoch # 1\n"
     ]
    },
    {
     "name": "stderr",
     "output_type": "stream",
     "text": [
      "100%|██████████| 32/32 [00:31<00:00,  1.02it/s]\n",
      "100%|██████████| 8/8 [00:02<00:00,  2.94it/s]\n",
      "/var/folders/sr/nxb9m_611_32j6vhnhz46bjm0000gn/T/ipykernel_14627/2362503932.py:75: FutureWarning: The behavior of DataFrame concatenation with empty or all-NA entries is deprecated. In a future version, this will no longer exclude empty or all-NA columns when determining the result dtypes. To retain the old behavior, exclude the relevant entries before the concat operation.\n",
      "  train_df = pd.concat([train_df, pd.DataFrame(result_data, index=[0])], ignore_index=True)\n"
     ]
    },
    {
     "name": "stdout",
     "output_type": "stream",
     "text": [
      "Train Loss: -0.062500, Validation Loss: inf -> -0.999973\n",
      "Saved model at: kidney_1_dense_checkpoint.pth\n",
      "\n",
      "Epoch # 2\n"
     ]
    },
    {
     "name": "stderr",
     "output_type": "stream",
     "text": [
      "100%|██████████| 32/32 [00:31<00:00,  1.03it/s]\n",
      "100%|██████████| 8/8 [00:02<00:00,  2.96it/s]\n"
     ]
    },
    {
     "name": "stdout",
     "output_type": "stream",
     "text": [
      "Train Loss: -0.062498, Validation Loss: -0.999973\n",
      "\n",
      "Epoch # 3\n"
     ]
    },
    {
     "name": "stderr",
     "output_type": "stream",
     "text": [
      "100%|██████████| 32/32 [00:32<00:00,  1.00s/it]\n",
      "100%|██████████| 8/8 [00:02<00:00,  2.71it/s]\n"
     ]
    },
    {
     "name": "stdout",
     "output_type": "stream",
     "text": [
      "Train Loss: 0.031250, Validation Loss: -0.999973\n",
      "\n",
      "Epoch # 4\n"
     ]
    },
    {
     "name": "stderr",
     "output_type": "stream",
     "text": [
      "100%|██████████| 32/32 [00:33<00:00,  1.03s/it]\n",
      "100%|██████████| 8/8 [00:02<00:00,  2.86it/s]\n"
     ]
    },
    {
     "name": "stdout",
     "output_type": "stream",
     "text": [
      "Train Loss: -0.062499, Validation Loss: -0.999973\n",
      "\n",
      "Epoch # 5\n"
     ]
    },
    {
     "name": "stderr",
     "output_type": "stream",
     "text": [
      "100%|██████████| 32/32 [00:31<00:00,  1.00it/s]\n",
      "100%|██████████| 8/8 [00:02<00:00,  2.91it/s]\n"
     ]
    },
    {
     "name": "stdout",
     "output_type": "stream",
     "text": [
      "Train Loss: -0.062363, Validation Loss: -0.999973\n",
      "\n",
      "Epoch # 6\n"
     ]
    },
    {
     "name": "stderr",
     "output_type": "stream",
     "text": [
      "100%|██████████| 32/32 [00:31<00:00,  1.00it/s]\n",
      "100%|██████████| 8/8 [00:02<00:00,  2.73it/s]\n"
     ]
    },
    {
     "name": "stdout",
     "output_type": "stream",
     "text": [
      "Train Loss: -0.062500, Validation Loss: -0.999973\n",
      "\n",
      "Epoch # 7\n"
     ]
    },
    {
     "name": "stderr",
     "output_type": "stream",
     "text": [
      "100%|██████████| 32/32 [00:32<00:00,  1.03s/it]\n",
      "100%|██████████| 8/8 [00:02<00:00,  2.96it/s]\n"
     ]
    },
    {
     "name": "stdout",
     "output_type": "stream",
     "text": [
      "Train Loss: -0.062477, Validation Loss: -0.999973\n",
      "\n",
      "Epoch # 8\n"
     ]
    },
    {
     "name": "stderr",
     "output_type": "stream",
     "text": [
      "100%|██████████| 32/32 [00:31<00:00,  1.02it/s]\n",
      "100%|██████████| 8/8 [00:02<00:00,  2.88it/s]\n"
     ]
    },
    {
     "name": "stdout",
     "output_type": "stream",
     "text": [
      "Train Loss: -0.062500, Validation Loss: -0.999973\n",
      "\n",
      "Epoch # 9\n"
     ]
    },
    {
     "name": "stderr",
     "output_type": "stream",
     "text": [
      "100%|██████████| 32/32 [00:31<00:00,  1.03it/s]\n",
      "100%|██████████| 8/8 [00:02<00:00,  2.99it/s]\n"
     ]
    },
    {
     "name": "stdout",
     "output_type": "stream",
     "text": [
      "Train Loss: -0.062498, Validation Loss: -0.999973\n",
      "\n",
      "Epoch # 10\n"
     ]
    },
    {
     "name": "stderr",
     "output_type": "stream",
     "text": [
      "100%|██████████| 32/32 [00:31<00:00,  1.03it/s]\n",
      "100%|██████████| 8/8 [00:02<00:00,  3.01it/s]\n"
     ]
    },
    {
     "name": "stdout",
     "output_type": "stream",
     "text": [
      "Train Loss: -0.062499, Validation Loss: -0.999973\n",
      "\n",
      "Epoch # 11\n"
     ]
    },
    {
     "name": "stderr",
     "output_type": "stream",
     "text": [
      "100%|██████████| 32/32 [00:31<00:00,  1.02it/s]\n",
      "100%|██████████| 8/8 [00:02<00:00,  2.97it/s]\n"
     ]
    },
    {
     "name": "stdout",
     "output_type": "stream",
     "text": [
      "Train Loss: -0.062498, Validation Loss: -0.999973\n",
      "\n",
      "Epoch # 12\n"
     ]
    },
    {
     "name": "stderr",
     "output_type": "stream",
     "text": [
      "100%|██████████| 32/32 [00:31<00:00,  1.02it/s]\n",
      "100%|██████████| 8/8 [00:02<00:00,  2.96it/s]\n"
     ]
    },
    {
     "name": "stdout",
     "output_type": "stream",
     "text": [
      "Train Loss: -0.062499, Validation Loss: -0.999973\n",
      "\n",
      "Epoch # 13\n"
     ]
    },
    {
     "name": "stderr",
     "output_type": "stream",
     "text": [
      "100%|██████████| 32/32 [00:31<00:00,  1.01it/s]\n",
      "100%|██████████| 8/8 [00:02<00:00,  2.96it/s]\n"
     ]
    },
    {
     "name": "stdout",
     "output_type": "stream",
     "text": [
      "Train Loss: -0.062499, Validation Loss: -0.999973\n",
      "\n",
      "Epoch # 14\n"
     ]
    },
    {
     "name": "stderr",
     "output_type": "stream",
     "text": [
      "100%|██████████| 32/32 [00:31<00:00,  1.02it/s]\n",
      "100%|██████████| 8/8 [00:02<00:00,  2.96it/s]\n"
     ]
    },
    {
     "name": "stdout",
     "output_type": "stream",
     "text": [
      "Train Loss: -0.062499, Validation Loss: -0.999973\n",
      "\n",
      "Epoch # 15\n"
     ]
    },
    {
     "name": "stderr",
     "output_type": "stream",
     "text": [
      "100%|██████████| 32/32 [00:31<00:00,  1.03it/s]\n",
      "100%|██████████| 8/8 [00:02<00:00,  2.99it/s]\n"
     ]
    },
    {
     "name": "stdout",
     "output_type": "stream",
     "text": [
      "Train Loss: -0.062499, Validation Loss: -0.999973\n",
      "\n",
      "Epoch # 16\n"
     ]
    },
    {
     "name": "stderr",
     "output_type": "stream",
     "text": [
      "100%|██████████| 32/32 [00:31<00:00,  1.02it/s]\n",
      "100%|██████████| 8/8 [00:02<00:00,  2.95it/s]\n"
     ]
    },
    {
     "name": "stdout",
     "output_type": "stream",
     "text": [
      "Train Loss: -0.062500, Validation Loss: -0.999973\n",
      "\n",
      "Epoch # 17\n"
     ]
    },
    {
     "name": "stderr",
     "output_type": "stream",
     "text": [
      "100%|██████████| 32/32 [00:31<00:00,  1.02it/s]\n",
      "100%|██████████| 8/8 [00:02<00:00,  2.94it/s]\n"
     ]
    },
    {
     "name": "stdout",
     "output_type": "stream",
     "text": [
      "Train Loss: -0.062499, Validation Loss: -0.999973\n",
      "\n",
      "Epoch # 18\n"
     ]
    },
    {
     "name": "stderr",
     "output_type": "stream",
     "text": [
      "100%|██████████| 32/32 [00:31<00:00,  1.02it/s]\n",
      "100%|██████████| 8/8 [00:02<00:00,  2.93it/s]\n"
     ]
    },
    {
     "name": "stdout",
     "output_type": "stream",
     "text": [
      "Train Loss: -0.062499, Validation Loss: -0.999973\n",
      "\n",
      "Epoch # 19\n"
     ]
    },
    {
     "name": "stderr",
     "output_type": "stream",
     "text": [
      "100%|██████████| 32/32 [00:31<00:00,  1.02it/s]\n",
      "100%|██████████| 8/8 [00:02<00:00,  2.94it/s]\n"
     ]
    },
    {
     "name": "stdout",
     "output_type": "stream",
     "text": [
      "Train Loss: -0.062098, Validation Loss: -0.999973\n",
      "\n",
      "Epoch # 20\n"
     ]
    },
    {
     "name": "stderr",
     "output_type": "stream",
     "text": [
      "100%|██████████| 32/32 [00:31<00:00,  1.01it/s]\n",
      "100%|██████████| 8/8 [00:02<00:00,  2.96it/s]\n"
     ]
    },
    {
     "name": "stdout",
     "output_type": "stream",
     "text": [
      "Train Loss: -0.062499, Validation Loss: -0.999973\n",
      "\n",
      "Epoch # 21\n"
     ]
    },
    {
     "name": "stderr",
     "output_type": "stream",
     "text": [
      "100%|██████████| 32/32 [00:31<00:00,  1.02it/s]\n",
      "100%|██████████| 8/8 [00:02<00:00,  2.86it/s]\n"
     ]
    },
    {
     "name": "stdout",
     "output_type": "stream",
     "text": [
      "Train Loss: -0.062499, Validation Loss: -0.999973\n",
      "\n",
      "Epoch # 22\n"
     ]
    },
    {
     "name": "stderr",
     "output_type": "stream",
     "text": [
      "100%|██████████| 32/32 [00:31<00:00,  1.02it/s]\n",
      "100%|██████████| 8/8 [00:02<00:00,  2.92it/s]\n"
     ]
    },
    {
     "name": "stdout",
     "output_type": "stream",
     "text": [
      "Train Loss: -0.062499, Validation Loss: -0.999973\n",
      "\n",
      "Epoch # 23\n"
     ]
    },
    {
     "name": "stderr",
     "output_type": "stream",
     "text": [
      "100%|██████████| 32/32 [00:31<00:00,  1.03it/s]\n",
      "100%|██████████| 8/8 [00:02<00:00,  3.00it/s]\n"
     ]
    },
    {
     "name": "stdout",
     "output_type": "stream",
     "text": [
      "Train Loss: 0.031250, Validation Loss: -0.999973\n",
      "\n",
      "Epoch # 24\n"
     ]
    },
    {
     "name": "stderr",
     "output_type": "stream",
     "text": [
      "100%|██████████| 32/32 [00:30<00:00,  1.04it/s]\n",
      "100%|██████████| 8/8 [00:02<00:00,  3.00it/s]\n"
     ]
    },
    {
     "name": "stdout",
     "output_type": "stream",
     "text": [
      "Train Loss: -0.062500, Validation Loss: -0.999973\n",
      "\n",
      "Epoch # 25\n"
     ]
    },
    {
     "name": "stderr",
     "output_type": "stream",
     "text": [
      "100%|██████████| 32/32 [00:31<00:00,  1.03it/s]\n",
      "100%|██████████| 8/8 [00:02<00:00,  2.98it/s]\n"
     ]
    },
    {
     "name": "stdout",
     "output_type": "stream",
     "text": [
      "Train Loss: -0.062500, Validation Loss: -0.999973\n",
      "\n",
      "Epoch # 26\n"
     ]
    },
    {
     "name": "stderr",
     "output_type": "stream",
     "text": [
      "100%|██████████| 32/32 [00:31<00:00,  1.02it/s]\n",
      "100%|██████████| 8/8 [00:02<00:00,  2.96it/s]\n"
     ]
    },
    {
     "name": "stdout",
     "output_type": "stream",
     "text": [
      "Train Loss: -0.062476, Validation Loss: -0.999973\n",
      "\n",
      "Epoch # 27\n"
     ]
    },
    {
     "name": "stderr",
     "output_type": "stream",
     "text": [
      "100%|██████████| 32/32 [00:31<00:00,  1.02it/s]\n",
      "100%|██████████| 8/8 [00:02<00:00,  2.95it/s]\n"
     ]
    },
    {
     "name": "stdout",
     "output_type": "stream",
     "text": [
      "Train Loss: -0.062500, Validation Loss: -0.999973\n",
      "\n",
      "Epoch # 28\n"
     ]
    },
    {
     "name": "stderr",
     "output_type": "stream",
     "text": [
      "100%|██████████| 32/32 [00:31<00:00,  1.01it/s]\n",
      "100%|██████████| 8/8 [00:02<00:00,  2.93it/s]\n"
     ]
    },
    {
     "name": "stdout",
     "output_type": "stream",
     "text": [
      "Train Loss: -0.062363, Validation Loss: -0.999973\n",
      "\n",
      "Epoch # 29\n"
     ]
    },
    {
     "name": "stderr",
     "output_type": "stream",
     "text": [
      "100%|██████████| 32/32 [00:31<00:00,  1.02it/s]\n",
      "100%|██████████| 8/8 [00:02<00:00,  2.92it/s]\n"
     ]
    },
    {
     "name": "stdout",
     "output_type": "stream",
     "text": [
      "Train Loss: -0.062477, Validation Loss: -0.999973\n",
      "\n",
      "Epoch # 30\n"
     ]
    },
    {
     "name": "stderr",
     "output_type": "stream",
     "text": [
      "100%|██████████| 32/32 [00:31<00:00,  1.02it/s]\n",
      "100%|██████████| 8/8 [00:02<00:00,  2.95it/s]\n"
     ]
    },
    {
     "name": "stdout",
     "output_type": "stream",
     "text": [
      "Train Loss: -0.062098, Validation Loss: -0.999973\n",
      "\n",
      "Epoch # 31\n"
     ]
    },
    {
     "name": "stderr",
     "output_type": "stream",
     "text": [
      "100%|██████████| 32/32 [00:31<00:00,  1.02it/s]\n",
      "100%|██████████| 8/8 [00:02<00:00,  2.93it/s]\n"
     ]
    },
    {
     "name": "stdout",
     "output_type": "stream",
     "text": [
      "Train Loss: -0.062499, Validation Loss: -0.999973\n",
      "\n",
      "Epoch # 32\n"
     ]
    },
    {
     "name": "stderr",
     "output_type": "stream",
     "text": [
      "100%|██████████| 32/32 [00:31<00:00,  1.02it/s]\n",
      "100%|██████████| 8/8 [00:02<00:00,  2.94it/s]\n"
     ]
    },
    {
     "name": "stdout",
     "output_type": "stream",
     "text": [
      "Train Loss: -0.062499, Validation Loss: -0.999973\n",
      "\n",
      "Epoch # 33\n"
     ]
    },
    {
     "name": "stderr",
     "output_type": "stream",
     "text": [
      "100%|██████████| 32/32 [00:31<00:00,  1.02it/s]\n",
      "100%|██████████| 8/8 [00:02<00:00,  2.98it/s]\n"
     ]
    },
    {
     "name": "stdout",
     "output_type": "stream",
     "text": [
      "Train Loss: -0.062098, Validation Loss: -0.999973\n",
      "\n",
      "Epoch # 34\n"
     ]
    },
    {
     "name": "stderr",
     "output_type": "stream",
     "text": [
      "100%|██████████| 32/32 [00:31<00:00,  1.03it/s]\n",
      "100%|██████████| 8/8 [00:02<00:00,  2.97it/s]\n"
     ]
    },
    {
     "name": "stdout",
     "output_type": "stream",
     "text": [
      "Train Loss: -0.062500, Validation Loss: -0.999973\n",
      "\n",
      "Epoch # 35\n"
     ]
    },
    {
     "name": "stderr",
     "output_type": "stream",
     "text": [
      "100%|██████████| 32/32 [00:31<00:00,  1.03it/s]\n",
      "100%|██████████| 8/8 [00:02<00:00,  2.97it/s]\n"
     ]
    },
    {
     "name": "stdout",
     "output_type": "stream",
     "text": [
      "Train Loss: -0.062500, Validation Loss: -0.999973\n",
      "\n",
      "Epoch # 36\n"
     ]
    },
    {
     "name": "stderr",
     "output_type": "stream",
     "text": [
      "100%|██████████| 32/32 [00:31<00:00,  1.02it/s]\n",
      "100%|██████████| 8/8 [00:02<00:00,  2.96it/s]\n"
     ]
    },
    {
     "name": "stdout",
     "output_type": "stream",
     "text": [
      "Train Loss: -0.062500, Validation Loss: -0.999973\n",
      "\n",
      "Epoch # 37\n"
     ]
    },
    {
     "name": "stderr",
     "output_type": "stream",
     "text": [
      "100%|██████████| 32/32 [00:31<00:00,  1.03it/s]\n",
      "100%|██████████| 8/8 [00:02<00:00,  2.97it/s]\n"
     ]
    },
    {
     "name": "stdout",
     "output_type": "stream",
     "text": [
      "Train Loss: -0.062500, Validation Loss: -0.999973\n",
      "\n",
      "Epoch # 38\n"
     ]
    },
    {
     "name": "stderr",
     "output_type": "stream",
     "text": [
      "100%|██████████| 32/32 [00:31<00:00,  1.03it/s]\n",
      "100%|██████████| 8/8 [00:02<00:00,  2.99it/s]\n"
     ]
    },
    {
     "name": "stdout",
     "output_type": "stream",
     "text": [
      "Train Loss: -0.062499, Validation Loss: -0.999973\n",
      "\n",
      "Epoch # 39\n"
     ]
    },
    {
     "name": "stderr",
     "output_type": "stream",
     "text": [
      "100%|██████████| 32/32 [00:31<00:00,  1.03it/s]\n",
      "100%|██████████| 8/8 [00:02<00:00,  2.96it/s]\n"
     ]
    },
    {
     "name": "stdout",
     "output_type": "stream",
     "text": [
      "Train Loss: -0.062500, Validation Loss: -0.999973\n",
      "\n",
      "Epoch # 40\n"
     ]
    },
    {
     "name": "stderr",
     "output_type": "stream",
     "text": [
      "100%|██████████| 32/32 [00:31<00:00,  1.03it/s]\n",
      "100%|██████████| 8/8 [00:02<00:00,  2.97it/s]\n"
     ]
    },
    {
     "name": "stdout",
     "output_type": "stream",
     "text": [
      "Train Loss: -0.062498, Validation Loss: -0.999973\n",
      "\n",
      "Epoch # 41\n"
     ]
    },
    {
     "name": "stderr",
     "output_type": "stream",
     "text": [
      "100%|██████████| 32/32 [00:31<00:00,  1.03it/s]\n",
      "100%|██████████| 8/8 [00:02<00:00,  2.99it/s]\n"
     ]
    },
    {
     "name": "stdout",
     "output_type": "stream",
     "text": [
      "Train Loss: -0.062499, Validation Loss: -0.999973\n",
      "\n",
      "Epoch # 42\n"
     ]
    },
    {
     "name": "stderr",
     "output_type": "stream",
     "text": [
      "100%|██████████| 32/32 [00:31<00:00,  1.02it/s]\n",
      "100%|██████████| 8/8 [00:02<00:00,  2.98it/s]\n"
     ]
    },
    {
     "name": "stdout",
     "output_type": "stream",
     "text": [
      "Train Loss: -0.062500, Validation Loss: -0.999973\n",
      "\n",
      "Epoch # 43\n"
     ]
    },
    {
     "name": "stderr",
     "output_type": "stream",
     "text": [
      "100%|██████████| 32/32 [00:31<00:00,  1.02it/s]\n",
      "100%|██████████| 8/8 [00:02<00:00,  2.98it/s]\n"
     ]
    },
    {
     "name": "stdout",
     "output_type": "stream",
     "text": [
      "Train Loss: -0.062500, Validation Loss: -0.999973\n",
      "\n",
      "Epoch # 44\n"
     ]
    },
    {
     "name": "stderr",
     "output_type": "stream",
     "text": [
      "100%|██████████| 32/32 [00:31<00:00,  1.02it/s]\n",
      "100%|██████████| 8/8 [00:02<00:00,  2.98it/s]\n"
     ]
    },
    {
     "name": "stdout",
     "output_type": "stream",
     "text": [
      "Train Loss: -0.062498, Validation Loss: -0.999973\n",
      "\n",
      "Epoch # 45\n"
     ]
    },
    {
     "name": "stderr",
     "output_type": "stream",
     "text": [
      "100%|██████████| 32/32 [00:31<00:00,  1.03it/s]\n",
      "100%|██████████| 8/8 [00:02<00:00,  2.95it/s]\n"
     ]
    },
    {
     "name": "stdout",
     "output_type": "stream",
     "text": [
      "Train Loss: -0.062498, Validation Loss: -0.999973\n",
      "\n",
      "Epoch # 46\n"
     ]
    },
    {
     "name": "stderr",
     "output_type": "stream",
     "text": [
      "100%|██████████| 32/32 [00:31<00:00,  1.03it/s]\n",
      "100%|██████████| 8/8 [00:02<00:00,  2.96it/s]\n"
     ]
    },
    {
     "name": "stdout",
     "output_type": "stream",
     "text": [
      "Train Loss: -0.062499, Validation Loss: -0.999973\n",
      "\n",
      "Epoch # 47\n"
     ]
    },
    {
     "name": "stderr",
     "output_type": "stream",
     "text": [
      "100%|██████████| 32/32 [00:31<00:00,  1.03it/s]\n",
      "100%|██████████| 8/8 [00:02<00:00,  2.99it/s]\n"
     ]
    },
    {
     "name": "stdout",
     "output_type": "stream",
     "text": [
      "Train Loss: -0.062499, Validation Loss: -0.999973\n",
      "\n",
      "Epoch # 48\n"
     ]
    },
    {
     "name": "stderr",
     "output_type": "stream",
     "text": [
      "100%|██████████| 32/32 [00:31<00:00,  1.03it/s]\n",
      "100%|██████████| 8/8 [00:02<00:00,  2.96it/s]\n"
     ]
    },
    {
     "name": "stdout",
     "output_type": "stream",
     "text": [
      "Train Loss: -0.062499, Validation Loss: -0.999973\n",
      "\n",
      "Epoch # 49\n"
     ]
    },
    {
     "name": "stderr",
     "output_type": "stream",
     "text": [
      "100%|██████████| 32/32 [00:31<00:00,  1.03it/s]\n",
      "100%|██████████| 8/8 [00:02<00:00,  2.96it/s]\n"
     ]
    },
    {
     "name": "stdout",
     "output_type": "stream",
     "text": [
      "Train Loss: -0.062499, Validation Loss: -0.999973\n",
      "\n",
      "Epoch # 50\n"
     ]
    },
    {
     "name": "stderr",
     "output_type": "stream",
     "text": [
      "100%|██████████| 32/32 [00:31<00:00,  1.03it/s]\n",
      "100%|██████████| 8/8 [00:02<00:00,  2.95it/s]"
     ]
    },
    {
     "name": "stdout",
     "output_type": "stream",
     "text": [
      "Train Loss: -0.062499, Validation Loss: -0.999973\n"
     ]
    },
    {
     "name": "stderr",
     "output_type": "stream",
     "text": [
      "\n"
     ]
    }
   ],
   "source": [
    "trainer = Trainer(model,\n",
    "                  train_loader,\n",
    "                  val_loader,\n",
    "                  optimizer=optim.Adam(model.parameters(),lr=CFG.LEARNING_RATE),\n",
    "                  criterion=DiceLoss(),\n",
    "                  device=CFG.DEVICE,\n",
    "                  checkpoint_filename=CFG.TRAINED_MODEL_NAME\n",
    ")\n",
    "\n",
    "model, train_df = trainer.train(epochs=CFG.NUM_EPOCHS)"
   ]
  },
  {
   "cell_type": "code",
   "execution_count": null,
   "metadata": {},
   "outputs": [],
   "source": []
  }
 ],
 "metadata": {
  "kernelspec": {
   "display_name": ".venv",
   "language": "python",
   "name": "python3"
  },
  "language_info": {
   "codemirror_mode": {
    "name": "ipython",
    "version": 3
   },
   "file_extension": ".py",
   "mimetype": "text/x-python",
   "name": "python",
   "nbconvert_exporter": "python",
   "pygments_lexer": "ipython3",
   "version": "3.11.7"
  }
 },
 "nbformat": 4,
 "nbformat_minor": 2
}
