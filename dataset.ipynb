{
 "cells": [
  {
   "cell_type": "markdown",
   "metadata": {},
   "source": [
    "# 0. Setups"
   ]
  },
  {
   "cell_type": "code",
   "execution_count": 91,
   "metadata": {},
   "outputs": [],
   "source": [
    "import os\n",
    "import time\n",
    "import sys\n",
    "\n",
    "import numpy as np\n",
    "import pandas as pd\n",
    "from skimage import io, transform, exposure\n",
    "import matplotlib.pyplot as plt\n",
    "import albumentations as Alb\n",
    "# import tifffile\n",
    "from sklearn.metrics import accuracy_score\n",
    "import seaborn as sns\n",
    "\n",
    "import torch\n",
    "import torch.nn as nn\n",
    "import torch.optim as optim\n",
    "import torch.nn.functional as F\n",
    "from torch.utils.data import DataLoader, Dataset, Subset, random_split\n",
    "from torchinfo import summary\n",
    "from tqdm import tqdm"
   ]
  },
  {
   "cell_type": "markdown",
   "metadata": {},
   "source": [
    "# 1. Configuration"
   ]
  },
  {
   "cell_type": "code",
   "execution_count": 92,
   "metadata": {},
   "outputs": [],
   "source": [
    "class CFG:\n",
    "    \"\"\"\n",
    "    Configuration class for the blood vessel segmentation project.\n",
    "    \"\"\"\n",
    "    # ============== Data Paths =============\n",
    "    DATASET_NAME = \"kidney_1_dense\"\n",
    "    DATASET_DIRECTORY = os.path.join(\"..\", \"data\")\n",
    "    TRAIN_DATASET_DIRECTORY = os.path.join(DATASET_DIRECTORY, \"train\", DATASET_NAME)\n",
    "    TEST_DATASET_DIRECTORY = os.path.join(DATASET_DIRECTORY, \"test\", DATASET_NAME)\n",
    "\n",
    "    # ============== Model Configuration =============\n",
    "    MODEL_NAME = 'VGG16'\n",
    "    IN_CHANNEL = 1  # Number of input channels (e.g., 1 for grayscale images)\n",
    "    OUT_CHANNEL = 1 # Number of output channels\n",
    "\n",
    "    # ============== Model Paths =============\n",
    "    # List of paths to trained model weights\n",
    "    CHECKPOINT_PATH = os.path.abspath(\"checkpoints\")\n",
    "    TRAINED_MODEL = f\"{MODEL_NAME}_{DATASET_NAME}_checkpoint.pth\"\n",
    "\n",
    "\n",
    "# ============== Image Processing Settings =============\n",
    "    INPUT_IMAGE_SIZE = (512, 512)  # Size of the input images (height x width)\n",
    "    GAMMA = 1\n",
    "    NUM_IMAGES = 6 # 'None' for all images\n",
    "\n",
    "    # ============== Training and Validation Parameters =============\n",
    "    DEVICE = \"cuda\" if torch.cuda.is_available() else \"cpu\"\n",
    "    VALID_ID = 1  # ID for validation dataset or fold\n",
    "    BATCH_SIZE = 1  # Batch size for model training\n",
    "    THRESHOLD_PERCENTILE = 0.0014109  # Threshold for post-processing\n",
    "    LEARNING_RATE = 1e-4\n",
    "    NUM_EPOCHS = 30\n",
    "    NUM_WORKERS = 0 # Number of processes\n",
    "    TRAIN_TEST_SPLIT_RATIO = 0.2 # for test subset"
   ]
  },
  {
   "cell_type": "markdown",
   "metadata": {},
   "source": [
    "# 2. Load Dataset"
   ]
  },
  {
   "cell_type": "markdown",
   "metadata": {},
   "source": [
    "### 2.1. Custom Dataset Class"
   ]
  },
  {
   "cell_type": "code",
   "execution_count": 93,
   "metadata": {},
   "outputs": [],
   "source": [
    "class CustomDataset(Dataset):\n",
    "    def __init__(self, image_path, mask_path=None, target_image_size=(512, 512), convert_size=True, gamma=1, image_format=\".tif\"):\n",
    "        # File IO\n",
    "        self.image_path = image_path\n",
    "        self.image_format = image_format\n",
    "        self.image_filenames = sorted([os.path.join(self.image_path, filename) for filename in os.listdir(self.image_path) if filename.endswith(self.image_format)])\n",
    "        print(f\"{len(self.image_filenames)} images are loaded.\")\n",
    "\n",
    "        # If masks (labels) are given\n",
    "        self.mask_path = mask_path\n",
    "        if self.mask_path:\n",
    "            self.mask_filenames = sorted([os.path.join(self.mask_path, filename) for filename in os.listdir(self.mask_path) if filename.endswith(self.image_format)])\n",
    "            if not len(self.mask_filenames) == len(self.image_filenames):\n",
    "                raise(f\"Number of images and labels are not matched: {len(self.image_filenames)} images and {len(self.mask_filenames)} labels.\")\n",
    "            print(f\"{len(self.mask_filenames)} labels are loaded.\")\n",
    "\n",
    "        # Image processing\n",
    "        self.target_image_size = target_image_size\n",
    "        self.convert_size = convert_size\n",
    "        self.gamma = gamma\n",
    "\n",
    "        # Process and print the size of the first image if convert_size is True\n",
    "        if self.convert_size and len(self.image_filenames) > 0:\n",
    "            first_image = io.imread(self.image_filenames[0])\n",
    "            resized_image = self.resize_and_pad(first_image, self.target_image_size)\n",
    "            print(f\"Original size: {first_image.shape}, Converted size: {resized_image.shape}\")\n",
    "\n",
    "    def __getitem__(self, index):\n",
    "        # Load image and convert to float32\n",
    "        image = io.imread(self.image_filenames[index]).astype(np.float32)\n",
    "\n",
    "        # Resize and pad the image if convert_size is True\n",
    "        if self.convert_size:\n",
    "            image = self.resize_and_pad(image, self.target_image_size, self.gamma)\n",
    "        \n",
    "        # Extract the filename\n",
    "        image_filename = os.path.basename(self.image_filenames[index])\n",
    "\n",
    "        # If masks (labels) are given\n",
    "        if self.mask_path:\n",
    "            mask = io.imread(self.mask_filenames[index]).astype(np.uint8)\n",
    "            mask = self.resize_and_pad(mask, self.target_image_size, is_mask=True)\n",
    "\n",
    "            # Convert mask from [0, 255] to [0, 1]\n",
    "            mask = (mask > 0).astype(np.uint8)  # This converts all non-zero values to 1\n",
    "\n",
    "            return image, mask, image_filename\n",
    "\n",
    "        return image, image_filename\n",
    "    \n",
    "    def __len__(self):\n",
    "        return len(self.image_filenames)\n",
    "\n",
    "    def resize_and_pad(self, image, target_image_size, is_mask=False, gamma=1):\n",
    "        \"\"\"Resize an image or mask and add padding to keep aspect ratio.\"\"\"\n",
    "        # Calculate scale and padding\n",
    "        h, w = image.shape[:2]\n",
    "        scale = min(target_image_size[0] / h, target_image_size[1] / w)\n",
    "        new_h, new_w = int(h * scale), int(w * scale)\n",
    "        pad_h = (target_image_size[0] - new_h) // 2\n",
    "        pad_w = (target_image_size[1] - new_w) // 2\n",
    "\n",
    "        # Set parameters for resizing based on whether it's an image or a mask\n",
    "        if is_mask:\n",
    "            # Use nearest-neighbor interpolation for masks\n",
    "            order = 0\n",
    "            anti_aliasing = False\n",
    "        else:\n",
    "            # Use bilinear interpolation (order=1) for images\n",
    "            order = 1\n",
    "            anti_aliasing = True\n",
    "\n",
    "        # Resize image with preserve_range set to True\n",
    "        image_resized = transform.resize(\n",
    "            image,\n",
    "            (new_h, new_w),\n",
    "            anti_aliasing=anti_aliasing,\n",
    "            mode='constant',\n",
    "            preserve_range=True,  # Preserve the original image's intensity range\n",
    "            order=order\n",
    "        )\n",
    "\n",
    "        # Apply gamma correction to images only\n",
    "        if not is_mask and gamma != 1:\n",
    "            image_resized = exposure.adjust_gamma(image_resized, gamma)\n",
    "\n",
    "        # Add a channel dimension to grayscale images if necessary\n",
    "        if len(image.shape) == 2:  # Grayscale image\n",
    "            image_resized = image_resized[..., np.newaxis]\n",
    "\n",
    "        # Initialize padded image\n",
    "        padded_image = np.zeros((target_image_size[0], target_image_size[1], image_resized.shape[2]), dtype=image_resized.dtype)\n",
    "\n",
    "        # Insert the resized image into the padded image\n",
    "        padded_image[pad_h:pad_h+new_h, pad_w:pad_w+new_w, :] = image_resized\n",
    "\n",
    "        return padded_image"
   ]
  },
  {
   "cell_type": "markdown",
   "metadata": {},
   "source": [
    "### 2.2. Display Function"
   ]
  },
  {
   "cell_type": "code",
   "execution_count": 94,
   "metadata": {},
   "outputs": [],
   "source": [
    "def display_image(images, titles=None, max_cols=4):\n",
    "    # Wrap single image in a list\n",
    "    if not isinstance(images, list):\n",
    "        images = [images]\n",
    "        titles = [titles] if titles is not None else titles\n",
    "\n",
    "    if titles is not None and not isinstance(titles, list):\n",
    "        raise TypeError(\"Titles should be provided as a list or a single title for a single image.\")\n",
    "\n",
    "    if titles and len(images) != len(titles):\n",
    "        raise ValueError(\"Every image should have a corresponding title.\")\n",
    "\n",
    "    num_images = len(images)\n",
    "    cols = min(num_images, max_cols)\n",
    "    rows = num_images // cols + (num_images % cols > 0)\n",
    "    fig, axes = plt.subplots(rows, cols, figsize=(cols * 4, rows * 4))\n",
    "    if rows == 1 or cols == 1:\n",
    "        axes = np.array([axes])\n",
    "\n",
    "    axes = axes.flatten()[:num_images]  # Limit to the number of images to avoid blank subplots\n",
    "\n",
    "    for ax, img, title in zip(axes, images, titles or [None]*num_images):\n",
    "        if isinstance(img, torch.Tensor):\n",
    "            img = img.cpu().numpy()\n",
    "            if img.ndim == 3 and img.shape[0] in [1, 3, 4]:\n",
    "                img = img.transpose(1, 2, 0)\n",
    "            if img.ndim == 3 and img.shape[2] == 1:\n",
    "                img = img.squeeze(2)\n",
    "\n",
    "        ax.imshow(img, cmap='gray')\n",
    "        if title:\n",
    "            ax.set_title(title)\n",
    "        ax.axis('off')\n",
    "\n",
    "    plt.tight_layout()\n",
    "    plt.show()"
   ]
  },
  {
   "cell_type": "markdown",
   "metadata": {},
   "source": [
    "### 2.3. Initialize datasets and display sample image"
   ]
  },
  {
   "cell_type": "code",
   "execution_count": 95,
   "metadata": {},
   "outputs": [
    {
     "name": "stdout",
     "output_type": "stream",
     "text": [
      "Current working directory: /Users/jinyoo/Documents/projects/SenNet/jin\n",
      "Full image path: /Users/jinyoo/Documents/projects/SenNet/data/train/kidney_1_dense/images\n",
      "Full mask path: /Users/jinyoo/Documents/projects/SenNet/data/train/kidney_1_dense/labels\n",
      "2279 images are loaded.\n",
      "2279 labels are loaded.\n",
      "Original size: (1303, 912), Converted size: (512, 512, 1)\n"
     ]
    }
   ],
   "source": [
    "# Get dataset paths\n",
    "image_path = os.path.join(CFG.TRAIN_DATASET_DIRECTORY, \"images\")\n",
    "mask_path = os.path.join(CFG.TRAIN_DATASET_DIRECTORY, \"labels\")\n",
    "\n",
    "# Print current working directory and full paths for debugging\n",
    "print(\"Current working directory:\", os.getcwd())\n",
    "print(\"Full image path:\", os.path.abspath(image_path))\n",
    "print(\"Full mask path:\", os.path.abspath(mask_path))\n",
    "\n",
    "# Initialize dataset\n",
    "dataset = CustomDataset(image_path, mask_path, target_image_size=CFG.INPUT_IMAGE_SIZE, gamma=CFG.GAMMA)"
   ]
  },
  {
   "cell_type": "code",
   "execution_count": 96,
   "metadata": {},
   "outputs": [
    {
     "data": {
      "image/png": "[encoded data removed]",
      "text/plain": [
       "<Figure size 1200x400 with 3 Axes>"
      ]
     },
     "metadata": {},
     "output_type": "display_data"
    }
   ],
   "source": [
    "index = 600\n",
    "original_image = io.imread(os.path.join(CFG.TRAIN_DATASET_DIRECTORY, \"images\", dataset[index][2]))\n",
    "display_image([original_image, dataset[index][0], dataset[index][1]], [f\"Image {dataset[index][2]}\", \"Processed\", f\"Mask {dataset[index][2]}\"])"
   ]
  },
  {
   "cell_type": "markdown",
   "metadata": {},
   "source": [
    "### 2.4. Train-Test-Split and DataLoader"
   ]
  },
  {
   "cell_type": "code",
   "execution_count": 97,
   "metadata": {},
   "outputs": [
    {
     "name": "stdout",
     "output_type": "stream",
     "text": [
      "Numbers of batches in train, valid, test data loader are:\n",
      "Train: 4, Validation: 1, Test: 1\n"
     ]
    }
   ],
   "source": [
    "# Slice dataset\n",
    "if not CFG.NUM_IMAGES:\n",
    "    pass\n",
    "elif CFG.NUM_IMAGES < 6:\n",
    "    raise(\"Number of samples is not sufficient. Raise number over 6.\")\n",
    "else:\n",
    "    # Create a subset of the dataset\n",
    "    indices = torch.randperm(len(dataset)).tolist()\n",
    "    subset_indices = indices[:CFG.NUM_IMAGES]\n",
    "    subset_dataset = Subset(dataset, subset_indices)\n",
    "    dataset = subset_dataset\n",
    "\n",
    "# Calculate the sizes of train and test sets\n",
    "total_size = len(dataset)\n",
    "test_size = int(total_size * CFG.TRAIN_TEST_SPLIT_RATIO)\n",
    "train_size = total_size - test_size\n",
    "\n",
    "# Split the dataset into train and test datasets\n",
    "train_dataset, test_dataset = random_split(dataset, [train_size, test_size])\n",
    "\n",
    "# Further split the train dataset into train and validation datasets\n",
    "val_size = int(train_size * CFG.TRAIN_TEST_SPLIT_RATIO)\n",
    "new_train_size = train_size - val_size\n",
    "train_dataset, val_dataset = random_split(train_dataset, [new_train_size, val_size])\n",
    "\n",
    "# Create DataLoaders for train, validation, and test datasets\n",
    "train_loader = DataLoader(train_dataset, batch_size=CFG.BATCH_SIZE, shuffle=True, num_workers=CFG.NUM_WORKERS)\n",
    "val_loader = DataLoader(val_dataset, batch_size=1, shuffle=False, num_workers=CFG.NUM_WORKERS)\n",
    "test_loader = DataLoader(test_dataset, batch_size=1, shuffle=False, num_workers=CFG.NUM_WORKERS)\n",
    "\n",
    "print(\"Numbers of batches in train, valid, test data loader are:\")\n",
    "print(f\"Train: {len(train_loader)}, Validation: {len(val_loader)}, Test: {len(test_loader)}\")"
   ]
  },
  {
   "cell_type": "code",
   "execution_count": 98,
   "metadata": {},
   "outputs": [
    {
     "name": "stdout",
     "output_type": "stream",
     "text": [
      "Shape of the data:  torch.Size([1, 512, 512, 1])\n"
     ]
    }
   ],
   "source": [
    "data, target, filename = next(iter(train_loader))\n",
    "print(\"Shape of the data: \", data.shape)  # Expected: [batch_size, 1, height, width]"
   ]
  },
  {
   "cell_type": "code",
   "execution_count": 99,
   "metadata": {},
   "outputs": [
    {
     "name": "stderr",
     "output_type": "stream",
     "text": [
      "100%|██████████| 4/4 [00:00<00:00, 114.99it/s]\n"
     ]
    },
    {
     "name": "stdout",
     "output_type": "stream",
     "text": [
      "All target masks are binary (contain only 0s and 1s)\n"
     ]
    },
    {
     "name": "stderr",
     "output_type": "stream",
     "text": [
      "100%|██████████| 1/1 [00:00<00:00, 110.30it/s]\n"
     ]
    },
    {
     "name": "stdout",
     "output_type": "stream",
     "text": [
      "All target masks are binary (contain only 0s and 1s)\n"
     ]
    },
    {
     "name": "stderr",
     "output_type": "stream",
     "text": [
      "100%|██████████| 1/1 [00:00<00:00, 125.00it/s]"
     ]
    },
    {
     "name": "stdout",
     "output_type": "stream",
     "text": [
      "All target masks are binary (contain only 0s and 1s)\n"
     ]
    },
    {
     "name": "stderr",
     "output_type": "stream",
     "text": [
      "\n"
     ]
    }
   ],
   "source": [
    "def check_target_masks(data_loader):\n",
    "    for batch_index, (data, target, filename) in enumerate(tqdm(data_loader)):\n",
    "        target_np = target.cpu().numpy()\n",
    "        \n",
    "        if not np.all(np.isin(target_np, [0, 1])):\n",
    "            unique_values = np.unique(target_np)\n",
    "            return False, f\"Non-binary values found in batch {batch_index}. Unique values: {unique_values}\"\n",
    "\n",
    "    return True, \"All target masks are binary (contain only 0s and 1s)\"\n",
    "\n",
    "is_binary, message = check_target_masks(train_loader)\n",
    "print(message)\n",
    "is_binary, message = check_target_masks(val_loader)\n",
    "print(message)\n",
    "is_binary, message = check_target_masks(test_loader)\n",
    "print(message)"
   ]
  },
  {
   "cell_type": "markdown",
   "metadata": {},
   "source": [
    "# 3. Image Augmentation"
   ]
  },
  {
   "cell_type": "code",
   "execution_count": 100,
   "metadata": {},
   "outputs": [],
   "source": [
    "def Augement_image(image, mask):\n",
    "\n",
    "    image_dense = torch.from_numpy(image.astype(np.float32))\n",
    "    mask_dense = torch.from_numpy(mask.astype(np.float32))\n",
    "\n",
    "    if len(image_dense.shape) == 2:\n",
    "        image_dense = image_dense.unsqueeze(0)\n",
    "\n",
    "    image_np = image_dense.permute(1, 2, 0).numpy()\n",
    "    mask_np = mask_dense.numpy()\n",
    "\n",
    "    image_list = [None, None, None, None]\n",
    "    mask_list = [None, None, None, None]\n",
    "    \n",
    "    transform_rotate_90 = Alb.Compose([\n",
    "        Alb.Rotate(limit=90, p=0.5)\n",
    "    ])\n",
    "\n",
    "    # Original image\n",
    "    image_list[0] = image_np\n",
    "    mask_list[0] = mask_np\n",
    "\n",
    "    # Original image with 90-degree rotation\n",
    "    augmented_rotate_90 = transform_rotate_90(image=image_np, mask=mask_np)\n",
    "    image_list[1], mask_list[1] = augmented_rotate_90['image'], augmented_rotate_90['mask']\n",
    "\n",
    "    # Original image with 180-degree rotation\n",
    "    augmented_rotate_180 = transform_rotate_90(image=image_list[1], mask=mask_list[1])   \n",
    "    image_list[2], mask_list[2] = augmented_rotate_180['image'], augmented_rotate_180['mask']\n",
    "\n",
    "    # Original image with 270-degree rotation\n",
    "    augmented_rotate_270 = transform_rotate_90(image=image_list[2], mask=mask_list[2])\n",
    "    image_list[3], mask_list[3] = augmented_rotate_270['image'], augmented_rotate_270['mask']\n",
    "\n",
    "    # Making the mask dimentions 3\n",
    "    for i in range(4):\n",
    "        if mask_list[i].ndim == 2:\n",
    "            mask_list[i] = mask_list[i][..., np.newaxis]\n",
    "\n",
    "    augmented_data_zip = list(zip(*[image_list, mask_list]))\n",
    "\n",
    "    return augmented_data_zip"
   ]
  },
  {
   "cell_type": "markdown",
   "metadata": {},
   "source": [
    "# 4. Model: VGG16"
   ]
  },
  {
   "cell_type": "markdown",
   "metadata": {},
   "source": [
    "## 4.1 Model"
   ]
  },
  {
   "cell_type": "code",
   "execution_count": 101,
   "metadata": {},
   "outputs": [],
   "source": [
    "class VGGBlock(nn.Module):\n",
    "    def __init__(self, in_channels, out_channels, num_conv_layers=4):\n",
    "        super(VGGBlock, self).__init__()\n",
    "        self.in_channels = in_channels\n",
    "        self.out_channels = out_channels\n",
    "        self.num_conv_layers = num_conv_layers\n",
    "\n",
    "        layers = []\n",
    "        for _ in range(num_conv_layers):\n",
    "            layers.append(nn.Conv2d(in_channels, out_channels, kernel_size=3, padding=1))\n",
    "            layers.append(nn.BatchNorm2d(out_channels))\n",
    "            layers.append(nn.ReLU(inplace=True))\n",
    "            in_channels = out_channels\n",
    "\n",
    "        layers.append(nn.MaxPool2d(kernel_size=2, stride=2))  # Change stride from 2 to 1\n",
    "\n",
    "        self.vgg_block = nn.Sequential(*layers)\n",
    "\n",
    "    def forward(self, x):\n",
    "        return self.vgg_block(x)\n",
    "\n",
    "class VGG16(nn.Module):\n",
    "    def __init__(self, in_channels, num_classes):\n",
    "        super(VGG16, self).__init__()\n",
    "        self.in_channels = in_channels\n",
    "\n",
    "        self.encoder = nn.Sequential(\n",
    "            VGGBlock(in_channels, 64, 2),\n",
    "            VGGBlock(64, 128, 2),\n",
    "            VGGBlock(128, 256, 3),\n",
    "            VGGBlock(256, 512, 3),\n",
    "            VGGBlock(512, 512, 3)\n",
    "        )\n",
    "\n",
    "        self.avg_pool = nn.AdaptiveAvgPool2d((7, 7))\n",
    "        self.fc = nn.Sequential(\n",
    "            nn.Linear(512 * 7 * 7, 4096),\n",
    "            nn.ReLU(inplace=True),\n",
    "            nn.Dropout(),\n",
    "            nn.Linear(4096, 4096),\n",
    "            nn.ReLU(inplace=True),\n",
    "            nn.Dropout(),\n",
    "            nn.Linear(4096, num_classes)\n",
    "        )\n",
    "\n",
    "    def forward(self, x):\n",
    "        x = self.encoder(x)\n",
    "        x = self.avg_pool(x)\n",
    "        x = torch.flatten(x, 1)\n",
    "        x = self.fc(x)\n",
    "        return x"
   ]
  },
  {
   "cell_type": "markdown",
   "metadata": {},
   "source": [
    "## 4.2 Model Summary"
   ]
  },
  {
   "cell_type": "code",
   "execution_count": 102,
   "metadata": {},
   "outputs": [
    {
     "name": "stdout",
     "output_type": "stream",
     "text": [
      "VGG16(\n",
      "  (encoder): Sequential(\n",
      "    (0): VGGBlock(\n",
      "      (vgg_block): Sequential(\n",
      "        (0): Conv2d(1, 64, kernel_size=(3, 3), stride=(1, 1), padding=(1, 1))\n",
      "        (1): BatchNorm2d(64, eps=1e-05, momentum=0.1, affine=True, track_running_stats=True)\n",
      "        (2): ReLU(inplace=True)\n",
      "        (3): Conv2d(64, 64, kernel_size=(3, 3), stride=(1, 1), padding=(1, 1))\n",
      "        (4): BatchNorm2d(64, eps=1e-05, momentum=0.1, affine=True, track_running_stats=True)\n",
      "        (5): ReLU(inplace=True)\n",
      "        (6): MaxPool2d(kernel_size=2, stride=2, padding=0, dilation=1, ceil_mode=False)\n",
      "      )\n",
      "    )\n",
      "    (1): VGGBlock(\n",
      "      (vgg_block): Sequential(\n",
      "        (0): Conv2d(64, 128, kernel_size=(3, 3), stride=(1, 1), padding=(1, 1))\n",
      "        (1): BatchNorm2d(128, eps=1e-05, momentum=0.1, affine=True, track_running_stats=True)\n",
      "        (2): ReLU(inplace=True)\n",
      "        (3): Conv2d(128, 128, kernel_size=(3, 3), stride=(1, 1), padding=(1, 1))\n",
      "        (4): BatchNorm2d(128, eps=1e-05, momentum=0.1, affine=True, track_running_stats=True)\n",
      "        (5): ReLU(inplace=True)\n",
      "        (6): MaxPool2d(kernel_size=2, stride=2, padding=0, dilation=1, ceil_mode=False)\n",
      "      )\n",
      "    )\n",
      "    (2): VGGBlock(\n",
      "      (vgg_block): Sequential(\n",
      "        (0): Conv2d(128, 256, kernel_size=(3, 3), stride=(1, 1), padding=(1, 1))\n",
      "        (1): BatchNorm2d(256, eps=1e-05, momentum=0.1, affine=True, track_running_stats=True)\n",
      "        (2): ReLU(inplace=True)\n",
      "        (3): Conv2d(256, 256, kernel_size=(3, 3), stride=(1, 1), padding=(1, 1))\n",
      "        (4): BatchNorm2d(256, eps=1e-05, momentum=0.1, affine=True, track_running_stats=True)\n",
      "        (5): ReLU(inplace=True)\n",
      "        (6): Conv2d(256, 256, kernel_size=(3, 3), stride=(1, 1), padding=(1, 1))\n",
      "        (7): BatchNorm2d(256, eps=1e-05, momentum=0.1, affine=True, track_running_stats=True)\n",
      "        (8): ReLU(inplace=True)\n",
      "        (9): MaxPool2d(kernel_size=2, stride=2, padding=0, dilation=1, ceil_mode=False)\n",
      "      )\n",
      "    )\n",
      "    (3): VGGBlock(\n",
      "      (vgg_block): Sequential(\n",
      "        (0): Conv2d(256, 512, kernel_size=(3, 3), stride=(1, 1), padding=(1, 1))\n",
      "        (1): BatchNorm2d(512, eps=1e-05, momentum=0.1, affine=True, track_running_stats=True)\n",
      "        (2): ReLU(inplace=True)\n",
      "        (3): Conv2d(512, 512, kernel_size=(3, 3), stride=(1, 1), padding=(1, 1))\n",
      "        (4): BatchNorm2d(512, eps=1e-05, momentum=0.1, affine=True, track_running_stats=True)\n",
      "        (5): ReLU(inplace=True)\n",
      "        (6): Conv2d(512, 512, kernel_size=(3, 3), stride=(1, 1), padding=(1, 1))\n",
      "        (7): BatchNorm2d(512, eps=1e-05, momentum=0.1, affine=True, track_running_stats=True)\n",
      "        (8): ReLU(inplace=True)\n",
      "        (9): MaxPool2d(kernel_size=2, stride=2, padding=0, dilation=1, ceil_mode=False)\n",
      "      )\n",
      "    )\n",
      "    (4): VGGBlock(\n",
      "      (vgg_block): Sequential(\n",
      "        (0): Conv2d(512, 512, kernel_size=(3, 3), stride=(1, 1), padding=(1, 1))\n",
      "        (1): BatchNorm2d(512, eps=1e-05, momentum=0.1, affine=True, track_running_stats=True)\n",
      "        (2): ReLU(inplace=True)\n",
      "        (3): Conv2d(512, 512, kernel_size=(3, 3), stride=(1, 1), padding=(1, 1))\n",
      "        (4): BatchNorm2d(512, eps=1e-05, momentum=0.1, affine=True, track_running_stats=True)\n",
      "        (5): ReLU(inplace=True)\n",
      "        (6): Conv2d(512, 512, kernel_size=(3, 3), stride=(1, 1), padding=(1, 1))\n",
      "        (7): BatchNorm2d(512, eps=1e-05, momentum=0.1, affine=True, track_running_stats=True)\n",
      "        (8): ReLU(inplace=True)\n",
      "        (9): MaxPool2d(kernel_size=2, stride=2, padding=0, dilation=1, ceil_mode=False)\n",
      "      )\n",
      "    )\n",
      "  )\n",
      "  (avg_pool): AdaptiveAvgPool2d(output_size=(7, 7))\n",
      "  (fc): Sequential(\n",
      "    (0): Linear(in_features=25088, out_features=4096, bias=True)\n",
      "    (1): ReLU(inplace=True)\n",
      "    (2): Dropout(p=0.5, inplace=False)\n",
      "    (3): Linear(in_features=4096, out_features=4096, bias=True)\n",
      "    (4): ReLU(inplace=True)\n",
      "    (5): Dropout(p=0.5, inplace=False)\n",
      "    (6): Linear(in_features=4096, out_features=1, bias=True)\n",
      "  )\n",
      ")\n"
     ]
    },
    {
     "data": {
      "text/plain": [
       "==========================================================================================\n",
       "Layer (type:depth-idx)                   Output Shape              Param #\n",
       "==========================================================================================\n",
       "VGG16                                    [1, 1]                    --\n",
       "├─Sequential: 1-1                        [1, 512, 32, 32]          --\n",
       "│    └─VGGBlock: 2-1                     [1, 64, 512, 512]         --\n",
       "│    │    └─Sequential: 3-1              [1, 64, 512, 512]         37,824\n",
       "│    └─VGGBlock: 2-2                     [1, 128, 256, 256]        --\n",
       "│    │    └─Sequential: 3-2              [1, 128, 256, 256]        221,952\n",
       "│    └─VGGBlock: 2-3                     [1, 256, 128, 128]        --\n",
       "│    │    └─Sequential: 3-3              [1, 256, 128, 128]        1,476,864\n",
       "│    └─VGGBlock: 2-4                     [1, 512, 64, 64]          --\n",
       "│    │    └─Sequential: 3-4              [1, 512, 64, 64]          5,902,848\n",
       "│    └─VGGBlock: 2-5                     [1, 512, 32, 32]          --\n",
       "│    │    └─Sequential: 3-5              [1, 512, 32, 32]          7,082,496\n",
       "├─AdaptiveAvgPool2d: 1-2                 [1, 512, 7, 7]            --\n",
       "├─Sequential: 1-3                        [1, 1]                    --\n",
       "│    └─Linear: 2-6                       [1, 4096]                 102,764,544\n",
       "│    └─ReLU: 2-7                         [1, 4096]                 --\n",
       "│    └─Dropout: 2-8                      [1, 4096]                 --\n",
       "│    └─Linear: 2-9                       [1, 4096]                 16,781,312\n",
       "│    └─ReLU: 2-10                        [1, 4096]                 --\n",
       "│    └─Dropout: 2-11                     [1, 4096]                 --\n",
       "│    └─Linear: 2-12                      [1, 1]                    4,097\n",
       "==========================================================================================\n",
       "Total params: 134,271,937\n",
       "Trainable params: 134,271,937\n",
       "Non-trainable params: 0\n",
       "Total mult-adds (Units.GIGABYTES): 319.91\n",
       "==========================================================================================\n",
       "Input size (MB): 4.19\n",
       "Forward/backward pass size (MB): 4529.91\n",
       "Params size (MB): 537.09\n",
       "Estimated Total Size (MB): 5071.20\n",
       "=========================================================================================="
      ]
     },
     "execution_count": 102,
     "metadata": {},
     "output_type": "execute_result"
    }
   ],
   "source": [
    "# Example usage:\n",
    "in_channels = 1  # Assuming input images have 3 channels (e.g., RGB)\n",
    "num_classes = 1  # Number of segmentation classes\n",
    "model = VGG16(in_channels, num_classes)\n",
    "\n",
    "print(model)\n",
    "summary(model, input_size=(1, in_channels, 1024, 1024)) "
   ]
  },
  {
   "cell_type": "markdown",
   "metadata": {},
   "source": [
    "# 5. Evaluation"
   ]
  },
  {
   "cell_type": "markdown",
   "metadata": {},
   "source": [
    "### 5.1. Run-Length Encode and Decode\n",
    "Run-Length Encoding (RLE) is a simple form of data compression where runs of data (i.e., sequences in which the same data value occurs in many consecutive data elements) are stored as a single data value and count. It is particularly effective for data with many such runs, as it can significantly reduce the size of the data.\n",
    "\n",
    "In the context of image segmentation, such as in a Kaggle competition for blood vessel segmentation from CT images, RLE is often used to encode binary masks. In a binary mask, each pixel is either part of the object of interest (e.g., a blood vessel) or the background. RLE can efficiently represent these masks, especially when large regions of pixels are the same (all vessel or all background).\n",
    "\n",
    "The encoding typically works as follows:\n",
    "\n",
    "The binary mask is flattened into a one-dimensional array (e.g., by taking each row of pixels in turn).\n",
    "The algorithm goes through this array and counts the number of consecutive pixels with the same value.\n",
    "Each run of pixels is then represented by two numbers: the start position in the flattened array and the length of the run.\n",
    "For example, the array [0, 0, 1, 1, 1, 0, 0] would be encoded as [2, 3] in RLE, meaning that starting from the third element, there are three consecutive 1s."
   ]
  },
  {
   "cell_type": "code",
   "execution_count": 103,
   "metadata": {},
   "outputs": [],
   "source": [
    "# ref.: https://www.kaggle.com/stainsby/fast-tested-rle\n",
    "def rle_encode(img):\n",
    "    '''\n",
    "    img: numpy array, 1 - mask, 0 - background\n",
    "    Returns run length as string formated\n",
    "    '''\n",
    "    pixels = img.flatten()\n",
    "    pixels = np.concatenate([[0], pixels, [0]])\n",
    "    runs = np.where(pixels[1:] != pixels[:-1])[0] + 1\n",
    "    runs[1::2] -= runs[::2]\n",
    "    return ' '.join(str(x) for x in runs)\n",
    " \n",
    "def rle_decode(mask_rle, shape):\n",
    "    '''\n",
    "    mask_rle: run-length as string formated (start length)\n",
    "    shape: (height,width) of array to return \n",
    "    Returns numpy array, 1 - mask, 0 - background\n",
    "\n",
    "    '''\n",
    "    s = mask_rle.split()\n",
    "    starts, lengths = [np.asarray(x, dtype=int) for x in (s[0:][::2], s[1:][::2])]\n",
    "    starts -= 1\n",
    "    ends = starts + lengths\n",
    "    img = np.zeros(shape[0]*shape[1], dtype=np.uint8)\n",
    "    for lo, hi in zip(starts, ends):\n",
    "        img[lo:hi] = 1\n",
    "    return img.reshape(shape)"
   ]
  },
  {
   "cell_type": "markdown",
   "metadata": {},
   "source": [
    "### 5.2. Loss function"
   ]
  },
  {
   "cell_type": "markdown",
   "metadata": {},
   "source": [
    "##### 5.3.1 FocalLoss"
   ]
  },
  {
   "cell_type": "code",
   "execution_count": 104,
   "metadata": {},
   "outputs": [],
   "source": [
    "class FocalLoss(nn.modules.loss._WeightedLoss):\n",
    "\n",
    "    def __init__(self, gamma=0, size_average=None, ignore_index=-100,\n",
    "                 reduce=None, balance_param=1.0):\n",
    "        super(FocalLoss, self).__init__(size_average)\n",
    "        self.gamma = gamma\n",
    "        self.size_average = size_average\n",
    "        self.ignore_index = ignore_index\n",
    "        self.balance_param = balance_param\n",
    "\n",
    "    def forward(self, input, target):\n",
    "        \n",
    "        assert len(input.shape) == len(target.shape)\n",
    "        assert input.size(0) == target.size(0)\n",
    "        assert input.size(1) == target.size(1)\n",
    "\n",
    "        logpt = - F.binary_cross_entropy_with_logits(input, target)\n",
    "        pt = torch.exp(logpt)\n",
    "\n",
    "        focal_loss = -((1 - pt) ** self.gamma) * logpt\n",
    "        balanced_focal_loss = self.balance_param * focal_loss\n",
    "        return balanced_focal_loss\n"
   ]
  },
  {
   "cell_type": "markdown",
   "metadata": {},
   "source": [
    "##### 5.2.2. Dice Loss"
   ]
  },
  {
   "cell_type": "code",
   "execution_count": 105,
   "metadata": {},
   "outputs": [],
   "source": [
    "class DiceLoss(nn.Module):\n",
    "    def forward(self, inputs, targets, smooth=1):\n",
    "        inputs = inputs.sigmoid()\n",
    "        intersection = (inputs * targets).sum()\n",
    "        dice = (2.*intersection + smooth)/(inputs.sum() + targets.sum() + smooth)\n",
    "        return 1.0 - dice"
   ]
  },
  {
   "cell_type": "markdown",
   "metadata": {},
   "source": [
    "##### 5.2.3. Jaccard/Intersection over Union (IoU) Loss"
   ]
  },
  {
   "cell_type": "code",
   "execution_count": 106,
   "metadata": {},
   "outputs": [],
   "source": [
    "class IoULoss(nn.Module):\n",
    "    def forward(self, inputs, targets, smooth=1):\n",
    "        inputs = inputs.sigmoid()\n",
    "        intersection = (inputs * targets).sum()\n",
    "        total = (inputs + targets).sum()\n",
    "        union = total - intersection \n",
    "        IoU = (intersection + smooth) / (union + smooth)\n",
    "        return 1 - IoU"
   ]
  },
  {
   "cell_type": "code",
   "execution_count": 107,
   "metadata": {},
   "outputs": [],
   "source": [
    "def dice_coefficient(prediction, target):\n",
    "\n",
    "    mask = np.zeros_like(prediction)\n",
    "    mask[prediction >= 0.5] = 1\n",
    "\n",
    "    inter = np.sum(mask * target)\n",
    "    union = np.sum(mask) + np.sum(target)\n",
    "    epsilon = 1e-6\n",
    "    result = np.mean(2 * inter / (union + epsilon))\n",
    "    return result"
   ]
  },
  {
   "cell_type": "markdown",
   "metadata": {},
   "source": [
    "## Metrics"
   ]
  },
  {
   "cell_type": "code",
   "execution_count": 108,
   "metadata": {},
   "outputs": [],
   "source": [
    "def calculate_metrics(y_pred, y_true):\n",
    "    \"\"\"\n",
    "    Calculates IOU, F1 score, precision, recall, and accuracy for U-Net predictions using NumPy.\n",
    "\n",
    "    Arguments:\n",
    "    y_true -- the ground truth labels (a binary array of 0s and 1s)\n",
    "    y_pred -- the predicted labels (a binary array of 0s and 1s)\n",
    "\n",
    "    Returns:\n",
    "    A dictionary containing the IOU, F1 score, precision, recall, and accuracy.\n",
    "    \"\"\"\n",
    "    with torch.no_grad():\n",
    "        # Convert probability output to binary predictions\n",
    "        y_pred = (y_pred > 0.5).float()\n",
    "\n",
    "        # Flatten the arrays\n",
    "        y_true = y_true.detach().cpu().numpy().flatten()\n",
    "        y_pred = y_pred.detach().cpu().numpy().flatten()\n",
    "\n",
    "        # Calculate true positives, false positives, and false negatives\n",
    "        tp = np.sum((y_true == 1) & (y_pred == 1))\n",
    "        fp = np.sum((y_true == 0) & (y_pred == 1))\n",
    "        fn = np.sum((y_true == 1) & (y_pred == 0))\n",
    "\n",
    "        # Very small number to prevent infinity when dividing zero\n",
    "        eps = 1e-8\n",
    "\n",
    "        # Calculate IOU\n",
    "        iou = tp / (tp + fp + fn + eps)\n",
    "\n",
    "        # Calculate precision\n",
    "        precision = tp / (tp + fp + eps)\n",
    "\n",
    "        # Calculate recall\n",
    "        recall = tp / (tp + fn + eps)\n",
    "\n",
    "        # Calculate F1 score\n",
    "        f1_score = 2 * (precision * recall) / (precision + recall + eps)\n",
    "\n",
    "        # Calculate accuracy\n",
    "        accuracy = np.sum(y_true == y_pred) / len(y_true)\n",
    "\n",
    "    # Return a dictionary containing the metrics\n",
    "    metrics = {\"IoU_Score\": iou, \"F1_Score\": f1_score, \"Precision\": precision, \"Recall\": recall, \"Accuracy\": accuracy}\n",
    "    return metrics"
   ]
  },
  {
   "cell_type": "markdown",
   "metadata": {},
   "source": [
    "# 6. Train"
   ]
  },
  {
   "cell_type": "markdown",
   "metadata": {},
   "source": [
    "### 6.1. Trainer Class"
   ]
  },
  {
   "cell_type": "code",
   "execution_count": 78,
   "metadata": {},
   "outputs": [],
   "source": [
    "class Trainer:\n",
    "    def __init__(self, model, train_loader, val_loader, optimizer, criterion, device, checkpoint_path, model_name):\n",
    "        self.model = model\n",
    "        self.train_loader = train_loader\n",
    "        self.val_loader = val_loader\n",
    "        self.optimizer = optimizer\n",
    "        self.criterion = criterion\n",
    "        self.device = device\n",
    "        self.checkpoint_path = checkpoint_path\n",
    "        self.model_name = model_name\n",
    "        self.best_valid_loss = float('inf')\n",
    "\n",
    "    def train_epoch(self):\n",
    "        self.model.train()\n",
    "        total_train_loss = 0  # Initialize cumulative loss to zero\n",
    "        \n",
    "        for batch_index, batch in enumerate(tqdm(self.train_loader)):\n",
    "            self.optimizer.zero_grad()\n",
    "            data, target, filename = batch\n",
    "            \n",
    "            data = data.to(self.device, dtype=torch.float32).permute(0, 3, 1, 2)\n",
    "            target = target.to(self.device, dtype=torch.float32).permute(0, 3, 1, 2)\n",
    "\n",
    "            # Convert data and target to float\n",
    "            data = data.float()\n",
    "            target = target.float()\n",
    "\n",
    "            output = self.model(data)\n",
    "            train_loss = self.criterion(output, target)\n",
    "            train_loss.backward()\n",
    "            self.optimizer.step()\n",
    "\n",
    "            total_train_loss += train_loss.item()\n",
    "\n",
    "        average_train_loss = total_train_loss/len(self.train_loader)\n",
    "        return average_train_loss\n",
    "\n",
    "    def validate(self):\n",
    "        self.model.eval()\n",
    "        val_loss = 0\n",
    "        with torch.no_grad():\n",
    "            for batch_index, batch in enumerate(tqdm(self.val_loader)):\n",
    "                data, target, filename = batch\n",
    "                data = data.to(self.device, dtype=torch.float32).permute(0, 3, 1, 2)\n",
    "                target = target.to(self.device, dtype=torch.float32).permute(0, 3, 1, 2)\n",
    "\n",
    "                # Convert data and target to float\n",
    "                data = data.float()\n",
    "                target = target.float()\n",
    "\n",
    "                output = self.model(data)\n",
    "                val_loss += self.criterion(output, target).item()\n",
    "        return val_loss / len(self.val_loader.dataset)\n",
    "\n",
    "    def train(self, epochs):\n",
    "        # Initialize training dataframe\n",
    "        train_df = pd.DataFrame(columns=[\n",
    "            \"Epoch\",\n",
    "            \"Train_Loss\",\n",
    "            \"Valid_Loss\",\n",
    "            \"Time_Per_Iteration\"\n",
    "        ])\n",
    "\n",
    "        for epoch in range(epochs):\n",
    "            print(f\"\\nEpoch # {epoch+1}\")\n",
    "            start_time = time.time()\n",
    "            train_loss = self.train_epoch()\n",
    "            val_loss = self.validate()\n",
    "            iteration_time = (time.time() - start_time) / len(self.train_loader)\n",
    "\n",
    "            # Convert train_loss and val_loss to Python scalars\n",
    "            train_loss_scalar = train_loss.item() if isinstance(train_loss, torch.Tensor) else train_loss\n",
    "            val_loss_scalar = val_loss.item() if isinstance(val_loss, torch.Tensor) else val_loss\n",
    "\n",
    "            # Create a new DataFrame for the current epoch's results\n",
    "            result_df = pd.DataFrame({\n",
    "                \"Epoch\": [epoch + 1],\n",
    "                \"Train_Loss\": [train_loss_scalar],\n",
    "                \"Valid_Loss\": [val_loss_scalar],\n",
    "                \"Time_Per_Iteration\": [iteration_time]\n",
    "            })\n",
    "\n",
    "            # Append the new DataFrame to train_df\n",
    "            train_df = pd.concat([train_df, result_df], ignore_index=True)\n",
    "\n",
    "            # Check and create 'checkpoints' directory if it doesn't exist\n",
    "            if not os.path.exists(self.checkpoint_path):\n",
    "                os.makedirs(os.path.dirname(self.checkpoint_path), exist_ok=True)\n",
    "            \n",
    "            # Save the DataFrame to a CSV file\n",
    "            train_df.to_csv(os.path.join(self.checkpoint_path, f\"{self.model_name}.csv\"))\n",
    "\n",
    "            # Save model if the valid loss is lower than the previous ones\n",
    "            if val_loss < self.best_valid_loss:\n",
    "                print(f\"Train Loss: {train_loss:2.6f}, Validation Loss: {self.best_valid_loss:2.6f} -> {val_loss: 2.6f}\")\n",
    "                self.best_valid_loss = val_loss\n",
    "                self.save_model(self.model, self.checkpoint_path, self.model_name)\n",
    "                print(f\"Saved model at: {os.path.abspath(self.model_name)}\")\n",
    "            else:\n",
    "                print(f\"Train Loss: {train_loss:2.6f}, Validation Loss: {val_loss:2.6f}\")\n",
    "\n",
    "        return self.model, train_df\n",
    "    \n",
    "    def save_model(self, model, path, filename):\n",
    "        # make directory if there is not\n",
    "        if not os.path.exists(path):\n",
    "            os.makedirs(path)\n",
    "\n",
    "        # save weight values in .pth file\n",
    "        torch.save(model.state_dict(), os.path.join(path, filename))"
   ]
  },
  {
   "cell_type": "markdown",
   "metadata": {},
   "source": [
    "### 6.2. Train Model"
   ]
  },
  {
   "cell_type": "code",
   "execution_count": 79,
   "metadata": {},
   "outputs": [
    {
     "name": "stdout",
     "output_type": "stream",
     "text": [
      "\n",
      "Epoch # 1\n"
     ]
    },
    {
     "name": "stderr",
     "output_type": "stream",
     "text": [
      "100%|██████████| 4/4 [00:03<00:00,  1.01it/s]\n",
      "100%|██████████| 1/1 [00:00<00:00,  3.38it/s]\n",
      "/var/folders/sr/nxb9m_611_32j6vhnhz46bjm0000gn/T/ipykernel_9970/682827931.py:84: FutureWarning: The behavior of DataFrame concatenation with empty or all-NA entries is deprecated. In a future version, this will no longer exclude empty or all-NA columns when determining the result dtypes. To retain the old behavior, exclude the relevant entries before the concat operation.\n",
      "  train_df = pd.concat([train_df, result_df], ignore_index=True)\n"
     ]
    },
    {
     "name": "stdout",
     "output_type": "stream",
     "text": [
      "Train Loss: 0.997627, Validation Loss: inf ->  0.994101\n",
      "Saved model at: /Users/jinyoo/Documents/projects/SenNet/jin/VGG16_kidney_1_dense_checkpoint.pth\n",
      "\n",
      "Epoch # 2\n"
     ]
    },
    {
     "name": "stderr",
     "output_type": "stream",
     "text": [
      "100%|██████████| 4/4 [00:03<00:00,  1.06it/s]\n",
      "100%|██████████| 1/1 [00:00<00:00,  3.32it/s]\n"
     ]
    },
    {
     "name": "stdout",
     "output_type": "stream",
     "text": [
      "Train Loss: 0.997626, Validation Loss: 0.994101 ->  0.994091\n",
      "Saved model at: /Users/jinyoo/Documents/projects/SenNet/jin/VGG16_kidney_1_dense_checkpoint.pth\n",
      "\n",
      "Epoch # 3\n"
     ]
    },
    {
     "name": "stderr",
     "output_type": "stream",
     "text": [
      "100%|██████████| 4/4 [00:03<00:00,  1.10it/s]\n",
      "100%|██████████| 1/1 [00:00<00:00,  3.36it/s]\n"
     ]
    },
    {
     "name": "stdout",
     "output_type": "stream",
     "text": [
      "Train Loss: 0.997625, Validation Loss: 0.994091 ->  0.994081\n",
      "Saved model at: /Users/jinyoo/Documents/projects/SenNet/jin/VGG16_kidney_1_dense_checkpoint.pth\n",
      "\n",
      "Epoch # 4\n"
     ]
    },
    {
     "name": "stderr",
     "output_type": "stream",
     "text": [
      "100%|██████████| 4/4 [00:03<00:00,  1.09it/s]\n",
      "100%|██████████| 1/1 [00:00<00:00,  3.35it/s]\n"
     ]
    },
    {
     "name": "stdout",
     "output_type": "stream",
     "text": [
      "Train Loss: 0.997625, Validation Loss: 0.994081 ->  0.994076\n",
      "Saved model at: /Users/jinyoo/Documents/projects/SenNet/jin/VGG16_kidney_1_dense_checkpoint.pth\n",
      "\n",
      "Epoch # 5\n"
     ]
    },
    {
     "name": "stderr",
     "output_type": "stream",
     "text": [
      "100%|██████████| 4/4 [00:03<00:00,  1.10it/s]\n",
      "100%|██████████| 1/1 [00:00<00:00,  3.45it/s]\n"
     ]
    },
    {
     "name": "stdout",
     "output_type": "stream",
     "text": [
      "Train Loss: 0.997625, Validation Loss: 0.994076 ->  0.994073\n",
      "Saved model at: /Users/jinyoo/Documents/projects/SenNet/jin/VGG16_kidney_1_dense_checkpoint.pth\n",
      "\n",
      "Epoch # 6\n"
     ]
    },
    {
     "name": "stderr",
     "output_type": "stream",
     "text": [
      "100%|██████████| 4/4 [00:03<00:00,  1.11it/s]\n",
      "100%|██████████| 1/1 [00:00<00:00,  3.43it/s]\n"
     ]
    },
    {
     "name": "stdout",
     "output_type": "stream",
     "text": [
      "Train Loss: 0.997625, Validation Loss: 0.994073 ->  0.994072\n",
      "Saved model at: /Users/jinyoo/Documents/projects/SenNet/jin/VGG16_kidney_1_dense_checkpoint.pth\n",
      "\n",
      "Epoch # 7\n"
     ]
    },
    {
     "name": "stderr",
     "output_type": "stream",
     "text": [
      "100%|██████████| 4/4 [00:03<00:00,  1.11it/s]\n",
      "100%|██████████| 1/1 [00:00<00:00,  3.43it/s]\n"
     ]
    },
    {
     "name": "stdout",
     "output_type": "stream",
     "text": [
      "Train Loss: 0.997625, Validation Loss: 0.994072 ->  0.994072\n",
      "Saved model at: /Users/jinyoo/Documents/projects/SenNet/jin/VGG16_kidney_1_dense_checkpoint.pth\n",
      "\n",
      "Epoch # 8\n"
     ]
    },
    {
     "name": "stderr",
     "output_type": "stream",
     "text": [
      "100%|██████████| 4/4 [00:03<00:00,  1.11it/s]\n",
      "100%|██████████| 1/1 [00:00<00:00,  3.42it/s]\n"
     ]
    },
    {
     "name": "stdout",
     "output_type": "stream",
     "text": [
      "Train Loss: 0.997625, Validation Loss: 0.994072 ->  0.994072\n",
      "Saved model at: /Users/jinyoo/Documents/projects/SenNet/jin/VGG16_kidney_1_dense_checkpoint.pth\n",
      "\n",
      "Epoch # 9\n"
     ]
    },
    {
     "name": "stderr",
     "output_type": "stream",
     "text": [
      "100%|██████████| 4/4 [00:03<00:00,  1.11it/s]\n",
      "100%|██████████| 1/1 [00:00<00:00,  3.45it/s]\n"
     ]
    },
    {
     "name": "stdout",
     "output_type": "stream",
     "text": [
      "Train Loss: 0.997625, Validation Loss: 0.994072\n",
      "\n",
      "Epoch # 10\n"
     ]
    },
    {
     "name": "stderr",
     "output_type": "stream",
     "text": [
      "100%|██████████| 4/4 [00:03<00:00,  1.11it/s]\n",
      "100%|██████████| 1/1 [00:00<00:00,  3.46it/s]\n"
     ]
    },
    {
     "name": "stdout",
     "output_type": "stream",
     "text": [
      "Train Loss: 0.997625, Validation Loss: 0.994072 ->  0.994072\n",
      "Saved model at: /Users/jinyoo/Documents/projects/SenNet/jin/VGG16_kidney_1_dense_checkpoint.pth\n",
      "\n",
      "Epoch # 11\n"
     ]
    },
    {
     "name": "stderr",
     "output_type": "stream",
     "text": [
      "100%|██████████| 4/4 [00:03<00:00,  1.11it/s]\n",
      "100%|██████████| 1/1 [00:00<00:00,  3.35it/s]\n"
     ]
    },
    {
     "name": "stdout",
     "output_type": "stream",
     "text": [
      "Train Loss: 0.997625, Validation Loss: 0.994072\n",
      "\n",
      "Epoch # 12\n"
     ]
    },
    {
     "name": "stderr",
     "output_type": "stream",
     "text": [
      "100%|██████████| 4/4 [00:03<00:00,  1.10it/s]\n",
      "100%|██████████| 1/1 [00:00<00:00,  3.41it/s]\n"
     ]
    },
    {
     "name": "stdout",
     "output_type": "stream",
     "text": [
      "Train Loss: 0.997625, Validation Loss: 0.994072\n",
      "\n",
      "Epoch # 13\n"
     ]
    },
    {
     "name": "stderr",
     "output_type": "stream",
     "text": [
      "100%|██████████| 4/4 [00:03<00:00,  1.10it/s]\n",
      "100%|██████████| 1/1 [00:00<00:00,  3.40it/s]\n"
     ]
    },
    {
     "name": "stdout",
     "output_type": "stream",
     "text": [
      "Train Loss: 0.997625, Validation Loss: 0.994072\n",
      "\n",
      "Epoch # 14\n"
     ]
    },
    {
     "name": "stderr",
     "output_type": "stream",
     "text": [
      "100%|██████████| 4/4 [00:03<00:00,  1.10it/s]\n",
      "100%|██████████| 1/1 [00:00<00:00,  3.42it/s]\n"
     ]
    },
    {
     "name": "stdout",
     "output_type": "stream",
     "text": [
      "Train Loss: 0.997625, Validation Loss: 0.994072\n",
      "\n",
      "Epoch # 15\n"
     ]
    },
    {
     "name": "stderr",
     "output_type": "stream",
     "text": [
      "100%|██████████| 4/4 [00:03<00:00,  1.10it/s]\n",
      "100%|██████████| 1/1 [00:00<00:00,  3.41it/s]\n"
     ]
    },
    {
     "name": "stdout",
     "output_type": "stream",
     "text": [
      "Train Loss: 0.997625, Validation Loss: 0.994072\n",
      "\n",
      "Epoch # 16\n"
     ]
    },
    {
     "name": "stderr",
     "output_type": "stream",
     "text": [
      "100%|██████████| 4/4 [00:03<00:00,  1.10it/s]\n",
      "100%|██████████| 1/1 [00:00<00:00,  3.42it/s]\n"
     ]
    },
    {
     "name": "stdout",
     "output_type": "stream",
     "text": [
      "Train Loss: 0.997625, Validation Loss: 0.994072\n",
      "\n",
      "Epoch # 17\n"
     ]
    },
    {
     "name": "stderr",
     "output_type": "stream",
     "text": [
      "100%|██████████| 4/4 [00:03<00:00,  1.10it/s]\n",
      "100%|██████████| 1/1 [00:00<00:00,  3.34it/s]\n"
     ]
    },
    {
     "name": "stdout",
     "output_type": "stream",
     "text": [
      "Train Loss: 0.997625, Validation Loss: 0.994072\n",
      "\n",
      "Epoch # 18\n"
     ]
    },
    {
     "name": "stderr",
     "output_type": "stream",
     "text": [
      "100%|██████████| 4/4 [00:03<00:00,  1.09it/s]\n",
      "100%|██████████| 1/1 [00:00<00:00,  3.37it/s]\n"
     ]
    },
    {
     "name": "stdout",
     "output_type": "stream",
     "text": [
      "Train Loss: 0.997625, Validation Loss: 0.994072\n",
      "\n",
      "Epoch # 19\n"
     ]
    },
    {
     "name": "stderr",
     "output_type": "stream",
     "text": [
      "100%|██████████| 4/4 [00:03<00:00,  1.09it/s]\n",
      "100%|██████████| 1/1 [00:00<00:00,  3.36it/s]\n"
     ]
    },
    {
     "name": "stdout",
     "output_type": "stream",
     "text": [
      "Train Loss: 0.997625, Validation Loss: 0.994072\n",
      "\n",
      "Epoch # 20\n"
     ]
    },
    {
     "name": "stderr",
     "output_type": "stream",
     "text": [
      "100%|██████████| 4/4 [00:03<00:00,  1.09it/s]\n",
      "100%|██████████| 1/1 [00:00<00:00,  3.40it/s]\n"
     ]
    },
    {
     "name": "stdout",
     "output_type": "stream",
     "text": [
      "Train Loss: 0.997625, Validation Loss: 0.994072\n",
      "\n",
      "Epoch # 21\n"
     ]
    },
    {
     "name": "stderr",
     "output_type": "stream",
     "text": [
      "100%|██████████| 4/4 [00:03<00:00,  1.09it/s]\n",
      "100%|██████████| 1/1 [00:00<00:00,  3.38it/s]\n"
     ]
    },
    {
     "name": "stdout",
     "output_type": "stream",
     "text": [
      "Train Loss: 0.997625, Validation Loss: 0.994072\n",
      "\n",
      "Epoch # 22\n"
     ]
    },
    {
     "name": "stderr",
     "output_type": "stream",
     "text": [
      "100%|██████████| 4/4 [00:03<00:00,  1.09it/s]\n",
      "100%|██████████| 1/1 [00:00<00:00,  3.40it/s]\n"
     ]
    },
    {
     "name": "stdout",
     "output_type": "stream",
     "text": [
      "Train Loss: 0.997625, Validation Loss: 0.994072\n",
      "\n",
      "Epoch # 23\n"
     ]
    },
    {
     "name": "stderr",
     "output_type": "stream",
     "text": [
      "100%|██████████| 4/4 [00:03<00:00,  1.09it/s]\n",
      "100%|██████████| 1/1 [00:00<00:00,  3.39it/s]\n"
     ]
    },
    {
     "name": "stdout",
     "output_type": "stream",
     "text": [
      "Train Loss: 0.997625, Validation Loss: 0.994072\n",
      "\n",
      "Epoch # 24\n"
     ]
    },
    {
     "name": "stderr",
     "output_type": "stream",
     "text": [
      "100%|██████████| 4/4 [00:03<00:00,  1.09it/s]\n",
      "100%|██████████| 1/1 [00:00<00:00,  3.39it/s]\n"
     ]
    },
    {
     "name": "stdout",
     "output_type": "stream",
     "text": [
      "Train Loss: 0.997625, Validation Loss: 0.994072\n",
      "\n",
      "Epoch # 25\n"
     ]
    },
    {
     "name": "stderr",
     "output_type": "stream",
     "text": [
      "100%|██████████| 4/4 [00:03<00:00,  1.09it/s]\n",
      "100%|██████████| 1/1 [00:00<00:00,  3.40it/s]\n"
     ]
    },
    {
     "name": "stdout",
     "output_type": "stream",
     "text": [
      "Train Loss: 0.997625, Validation Loss: 0.994072\n",
      "\n",
      "Epoch # 26\n"
     ]
    },
    {
     "name": "stderr",
     "output_type": "stream",
     "text": [
      "100%|██████████| 4/4 [00:03<00:00,  1.09it/s]\n",
      "100%|██████████| 1/1 [00:00<00:00,  3.35it/s]\n"
     ]
    },
    {
     "name": "stdout",
     "output_type": "stream",
     "text": [
      "Train Loss: 0.997625, Validation Loss: 0.994072\n",
      "\n",
      "Epoch # 27\n"
     ]
    },
    {
     "name": "stderr",
     "output_type": "stream",
     "text": [
      "100%|██████████| 4/4 [00:03<00:00,  1.09it/s]\n",
      "100%|██████████| 1/1 [00:00<00:00,  3.38it/s]\n"
     ]
    },
    {
     "name": "stdout",
     "output_type": "stream",
     "text": [
      "Train Loss: 0.997625, Validation Loss: 0.994072\n",
      "\n",
      "Epoch # 28\n"
     ]
    },
    {
     "name": "stderr",
     "output_type": "stream",
     "text": [
      "100%|██████████| 4/4 [00:03<00:00,  1.08it/s]\n",
      "100%|██████████| 1/1 [00:00<00:00,  3.38it/s]\n"
     ]
    },
    {
     "name": "stdout",
     "output_type": "stream",
     "text": [
      "Train Loss: 0.997625, Validation Loss: 0.994072\n",
      "\n",
      "Epoch # 29\n"
     ]
    },
    {
     "name": "stderr",
     "output_type": "stream",
     "text": [
      "100%|██████████| 4/4 [00:03<00:00,  1.09it/s]\n",
      "100%|██████████| 1/1 [00:00<00:00,  3.37it/s]\n"
     ]
    },
    {
     "name": "stdout",
     "output_type": "stream",
     "text": [
      "Train Loss: 0.997625, Validation Loss: 0.994072\n",
      "\n",
      "Epoch # 30\n"
     ]
    },
    {
     "name": "stderr",
     "output_type": "stream",
     "text": [
      "100%|██████████| 4/4 [00:03<00:00,  1.08it/s]\n",
      "100%|██████████| 1/1 [00:00<00:00,  3.36it/s]"
     ]
    },
    {
     "name": "stdout",
     "output_type": "stream",
     "text": [
      "Train Loss: 0.997625, Validation Loss: 0.994072\n"
     ]
    },
    {
     "name": "stderr",
     "output_type": "stream",
     "text": [
      "\n"
     ]
    }
   ],
   "source": [
    "# Initialize trainer class\n",
    "trainer = Trainer(model,\n",
    "                train_loader,\n",
    "                val_loader,\n",
    "                optimizer=optim.Adam(model.parameters(),lr=CFG.LEARNING_RATE),\n",
    "                criterion=IoULoss(),\n",
    "                device=CFG.DEVICE,\n",
    "                checkpoint_path=CFG.CHECKPOINT_PATH,\n",
    "                model_name=CFG.TRAINED_MODEL\n",
    ")\n",
    "\n",
    "# Train the model\n",
    "model, train_df = trainer.train(epochs=CFG.NUM_EPOCHS)"
   ]
  },
  {
   "cell_type": "markdown",
   "metadata": {},
   "source": [
    "### 6.3. Results in training"
   ]
  },
  {
   "cell_type": "code",
   "execution_count": 109,
   "metadata": {},
   "outputs": [
    {
     "data": {
      "text/plain": [
       "Text(0.5, 1.0, 'Valid and Train Losses')"
      ]
     },
     "execution_count": 109,
     "metadata": {},
     "output_type": "execute_result"
    },
    {
     "data": {
      "image/png": "[encoded data removed]",
      "text/plain": [
       "<Figure size 640x480 with 1 Axes>"
      ]
     },
     "metadata": {},
     "output_type": "display_data"
    }
   ],
   "source": [
    "train_df = pd.read_csv(os.path.join(CFG.CHECKPOINT_PATH, f\"{CFG.TRAINED_MODEL}.csv\"))\n",
    "\n",
    "sns.set_theme()\n",
    "ax = sns.lineplot(data=train_df, x=\"Epoch\", y=\"Train_Loss\", label=\"Train Loss\")\n",
    "ax = sns.lineplot(data=train_df, x=\"Epoch\", y=\"Valid_Loss\", label=\"Valid Loss\")\n",
    "\n",
    "ax.set_xlabel(\"Epoch Numbers\")\n",
    "ax.set_ylabel(\"Losses\")\n",
    "ax.set_title(\"Valid and Train Losses\")"
   ]
  },
  {
   "cell_type": "markdown",
   "metadata": {},
   "source": [
    "# 7. Test"
   ]
  },
  {
   "cell_type": "markdown",
   "metadata": {},
   "source": [
    "### 7.1 Tester Class"
   ]
  },
  {
   "cell_type": "code",
   "execution_count": 110,
   "metadata": {},
   "outputs": [],
   "source": [
    "class Tester:\n",
    "    def __init__(self, model, test_loader, criterion, device, checkpoint_path, model_name):\n",
    "        self.model = model\n",
    "        self.test_loader = test_loader\n",
    "        self.criterion = criterion\n",
    "        self.device = device\n",
    "        self.checkpoint_path = checkpoint_path\n",
    "        self.model_name = model_name\n",
    "\n",
    "        # Load model state dictionary\n",
    "        self.load_model()\n",
    "        \n",
    "    def load_model(self):\n",
    "        model_path = os.path.join(self.checkpoint_path, self.model_name)\n",
    "        if os.path.isfile(model_path):\n",
    "            self.model.load_state_dict(torch.load(model_path))\n",
    "            print(f\"Model loaded from {model_path}\")\n",
    "        else:\n",
    "            print(\"Model file not found. Please check the path and model_name.\")\n",
    "\n",
    "    def test(self):\n",
    "        self.model.eval()\n",
    "        self.model.to(self.device)\n",
    "        test_loss = 0\n",
    "        test_df = pd.DataFrame(columns=[\"Batch\", \"Filename\", \"Loss\", \"Time_Per_Iteration\", \"IoU_Score\", \"F1_Score\", \"Precision\", \"Recall\", \"Accuracy\", \"rle\"])\n",
    "\n",
    "        with torch.no_grad():\n",
    "            for batch_index, (data, target, filenames) in enumerate(tqdm(self.test_loader)):\n",
    "                data = data.to(self.device, dtype=torch.float32).permute(0, 3, 1, 2)\n",
    "                target = target.to(self.device, dtype=torch.float32).permute(0, 3, 1, 2)\n",
    "\n",
    "                batch_start_time = time.time()\n",
    "                output = self.model(data)\n",
    "                loss = self.criterion(output, target).item()\n",
    "                test_loss += loss\n",
    "\n",
    "                batch_time = time.time() - batch_start_time\n",
    "\n",
    "                # Calculate and store metrics\n",
    "                metrics = self.calculate_metrics(output, target)\n",
    "\n",
    "                for i in range(data.size(0)):\n",
    "                    # Process each image in the batch for RLE encoding\n",
    "                    pred_mask = output[i].cpu().numpy().squeeze()  # Assuming binary mask output\n",
    "                    pred_mask = (pred_mask > 0.5).astype(np.uint8)  # Thresholding\n",
    "\n",
    "                    # RLE encode the mask\n",
    "                    rle_encoded = self.rle_encode(pred_mask)\n",
    "\n",
    "                    # Extract the first element from filename if it's a tuple\n",
    "                    filename_str = filenames[i][0] if isinstance(filenames[i], tuple) else filenames[i]\n",
    "\n",
    "                    # Append all information to test_df\n",
    "                    batch_df = pd.DataFrame({\n",
    "                        \"Batch\": [batch_index + 1],\n",
    "                        \"Filename\": [filename_str],\n",
    "                        \"Loss\": [loss],\n",
    "                        \"Time_Per_Iteration\": [batch_time],\n",
    "                        \"IoU_Score\": [metrics[\"IoU_Score\"]],\n",
    "                        \"F1_Score\": [metrics[\"F1_Score\"]],\n",
    "                        \"Precision\": [metrics[\"Precision\"]],\n",
    "                        \"Recall\": [metrics[\"Recall\"]],\n",
    "                        \"Accuracy\": [metrics[\"Accuracy\"]],\n",
    "                        \"rle\": [rle_encoded]  # Add RLE encoding\n",
    "                    })\n",
    "                    test_df = pd.concat([test_df, batch_df], ignore_index=True)\n",
    "\n",
    "        test_loss /= len(self.test_loader)\n",
    "        print(f\"Test set: Average loss: {test_loss:.4f}\")\n",
    "\n",
    "        # Save test_df with all information\n",
    "        test_df.to_csv(os.path.join(self.checkpoint_path, f\"{self.model_name}_test_results.csv\"), index=False)\n",
    "\n",
    "        return self.model, test_df\n",
    "    \n",
    "    # ref.: https://www.kaggle.com/stainsby/fast-tested-rle\n",
    "    def rle_encode(self, img):\n",
    "        '''\n",
    "        img: numpy array, 1 - mask, 0 - background\n",
    "        Returns run length as string formated\n",
    "        '''\n",
    "        pixels = img.flatten()\n",
    "        pixels = np.concatenate([[0], pixels, [0]])\n",
    "        runs = np.where(pixels[1:] != pixels[:-1])[0] + 1\n",
    "        runs[1::2] -= runs[::2]\n",
    "        return ' '.join(str(x) for x in runs)\n",
    "\n",
    "    def calculate_metrics(self, y_pred, y_true):\n",
    "        with torch.no_grad():\n",
    "            y_pred = (y_pred > 0.5).float()\n",
    "            y_true = y_true.view_as(y_pred)\n",
    "\n",
    "            y_true = y_true.detach().cpu().numpy().flatten()\n",
    "            y_pred = y_pred.detach().cpu().numpy().flatten()\n",
    "\n",
    "            tp = np.sum((y_true == 1) & (y_pred == 1))\n",
    "            fp = np.sum((y_true == 0) & (y_pred == 1))\n",
    "            fn = np.sum((y_true == 1) & (y_pred == 0))\n",
    "\n",
    "            eps = 1e-8\n",
    "\n",
    "            iou = tp / (tp + fp + fn + eps)\n",
    "            precision = tp / (tp + fp + eps)\n",
    "            recall = tp / (tp + fn + eps)\n",
    "            f1_score = 2 * (precision * recall) / (precision + recall + eps)\n",
    "            accuracy = np.sum(y_true == y_pred) / len(y_true)\n",
    "\n",
    "            metrics = {\n",
    "                \"IoU_Score\": iou,\n",
    "                \"F1_Score\": f1_score,\n",
    "                \"Precision\": precision,\n",
    "                \"Recall\": recall,\n",
    "                \"Accuracy\": accuracy\n",
    "            }\n",
    "            return metrics"
   ]
  },
  {
   "cell_type": "markdown",
   "metadata": {},
   "source": [
    "### 7.2 Test model"
   ]
  },
  {
   "cell_type": "code",
   "execution_count": 111,
   "metadata": {},
   "outputs": [
    {
     "name": "stdout",
     "output_type": "stream",
     "text": [
      "Model loaded from /Users/jinyoo/Documents/projects/SenNet/jin/checkpoints/VGG16_kidney_1_dense_checkpoint.pth\n"
     ]
    },
    {
     "name": "stderr",
     "output_type": "stream",
     "text": [
      "  0%|          | 0/1 [00:00<?, ?it/s]\n"
     ]
    },
    {
     "ename": "RuntimeError",
     "evalue": "shape '[1, 1]' is invalid for input of size 262144",
     "output_type": "error",
     "traceback": [
      "\u001b[0;31m---------------------------------------------------------------------------\u001b[0m",
      "\u001b[0;31mRuntimeError\u001b[0m                              Traceback (most recent call last)",
      "Cell \u001b[0;32mIn[111], line 11\u001b[0m\n\u001b[1;32m      2\u001b[0m tester \u001b[38;5;241m=\u001b[39m Tester(model\u001b[38;5;241m=\u001b[39mVGG16(in_channels\u001b[38;5;241m=\u001b[39mCFG\u001b[38;5;241m.\u001b[39mIN_CHANNEL, num_classes\u001b[38;5;241m=\u001b[39mCFG\u001b[38;5;241m.\u001b[39mOUT_CHANNEL),\n\u001b[1;32m      3\u001b[0m                 test_loader\u001b[38;5;241m=\u001b[39mtest_loader,\n\u001b[1;32m      4\u001b[0m                 criterion\u001b[38;5;241m=\u001b[39mDiceLoss(),\n\u001b[0;32m   (...)\u001b[0m\n\u001b[1;32m      7\u001b[0m                 model_name\u001b[38;5;241m=\u001b[39mCFG\u001b[38;5;241m.\u001b[39mTRAINED_MODEL\n\u001b[1;32m      8\u001b[0m )\n\u001b[1;32m     10\u001b[0m \u001b[38;5;66;03m# Test the model\u001b[39;00m\n\u001b[0;32m---> 11\u001b[0m model, test_df \u001b[38;5;241m=\u001b[39m \u001b[43mtester\u001b[49m\u001b[38;5;241;43m.\u001b[39;49m\u001b[43mtest\u001b[49m\u001b[43m(\u001b[49m\u001b[43m)\u001b[49m\n",
      "Cell \u001b[0;32mIn[110], line 40\u001b[0m, in \u001b[0;36mTester.test\u001b[0;34m(self)\u001b[0m\n\u001b[1;32m     37\u001b[0m batch_time \u001b[38;5;241m=\u001b[39m time\u001b[38;5;241m.\u001b[39mtime() \u001b[38;5;241m-\u001b[39m batch_start_time\n\u001b[1;32m     39\u001b[0m \u001b[38;5;66;03m# Calculate and store metrics\u001b[39;00m\n\u001b[0;32m---> 40\u001b[0m metrics \u001b[38;5;241m=\u001b[39m \u001b[38;5;28;43mself\u001b[39;49m\u001b[38;5;241;43m.\u001b[39;49m\u001b[43mcalculate_metrics\u001b[49m\u001b[43m(\u001b[49m\u001b[43moutput\u001b[49m\u001b[43m,\u001b[49m\u001b[43m \u001b[49m\u001b[43mtarget\u001b[49m\u001b[43m)\u001b[49m\n\u001b[1;32m     42\u001b[0m \u001b[38;5;28;01mfor\u001b[39;00m i \u001b[38;5;129;01min\u001b[39;00m \u001b[38;5;28mrange\u001b[39m(data\u001b[38;5;241m.\u001b[39msize(\u001b[38;5;241m0\u001b[39m)):\n\u001b[1;32m     43\u001b[0m     \u001b[38;5;66;03m# Process each image in the batch for RLE encoding\u001b[39;00m\n\u001b[1;32m     44\u001b[0m     pred_mask \u001b[38;5;241m=\u001b[39m output[i]\u001b[38;5;241m.\u001b[39mcpu()\u001b[38;5;241m.\u001b[39mnumpy()\u001b[38;5;241m.\u001b[39msqueeze()  \u001b[38;5;66;03m# Assuming binary mask output\u001b[39;00m\n",
      "Cell \u001b[0;32mIn[110], line 91\u001b[0m, in \u001b[0;36mTester.calculate_metrics\u001b[0;34m(self, y_pred, y_true)\u001b[0m\n\u001b[1;32m     89\u001b[0m \u001b[38;5;28;01mwith\u001b[39;00m torch\u001b[38;5;241m.\u001b[39mno_grad():\n\u001b[1;32m     90\u001b[0m     y_pred \u001b[38;5;241m=\u001b[39m (y_pred \u001b[38;5;241m>\u001b[39m \u001b[38;5;241m0.5\u001b[39m)\u001b[38;5;241m.\u001b[39mfloat()\n\u001b[0;32m---> 91\u001b[0m     y_true \u001b[38;5;241m=\u001b[39m \u001b[43my_true\u001b[49m\u001b[38;5;241;43m.\u001b[39;49m\u001b[43mview_as\u001b[49m\u001b[43m(\u001b[49m\u001b[43my_pred\u001b[49m\u001b[43m)\u001b[49m\n\u001b[1;32m     93\u001b[0m     y_true \u001b[38;5;241m=\u001b[39m y_true\u001b[38;5;241m.\u001b[39mdetach()\u001b[38;5;241m.\u001b[39mcpu()\u001b[38;5;241m.\u001b[39mnumpy()\u001b[38;5;241m.\u001b[39mflatten()\n\u001b[1;32m     94\u001b[0m     y_pred \u001b[38;5;241m=\u001b[39m y_pred\u001b[38;5;241m.\u001b[39mdetach()\u001b[38;5;241m.\u001b[39mcpu()\u001b[38;5;241m.\u001b[39mnumpy()\u001b[38;5;241m.\u001b[39mflatten()\n",
      "\u001b[0;31mRuntimeError\u001b[0m: shape '[1, 1]' is invalid for input of size 262144"
     ]
    }
   ],
   "source": [
    "# Initialize tester class\n",
    "tester = Tester(model=VGG16(in_channels=CFG.IN_CHANNEL, num_classes=CFG.OUT_CHANNEL),\n",
    "                test_loader=test_loader,\n",
    "                criterion=DiceLoss(),\n",
    "                device=CFG.DEVICE,\n",
    "                checkpoint_path=CFG.CHECKPOINT_PATH,\n",
    "                model_name=CFG.TRAINED_MODEL\n",
    ")\n",
    "\n",
    "# Test the model\n",
    "model, test_df = tester.test()"
   ]
  },
  {
   "cell_type": "markdown",
   "metadata": {},
   "source": [
    "### 7.3 Results in test"
   ]
  },
  {
   "cell_type": "code",
   "execution_count": 112,
   "metadata": {},
   "outputs": [
    {
     "ename": "FileNotFoundError",
     "evalue": "[Errno 2] No such file or directory: '/Users/jinyoo/Documents/projects/SenNet/jin/checkpoints/VGG16_kidney_1_dense_checkpoint.pth_test_results.csv'",
     "output_type": "error",
     "traceback": [
      "\u001b[0;31m---------------------------------------------------------------------------\u001b[0m",
      "\u001b[0;31mFileNotFoundError\u001b[0m                         Traceback (most recent call last)",
      "Cell \u001b[0;32mIn[112], line 2\u001b[0m\n\u001b[1;32m      1\u001b[0m \u001b[38;5;66;03m# Load test results\u001b[39;00m\n\u001b[0;32m----> 2\u001b[0m test_df \u001b[38;5;241m=\u001b[39m \u001b[43mpd\u001b[49m\u001b[38;5;241;43m.\u001b[39;49m\u001b[43mread_csv\u001b[49m\u001b[43m(\u001b[49m\u001b[43mos\u001b[49m\u001b[38;5;241;43m.\u001b[39;49m\u001b[43mpath\u001b[49m\u001b[38;5;241;43m.\u001b[39;49m\u001b[43mjoin\u001b[49m\u001b[43m(\u001b[49m\u001b[43mCFG\u001b[49m\u001b[38;5;241;43m.\u001b[39;49m\u001b[43mCHECKPOINT_PATH\u001b[49m\u001b[43m,\u001b[49m\u001b[43m \u001b[49m\u001b[38;5;124;43mf\u001b[39;49m\u001b[38;5;124;43m\"\u001b[39;49m\u001b[38;5;132;43;01m{\u001b[39;49;00m\u001b[43mCFG\u001b[49m\u001b[38;5;241;43m.\u001b[39;49m\u001b[43mTRAINED_MODEL\u001b[49m\u001b[38;5;132;43;01m}\u001b[39;49;00m\u001b[38;5;124;43m_test_results.csv\u001b[39;49m\u001b[38;5;124;43m\"\u001b[39;49m\u001b[43m)\u001b[49m\u001b[43m)\u001b[49m\n\u001b[1;32m      4\u001b[0m \u001b[38;5;66;03m# Calculate the average of each metric\u001b[39;00m\n\u001b[1;32m      5\u001b[0m average_scores \u001b[38;5;241m=\u001b[39m test_df[[\u001b[38;5;124m\"\u001b[39m\u001b[38;5;124mIoU_Score\u001b[39m\u001b[38;5;124m\"\u001b[39m, \u001b[38;5;124m\"\u001b[39m\u001b[38;5;124mF1_Score\u001b[39m\u001b[38;5;124m\"\u001b[39m, \u001b[38;5;124m\"\u001b[39m\u001b[38;5;124mPrecision\u001b[39m\u001b[38;5;124m\"\u001b[39m, \u001b[38;5;124m\"\u001b[39m\u001b[38;5;124mRecall\u001b[39m\u001b[38;5;124m\"\u001b[39m, \u001b[38;5;124m\"\u001b[39m\u001b[38;5;124mAccuracy\u001b[39m\u001b[38;5;124m\"\u001b[39m]]\u001b[38;5;241m.\u001b[39mmean()\n",
      "File \u001b[0;32m~/Documents/projects/SenNet/.venv/lib/python3.11/site-packages/pandas/io/parsers/readers.py:948\u001b[0m, in \u001b[0;36mread_csv\u001b[0;34m(filepath_or_buffer, sep, delimiter, header, names, index_col, usecols, dtype, engine, converters, true_values, false_values, skipinitialspace, skiprows, skipfooter, nrows, na_values, keep_default_na, na_filter, verbose, skip_blank_lines, parse_dates, infer_datetime_format, keep_date_col, date_parser, date_format, dayfirst, cache_dates, iterator, chunksize, compression, thousands, decimal, lineterminator, quotechar, quoting, doublequote, escapechar, comment, encoding, encoding_errors, dialect, on_bad_lines, delim_whitespace, low_memory, memory_map, float_precision, storage_options, dtype_backend)\u001b[0m\n\u001b[1;32m    935\u001b[0m kwds_defaults \u001b[38;5;241m=\u001b[39m _refine_defaults_read(\n\u001b[1;32m    936\u001b[0m     dialect,\n\u001b[1;32m    937\u001b[0m     delimiter,\n\u001b[0;32m   (...)\u001b[0m\n\u001b[1;32m    944\u001b[0m     dtype_backend\u001b[38;5;241m=\u001b[39mdtype_backend,\n\u001b[1;32m    945\u001b[0m )\n\u001b[1;32m    946\u001b[0m kwds\u001b[38;5;241m.\u001b[39mupdate(kwds_defaults)\n\u001b[0;32m--> 948\u001b[0m \u001b[38;5;28;01mreturn\u001b[39;00m \u001b[43m_read\u001b[49m\u001b[43m(\u001b[49m\u001b[43mfilepath_or_buffer\u001b[49m\u001b[43m,\u001b[49m\u001b[43m \u001b[49m\u001b[43mkwds\u001b[49m\u001b[43m)\u001b[49m\n",
      "File \u001b[0;32m~/Documents/projects/SenNet/.venv/lib/python3.11/site-packages/pandas/io/parsers/readers.py:611\u001b[0m, in \u001b[0;36m_read\u001b[0;34m(filepath_or_buffer, kwds)\u001b[0m\n\u001b[1;32m    608\u001b[0m _validate_names(kwds\u001b[38;5;241m.\u001b[39mget(\u001b[38;5;124m\"\u001b[39m\u001b[38;5;124mnames\u001b[39m\u001b[38;5;124m\"\u001b[39m, \u001b[38;5;28;01mNone\u001b[39;00m))\n\u001b[1;32m    610\u001b[0m \u001b[38;5;66;03m# Create the parser.\u001b[39;00m\n\u001b[0;32m--> 611\u001b[0m parser \u001b[38;5;241m=\u001b[39m \u001b[43mTextFileReader\u001b[49m\u001b[43m(\u001b[49m\u001b[43mfilepath_or_buffer\u001b[49m\u001b[43m,\u001b[49m\u001b[43m \u001b[49m\u001b[38;5;241;43m*\u001b[39;49m\u001b[38;5;241;43m*\u001b[39;49m\u001b[43mkwds\u001b[49m\u001b[43m)\u001b[49m\n\u001b[1;32m    613\u001b[0m \u001b[38;5;28;01mif\u001b[39;00m chunksize \u001b[38;5;129;01mor\u001b[39;00m iterator:\n\u001b[1;32m    614\u001b[0m     \u001b[38;5;28;01mreturn\u001b[39;00m parser\n",
      "File \u001b[0;32m~/Documents/projects/SenNet/.venv/lib/python3.11/site-packages/pandas/io/parsers/readers.py:1448\u001b[0m, in \u001b[0;36mTextFileReader.__init__\u001b[0;34m(self, f, engine, **kwds)\u001b[0m\n\u001b[1;32m   1445\u001b[0m     \u001b[38;5;28mself\u001b[39m\u001b[38;5;241m.\u001b[39moptions[\u001b[38;5;124m\"\u001b[39m\u001b[38;5;124mhas_index_names\u001b[39m\u001b[38;5;124m\"\u001b[39m] \u001b[38;5;241m=\u001b[39m kwds[\u001b[38;5;124m\"\u001b[39m\u001b[38;5;124mhas_index_names\u001b[39m\u001b[38;5;124m\"\u001b[39m]\n\u001b[1;32m   1447\u001b[0m \u001b[38;5;28mself\u001b[39m\u001b[38;5;241m.\u001b[39mhandles: IOHandles \u001b[38;5;241m|\u001b[39m \u001b[38;5;28;01mNone\u001b[39;00m \u001b[38;5;241m=\u001b[39m \u001b[38;5;28;01mNone\u001b[39;00m\n\u001b[0;32m-> 1448\u001b[0m \u001b[38;5;28mself\u001b[39m\u001b[38;5;241m.\u001b[39m_engine \u001b[38;5;241m=\u001b[39m \u001b[38;5;28;43mself\u001b[39;49m\u001b[38;5;241;43m.\u001b[39;49m\u001b[43m_make_engine\u001b[49m\u001b[43m(\u001b[49m\u001b[43mf\u001b[49m\u001b[43m,\u001b[49m\u001b[43m \u001b[49m\u001b[38;5;28;43mself\u001b[39;49m\u001b[38;5;241;43m.\u001b[39;49m\u001b[43mengine\u001b[49m\u001b[43m)\u001b[49m\n",
      "File \u001b[0;32m~/Documents/projects/SenNet/.venv/lib/python3.11/site-packages/pandas/io/parsers/readers.py:1705\u001b[0m, in \u001b[0;36mTextFileReader._make_engine\u001b[0;34m(self, f, engine)\u001b[0m\n\u001b[1;32m   1703\u001b[0m     \u001b[38;5;28;01mif\u001b[39;00m \u001b[38;5;124m\"\u001b[39m\u001b[38;5;124mb\u001b[39m\u001b[38;5;124m\"\u001b[39m \u001b[38;5;129;01mnot\u001b[39;00m \u001b[38;5;129;01min\u001b[39;00m mode:\n\u001b[1;32m   1704\u001b[0m         mode \u001b[38;5;241m+\u001b[39m\u001b[38;5;241m=\u001b[39m \u001b[38;5;124m\"\u001b[39m\u001b[38;5;124mb\u001b[39m\u001b[38;5;124m\"\u001b[39m\n\u001b[0;32m-> 1705\u001b[0m \u001b[38;5;28mself\u001b[39m\u001b[38;5;241m.\u001b[39mhandles \u001b[38;5;241m=\u001b[39m \u001b[43mget_handle\u001b[49m\u001b[43m(\u001b[49m\n\u001b[1;32m   1706\u001b[0m \u001b[43m    \u001b[49m\u001b[43mf\u001b[49m\u001b[43m,\u001b[49m\n\u001b[1;32m   1707\u001b[0m \u001b[43m    \u001b[49m\u001b[43mmode\u001b[49m\u001b[43m,\u001b[49m\n\u001b[1;32m   1708\u001b[0m \u001b[43m    \u001b[49m\u001b[43mencoding\u001b[49m\u001b[38;5;241;43m=\u001b[39;49m\u001b[38;5;28;43mself\u001b[39;49m\u001b[38;5;241;43m.\u001b[39;49m\u001b[43moptions\u001b[49m\u001b[38;5;241;43m.\u001b[39;49m\u001b[43mget\u001b[49m\u001b[43m(\u001b[49m\u001b[38;5;124;43m\"\u001b[39;49m\u001b[38;5;124;43mencoding\u001b[39;49m\u001b[38;5;124;43m\"\u001b[39;49m\u001b[43m,\u001b[49m\u001b[43m \u001b[49m\u001b[38;5;28;43;01mNone\u001b[39;49;00m\u001b[43m)\u001b[49m\u001b[43m,\u001b[49m\n\u001b[1;32m   1709\u001b[0m \u001b[43m    \u001b[49m\u001b[43mcompression\u001b[49m\u001b[38;5;241;43m=\u001b[39;49m\u001b[38;5;28;43mself\u001b[39;49m\u001b[38;5;241;43m.\u001b[39;49m\u001b[43moptions\u001b[49m\u001b[38;5;241;43m.\u001b[39;49m\u001b[43mget\u001b[49m\u001b[43m(\u001b[49m\u001b[38;5;124;43m\"\u001b[39;49m\u001b[38;5;124;43mcompression\u001b[39;49m\u001b[38;5;124;43m\"\u001b[39;49m\u001b[43m,\u001b[49m\u001b[43m \u001b[49m\u001b[38;5;28;43;01mNone\u001b[39;49;00m\u001b[43m)\u001b[49m\u001b[43m,\u001b[49m\n\u001b[1;32m   1710\u001b[0m \u001b[43m    \u001b[49m\u001b[43mmemory_map\u001b[49m\u001b[38;5;241;43m=\u001b[39;49m\u001b[38;5;28;43mself\u001b[39;49m\u001b[38;5;241;43m.\u001b[39;49m\u001b[43moptions\u001b[49m\u001b[38;5;241;43m.\u001b[39;49m\u001b[43mget\u001b[49m\u001b[43m(\u001b[49m\u001b[38;5;124;43m\"\u001b[39;49m\u001b[38;5;124;43mmemory_map\u001b[39;49m\u001b[38;5;124;43m\"\u001b[39;49m\u001b[43m,\u001b[49m\u001b[43m \u001b[49m\u001b[38;5;28;43;01mFalse\u001b[39;49;00m\u001b[43m)\u001b[49m\u001b[43m,\u001b[49m\n\u001b[1;32m   1711\u001b[0m \u001b[43m    \u001b[49m\u001b[43mis_text\u001b[49m\u001b[38;5;241;43m=\u001b[39;49m\u001b[43mis_text\u001b[49m\u001b[43m,\u001b[49m\n\u001b[1;32m   1712\u001b[0m \u001b[43m    \u001b[49m\u001b[43merrors\u001b[49m\u001b[38;5;241;43m=\u001b[39;49m\u001b[38;5;28;43mself\u001b[39;49m\u001b[38;5;241;43m.\u001b[39;49m\u001b[43moptions\u001b[49m\u001b[38;5;241;43m.\u001b[39;49m\u001b[43mget\u001b[49m\u001b[43m(\u001b[49m\u001b[38;5;124;43m\"\u001b[39;49m\u001b[38;5;124;43mencoding_errors\u001b[39;49m\u001b[38;5;124;43m\"\u001b[39;49m\u001b[43m,\u001b[49m\u001b[43m \u001b[49m\u001b[38;5;124;43m\"\u001b[39;49m\u001b[38;5;124;43mstrict\u001b[39;49m\u001b[38;5;124;43m\"\u001b[39;49m\u001b[43m)\u001b[49m\u001b[43m,\u001b[49m\n\u001b[1;32m   1713\u001b[0m \u001b[43m    \u001b[49m\u001b[43mstorage_options\u001b[49m\u001b[38;5;241;43m=\u001b[39;49m\u001b[38;5;28;43mself\u001b[39;49m\u001b[38;5;241;43m.\u001b[39;49m\u001b[43moptions\u001b[49m\u001b[38;5;241;43m.\u001b[39;49m\u001b[43mget\u001b[49m\u001b[43m(\u001b[49m\u001b[38;5;124;43m\"\u001b[39;49m\u001b[38;5;124;43mstorage_options\u001b[39;49m\u001b[38;5;124;43m\"\u001b[39;49m\u001b[43m,\u001b[49m\u001b[43m \u001b[49m\u001b[38;5;28;43;01mNone\u001b[39;49;00m\u001b[43m)\u001b[49m\u001b[43m,\u001b[49m\n\u001b[1;32m   1714\u001b[0m \u001b[43m\u001b[49m\u001b[43m)\u001b[49m\n\u001b[1;32m   1715\u001b[0m \u001b[38;5;28;01massert\u001b[39;00m \u001b[38;5;28mself\u001b[39m\u001b[38;5;241m.\u001b[39mhandles \u001b[38;5;129;01mis\u001b[39;00m \u001b[38;5;129;01mnot\u001b[39;00m \u001b[38;5;28;01mNone\u001b[39;00m\n\u001b[1;32m   1716\u001b[0m f \u001b[38;5;241m=\u001b[39m \u001b[38;5;28mself\u001b[39m\u001b[38;5;241m.\u001b[39mhandles\u001b[38;5;241m.\u001b[39mhandle\n",
      "File \u001b[0;32m~/Documents/projects/SenNet/.venv/lib/python3.11/site-packages/pandas/io/common.py:863\u001b[0m, in \u001b[0;36mget_handle\u001b[0;34m(path_or_buf, mode, encoding, compression, memory_map, is_text, errors, storage_options)\u001b[0m\n\u001b[1;32m    858\u001b[0m \u001b[38;5;28;01melif\u001b[39;00m \u001b[38;5;28misinstance\u001b[39m(handle, \u001b[38;5;28mstr\u001b[39m):\n\u001b[1;32m    859\u001b[0m     \u001b[38;5;66;03m# Check whether the filename is to be opened in binary mode.\u001b[39;00m\n\u001b[1;32m    860\u001b[0m     \u001b[38;5;66;03m# Binary mode does not support 'encoding' and 'newline'.\u001b[39;00m\n\u001b[1;32m    861\u001b[0m     \u001b[38;5;28;01mif\u001b[39;00m ioargs\u001b[38;5;241m.\u001b[39mencoding \u001b[38;5;129;01mand\u001b[39;00m \u001b[38;5;124m\"\u001b[39m\u001b[38;5;124mb\u001b[39m\u001b[38;5;124m\"\u001b[39m \u001b[38;5;129;01mnot\u001b[39;00m \u001b[38;5;129;01min\u001b[39;00m ioargs\u001b[38;5;241m.\u001b[39mmode:\n\u001b[1;32m    862\u001b[0m         \u001b[38;5;66;03m# Encoding\u001b[39;00m\n\u001b[0;32m--> 863\u001b[0m         handle \u001b[38;5;241m=\u001b[39m \u001b[38;5;28mopen\u001b[39m(\n\u001b[1;32m    864\u001b[0m             handle,\n\u001b[1;32m    865\u001b[0m             ioargs\u001b[38;5;241m.\u001b[39mmode,\n\u001b[1;32m    866\u001b[0m             encoding\u001b[38;5;241m=\u001b[39mioargs\u001b[38;5;241m.\u001b[39mencoding,\n\u001b[1;32m    867\u001b[0m             errors\u001b[38;5;241m=\u001b[39merrors,\n\u001b[1;32m    868\u001b[0m             newline\u001b[38;5;241m=\u001b[39m\u001b[38;5;124m\"\u001b[39m\u001b[38;5;124m\"\u001b[39m,\n\u001b[1;32m    869\u001b[0m         )\n\u001b[1;32m    870\u001b[0m     \u001b[38;5;28;01melse\u001b[39;00m:\n\u001b[1;32m    871\u001b[0m         \u001b[38;5;66;03m# Binary mode\u001b[39;00m\n\u001b[1;32m    872\u001b[0m         handle \u001b[38;5;241m=\u001b[39m \u001b[38;5;28mopen\u001b[39m(handle, ioargs\u001b[38;5;241m.\u001b[39mmode)\n",
      "\u001b[0;31mFileNotFoundError\u001b[0m: [Errno 2] No such file or directory: '/Users/jinyoo/Documents/projects/SenNet/jin/checkpoints/VGG16_kidney_1_dense_checkpoint.pth_test_results.csv'"
     ]
    }
   ],
   "source": [
    "# Load test results\n",
    "test_df = pd.read_csv(os.path.join(CFG.CHECKPOINT_PATH, f\"{CFG.TRAINED_MODEL}_test_results.csv\"))\n",
    "\n",
    "# Calculate the average of each metric\n",
    "average_scores = test_df[[\"IoU_Score\", \"F1_Score\", \"Precision\", \"Recall\", \"Accuracy\"]].mean()\n",
    "\n",
    "# Print the averaged results of scores\n",
    "print(\"Averaged Results of Scores:\")\n",
    "print(average_scores)\n",
    "\n",
    "# Calculate and print the average and total time per iteration\n",
    "average_time_per_iteration = test_df[\"Time_Per_Iteration\"].mean()\n",
    "total_time = test_df[\"Time_Per_Iteration\"].sum()\n",
    "\n",
    "print(\"\\nAverage Time Per Iteration: {:.4f} seconds\".format(average_time_per_iteration))\n",
    "print(\"Total Time for All Iterations: {:.4f} seconds\".format(total_time))\n",
    "\n",
    "# Divide required items from the dataset to show them only\n",
    "melted_data = test_df.melt(id_vars=[\"Filename\", \"Time_Per_Iteration\"],\n",
    "                           value_vars=[\"IoU_Score\", \"F1_Score\", \"Precision\", \"Recall\", \"Accuracy\"],\n",
    "                           var_name=\"Types of Metrics\", value_name=\"Score\")\n",
    "\n",
    "sns.set(style=\"whitegrid\")\n",
    "\n",
    "plt.figure(figsize=(20, 6))\n",
    "sns.violinplot(x=\"Types of Metrics\", y=\"Score\", data=melted_data,\n",
    "               inner=\"quartile\", linewidth=1, width=1,\n",
    "               order=[\"IoU_Score\", \"F1_Score\", \"Precision\", \"Recall\", \"Accuracy\"])\n",
    "\n",
    "# Remove side boundaries\n",
    "sns.despine(left=True)\n",
    "plt.show()"
   ]
  },
  {
   "cell_type": "markdown",
   "metadata": {},
   "source": [
    "### 7.4 Illustrate predictions"
   ]
  },
  {
   "cell_type": "code",
   "execution_count": null,
   "metadata": {},
   "outputs": [],
   "source": [
    "# Choose index\n",
    "index = 0\n",
    "if index < 0 or index >= len(test_df):\n",
    "    raise(\"Index out of range.\")\n",
    "\n",
    "# Extract data\n",
    "data_row = test_df.iloc[index]\n",
    "filename = data_row[\"Filename\"]\n",
    "rle = data_row['rle']\n",
    "results = {\n",
    "    \"Loss\": data_row[\"Loss\"],\n",
    "    \"Time_Per_Iteration\": data_row[\"Time_Per_Iteration\"],\n",
    "    \"IoU_Score\": data_row[\"IoU_Score\"],\n",
    "    \"F1_Score\": data_row[\"F1_Score\"],\n",
    "    \"Precision\": data_row[\"Precision\"],\n",
    "    \"Recall\": data_row[\"Recall\"],\n",
    "    \"Accuracy\": data_row[\"Accuracy\"],\n",
    "}\n",
    "\n",
    "# Get images\n",
    "original_image = io.imread(os.path.join(CFG.TRAIN_DATASET_DIRECTORY, \"images\", filename))\n",
    "label_image = io.imread(os.path.join(CFG.TRAIN_DATASET_DIRECTORY, \"labels\", filename))\n",
    "predicted_mask = rle_decode(rle, label_image.shape)\n",
    "\n",
    "# Prepare the images and titles for display\n",
    "images = [original_image, label_image, predicted_mask]\n",
    "titles = [\"Original Image\", \"Label\", \"Predicted Mask\"]\n",
    "\n",
    "# Use the display function\n",
    "display_image(images, titles)"
   ]
  }
 ],
 "metadata": {
  "kernelspec": {
   "display_name": ".venv",
   "language": "python",
   "name": "python3"
  },
  "language_info": {
   "codemirror_mode": {
    "name": "ipython",
    "version": 3
   },
   "file_extension": ".py",
   "mimetype": "text/x-python",
   "name": "python",
   "nbconvert_exporter": "python",
   "pygments_lexer": "ipython3",
   "version": "3.11.7"
  }
 },
 "nbformat": 4,
 "nbformat_minor": 2
}
