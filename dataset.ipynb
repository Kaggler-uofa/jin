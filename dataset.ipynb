{
 "cells": [
  {
   "cell_type": "markdown",
   "metadata": {},
   "source": [
    "# Setups"
   ]
  },
  {
   "cell_type": "code",
   "execution_count": 21,
   "metadata": {},
   "outputs": [],
   "source": [
    "import os\n",
    "import time\n",
    "import sys\n",
    "\n",
    "import numpy as np\n",
    "import pandas\n",
    "from skimage import io, transform\n",
    "import matplotlib.pyplot as plt\n",
    "import tqdm\n",
    "import albumentations as Alb\n",
    "import tifffile\n",
    "\n",
    "import torch\n",
    "import torch.nn as nn\n",
    "import torch.optim as optim\n",
    "from torch.utils.data import DataLoader, Dataset, Subset"
   ]
  },
  {
   "cell_type": "markdown",
   "metadata": {},
   "source": [
    "# Config"
   ]
  },
  {
   "cell_type": "code",
   "execution_count": 22,
   "metadata": {},
   "outputs": [],
   "source": [
    "class CFG:\n",
    "    \"\"\"\n",
    "    Configuration class for the blood vessel segmentation project.\n",
    "    \"\"\"\n",
    "\n",
    "    # ============== Model Configuration =============\n",
    "    MODEL_NAME = 'Unet'\n",
    "    BACKBONE = 'se_resnext50_32x4d'\n",
    "    IN_CHANNEL = 1  # Number of input channels (e.g., 1 for grayscale images)\n",
    "    OUT_CHANNEL = 1 # Number of output channels\n",
    "\n",
    "    # ============== Image Processing Settings =============\n",
    "    INPUT_IMAGE_SIZE = (1024, 1024)  # Size of the input images (height x width)\n",
    "    \n",
    "    # =============\n",
    "    # = Training and Validation Parameters =============\n",
    "    VALID_ID = 1  # ID for validation dataset or fold\n",
    "    BATCH_SIZE = 16  # Batch size for model training\n",
    "    THRESHOLD_PERCENTILE = 0.0014109  # Threshold for post-processing\n",
    "    LEARNING_RATE = 1e-4\n",
    "    NUM_EPOCHS = 50\n",
    "    NUM_WORKERS = 0 # Number of threds\n",
    "\n",
    "    # ============== Model Paths =============\n",
    "    # List of paths to trained model weights\n",
    "    MODEL_PATHS = [\n",
    "        \"/path/to/model1.pt\",\n",
    "        \"/path/to/model2.pt\",\n",
    "        # Add more model paths as needed\n",
    "    ]\n",
    "\n",
    "    # ============== Data Paths =============\n",
    "    DATASET_NAME = \"kidney_1_dense\"\n",
    "    DATASET_DIRECTORY = os.path.join(\"..\", \"data\")\n",
    "    TRAIN_DATASET_DIRECTORY = os.path.join(DATASET_DIRECTORY, \"train\", DATASET_NAME)\n",
    "    TEST_DATASET_DIRECTORY = os.path.join(DATASET_DIRECTORY, \"test\", DATASET_NAME)"
   ]
  },
  {
   "cell_type": "markdown",
   "metadata": {},
   "source": [
    "# 2. Custom Dataset Class"
   ]
  },
  {
   "cell_type": "code",
   "execution_count": 23,
   "metadata": {},
   "outputs": [],
   "source": [
    "class CustomDataset(Dataset):\n",
    "    def __init__(self, image_path, target_image_size):\n",
    "        self.image_path = image_path\n",
    "        self.target_image_size = target_image_size\n",
    "        self.image_filenames = sorted([os.path.join(image_path, filename) for filename in os.listdir(image_path) if filename.endswith('.tif')])\n",
    "        print(f\"{len(self.image_filenames)} samples are loaded.\")\n",
    "\n",
    "    def __getitem__(self, index):\n",
    "        # Load image\n",
    "        image = io.imread(self.image_filenames[index])\n",
    "\n",
    "        # Resize and pad the image\n",
    "        image = self.resize_and_pad(image, self.target_image_size)\n",
    "\n",
    "        # Extract the filename\n",
    "        image_filename = os.path.basename(self.image_filenames[index])\n",
    "        return image, image_filename\n",
    "\n",
    "    def __len__(self):\n",
    "        return len(self.image_filenames)\n",
    "\n",
    "    def resize_and_pad(self, image, target_image_size):\n",
    "        \"\"\"Resize an image and add padding to keep aspect ratio.\"\"\"\n",
    "        # Calculate scale and padding\n",
    "        h, w = image.shape[:2]\n",
    "        scale = min(target_image_size[0] / h, target_image_size[1] / w)\n",
    "        new_h, new_w = int(h * scale), int(w * scale)\n",
    "        pad_h = (target_image_size[0] - new_h) // 2\n",
    "        pad_w = (target_image_size[1] - new_w) // 2\n",
    "\n",
    "        # Resize image\n",
    "        image_resized = transform.resize(image, (new_h, new_w), anti_aliasing=True)\n",
    "\n",
    "        # Initialize padded image\n",
    "        if len(image.shape) == 2:  # Grayscale image\n",
    "            padded_image = np.zeros((target_image_size[0], target_image_size[1]), dtype=image_resized.dtype)\n",
    "        else:\n",
    "            padded_image = np.zeros((target_image_size[0], target_image_size[1], image.shape[2]), dtype=image_resized.dtype)\n",
    "\n",
    "        # Insert the resized image\n",
    "        padded_image[pad_h:pad_h+new_h, pad_w:pad_w+new_w] = image_resized\n",
    "\n",
    "        return padded_image"
   ]
  },
  {
   "cell_type": "markdown",
   "metadata": {},
   "source": [
    "# Image"
   ]
  },
  {
   "cell_type": "code",
   "execution_count": 28,
   "metadata": {},
   "outputs": [],
   "source": [
    "\n",
    "def display_image(image, title):\n",
    "    if isinstance(image, torch.Tensor):\n",
    "        # If the input is a PyTorch tensor\n",
    "        if len(image.shape) == 4:\n",
    "            image = image.squeeze(0)\n",
    "\n",
    "        numpy_image = image.cpu().numpy()\n",
    "\n",
    "        if len(numpy_image.shape) == 3 and numpy_image.shape[0] == 1:\n",
    "            numpy_image = numpy_image.squeeze(0)\n",
    "\n",
    "        if len(numpy_image.shape) == 3:\n",
    "            numpy_image = numpy_image.transpose(1, 2, 0)\n",
    "\n",
    "    elif isinstance(image, np.ndarray):\n",
    "        # If the input is a NumPy array\n",
    "        numpy_image = image\n",
    "\n",
    "        if len(numpy_image.shape) == 3 and numpy_image.shape[0] == 1:\n",
    "            numpy_image = numpy_image.squeeze(0)\n",
    "    \n",
    "    plt.imshow(numpy_image, cmap='gray')\n",
    "    plt.title(title)\n",
    "    plt.axis('off')\n",
    "    plt.show()"
   ]
  },
  {
   "cell_type": "code",
   "execution_count": 29,
   "metadata": {},
   "outputs": [
    {
     "name": "stdout",
     "output_type": "stream",
     "text": [
      "2279 samples are loaded.\n",
      "2279 samples are loaded.\n",
      "(1024, 1024)\n"
     ]
    },
    {
     "data": {
      "image/png": "[encoded data removed]",
      "text/plain": [
       "<Figure size 640x480 with 1 Axes>"
      ]
     },
     "metadata": {},
     "output_type": "display_data"
    }
   ],
   "source": [
    "\n",
    "# first_image = tifffile.imread(image_files[981])\n",
    "# first_label = tifffile.imread(label_files[981])\n",
    "\n",
    "# is_image = isinstance(first_image, np.ndarray)\n",
    "# is_mask = isinstance(first_label, np.ndarray)\n",
    "# print(is_image, is_mask)\n",
    "\n",
    "# # Convert tensor floats32\n",
    "# first_image_tensor = torch.from_numpy(first_image.astype(np.float32))\n",
    "# first_label_tensor = torch.from_numpy(first_label.astype(np.float32))\n",
    "\n",
    "# display_image(first_image_tensor)\n",
    "# display_image(first_label_tensor)\n",
    "\n",
    "# is_image_tensor = isinstance(first_image_tensor, torch.Tensor)\n",
    "# is_mask_tensor = isinstance(first_label_tensor, torch.Tensor)\n",
    "# print(is_image_tensor, is_mask_tensor)\n",
    "\n",
    "image_path = os.path.join(CFG.TRAIN_DATASET_DIRECTORY, \"images\")\n",
    "mask_path = os.path.join(CFG.TRAIN_DATASET_DIRECTORY, \"labels\")\n",
    "image_dataset = CustomDataset(image_path, CFG.INPUT_IMAGE_SIZE)\n",
    "mask_dataset = CustomDataset(mask_path, CFG.INPUT_IMAGE_SIZE)\n",
    "print(image_dataset[0][0].shape)\n",
    "display_image(image_dataset[900][0], \"t\")"
   ]
  },
  {
   "cell_type": "markdown",
   "metadata": {},
   "source": [
    "### 0.1 Image Augmentation"
   ]
  },
  {
   "cell_type": "code",
   "execution_count": 30,
   "metadata": {},
   "outputs": [],
   "source": [
    "def Augement_image(image, mask):\n",
    "\n",
    "    image_dense = torch.from_numpy(image.astype(np.float32))\n",
    "    mask_dense = torch.from_numpy(mask.astype(np.float32))\n",
    "\n",
    "    if len(image_dense.shape) == 2:\n",
    "        image_dense = image_dense.unsqueeze(0)\n",
    "\n",
    "    image_np = image_dense.permute(1, 2, 0).numpy()\n",
    "    mask_np = mask_dense.numpy()\n",
    "\n",
    "    image_list = [None, None, None, None]\n",
    "    mask_list = [None, None, None, None]\n",
    "    \n",
    "    transform_rotate_90 = Alb.Compose([\n",
    "        Alb.Rotate(limit=90, p=0.5)\n",
    "    ])\n",
    "\n",
    "    # Original image\n",
    "    image_list[0] = image_np\n",
    "    mask_list[0] = mask_np\n",
    "\n",
    "    # Original image with 90-degree rotation\n",
    "    augmented_rotate_90 = transform_rotate_90(image=image_np, mask=mask_np)\n",
    "    image_list[1], mask_list[1] = augmented_rotate_90['image'], augmented_rotate_90['mask']\n",
    "\n",
    "    # Original image with 180-degree rotation\n",
    "    augmented_rotate_180 = transform_rotate_90(image=image_list[1], mask=mask_list[1])   \n",
    "    image_list[2], mask_list[2] = augmented_rotate_180['image'], augmented_rotate_180['mask']\n",
    "\n",
    "    # Original image with 270-degree rotation\n",
    "    augmented_rotate_270 = transform_rotate_90(image=image_list[2], mask=mask_list[2])\n",
    "    image_list[3], mask_list[3] = augmented_rotate_270['image'], augmented_rotate_270['mask']\n",
    "\n",
    "    # Making the mask dimentions 3\n",
    "    for i in range(4):\n",
    "        if mask_list[i].ndim == 2:\n",
    "            mask_list[i] = mask_list[i][..., np.newaxis]\n",
    "\n",
    "    augmented_data_zip = list(zip(*[image_list, mask_list]))\n",
    "\n",
    "    return augmented_data_zip"
   ]
  },
  {
   "cell_type": "code",
   "execution_count": 43,
   "metadata": {},
   "outputs": [],
   "source": [
    "data_set = 'kidney_2'\n",
    "\n",
    "image_path = os.path.join('..', 'data', 'train', data_set, 'images')\n",
    "label_path = os.path.join('..', 'data', 'train', data_set, 'labels')\n",
    "\n",
    "image_files = sorted([os.path.join(image_path, f) for f in os.listdir(image_path) if f.endswith('.tif')])\n",
    "label_files = sorted([os.path.join(label_path, f) for f in os.listdir(label_path) if f.endswith('.tif')])\n",
    "\n",
    "# Load an example image and label\n",
    "first_image = tifffile.imread(image_files[981])\n",
    "first_label = tifffile.imread(label_files[981])\n",
    "\n",
    "# Augment the image and label\n",
    "# augmented_image, augmented_mask = Augement_image(first_image, first_label)\n",
    "augmented_zip = Augement_image(first_image, first_label)\n",
    "\n",
    "# Show the augmented image\n",
    "# display_image(augmented_image)\n",
    "# display_image(augmented_mask)\n",
    "\n",
    "# is_image_tensor = isinstance(augmented_image, np.ndarray)\n",
    "# is_mask_tensor = isinstance(augmented_mask, np.ndarray)\n",
    "# print(is_image_tensor, is_mask_tensor)\n",
    "# print(augmented_zip)\n",
    "# display_image(augmented_zip[-1][-1])"
   ]
  },
  {
   "cell_type": "markdown",
   "metadata": {},
   "source": [
    "### Load Datasets"
   ]
  },
  {
   "cell_type": "code",
   "execution_count": 44,
   "metadata": {},
   "outputs": [
    {
     "name": "stdout",
     "output_type": "stream",
     "text": [
      "Batch 0:\n",
      "  Image shapes: [torch.Size([1041, 1511, 1]), torch.Size([1041, 1511, 1]), torch.Size([1041, 1511, 1]), torch.Size([1041, 1511, 1])]\n",
      "  Mask shapes: [torch.Size([1041, 1511, 1]), torch.Size([1041, 1511, 1]), torch.Size([1041, 1511, 1]), torch.Size([1041, 1511, 1])]\n"
     ]
    }
   ],
   "source": [
    "# Define loaders\n",
    "train_loader = DataLoader(\n",
    "    dataset=augmented_zip,   # using subset\n",
    "    batch_size=4,\n",
    "    shuffle=True,\n",
    "    num_workers=0,\n",
    "    pin_memory=False\n",
    ")\n",
    "\n",
    "for batch_idx, (batch_images, batch_masks) in enumerate(train_loader):\n",
    "    print(f\"Batch {batch_idx}:\")\n",
    "    print(f\"  Image shapes: {[img.shape for img in batch_images]}\")\n",
    "    print(f\"  Mask shapes: {[mask.shape for mask in batch_masks]}\")"
   ]
  },
  {
   "cell_type": "markdown",
   "metadata": {},
   "source": [
    "# RLE Encoding & Decoding"
   ]
  },
  {
   "cell_type": "code",
   "execution_count": 36,
   "metadata": {},
   "outputs": [],
   "source": [
    "def rle_encode(img):\n",
    "    '''\n",
    "    img: numpy array, 1 - mask, 0 - background\n",
    "    Returns run length as string formated\n",
    "    '''\n",
    "    pixels = img.flatten()\n",
    "    pixels = np.concatenate([[0], pixels, [0]])\n",
    "    runs = np.where(pixels[1:] != pixels[:-1])[0] + 1\n",
    "    runs[1::2] -= runs[::2]\n",
    "    rle = ' '.join(str(x) for x in runs)\n",
    "    if rle == '':\n",
    "        rle = '1 0'\n",
    "    return rle\n",
    "\n",
    "def rle_decode(mask_rle, shape):\n",
    "    '''\n",
    "    mask_rle: run-length as string formated (start length)\n",
    "    shape: (height,width) of array to return \n",
    "    Returns numpy array, 1 - mask, 0 - background\n",
    "\n",
    "    '''\n",
    "    s = mask_rle.split()\n",
    "    starts, lengths = [np.asarray(x, dtype=int) for x in (s[0:][::2], s[1:][::2])]\n",
    "    starts -= 1\n",
    "    ends = starts + lengths\n",
    "    img = np.zeros(shape[0]*shape[1], dtype=np.uint8)\n",
    "    for lo, hi in zip(starts, ends):\n",
    "        img[lo:hi] = 1\n",
    "    return img.reshape(shape)"
   ]
  },
  {
   "cell_type": "markdown",
   "metadata": {},
   "source": [
    "# Model"
   ]
  },
  {
   "cell_type": "markdown",
   "metadata": {},
   "source": [
    "## 1.1 Convolution Block"
   ]
  },
  {
   "cell_type": "code",
   "execution_count": null,
   "metadata": {},
   "outputs": [],
   "source": [
    "\"\"\" Convolution Block \"\"\"\n",
    "class ConvBlock(nn.Module):\n",
    "    def __init__(self, in_channel, out_channel):\n",
    "        super().__init__()\n",
    "\n",
    "        self.conv1 = nn.Conv2d(in_channel, out_channel, kernel_size=(3, 3), padding=1)\n",
    "        self.bn1 = nn.BatchNorm2d(out_channel)\n",
    "\n",
    "        self.relu = nn.ReLU()\n",
    "\n",
    "        self.conv2 = nn.Conv2d(out_channel, out_channel, kernal_size=(3, 3), padding=1)\n",
    "        self.bn2 = nn.BatchNorm2d(out_channel)\n",
    "\n",
    "\n",
    "    def forward(self, inputs):\n",
    "        x = self.conv1(inputs)\n",
    "        x = self.bn1(x)\n",
    "        x = self.relu(x)\n",
    "\n",
    "        x = self.conv2(x)\n",
    "        x = self.bn2(x)\n",
    "        x = self.relu(x)\n",
    "\n",
    "        return x"
   ]
  },
  {
   "cell_type": "markdown",
   "metadata": {},
   "source": [
    "## 1.2 Encoder Block"
   ]
  },
  {
   "cell_type": "code",
   "execution_count": null,
   "metadata": {},
   "outputs": [],
   "source": [
    "\"\"\" Encoder Block \"\"\"\n",
    "class EncoderBlock(nn.Module):\n",
    "    def __init__(self, in_channel, out_channel):\n",
    "        super().__init__()\n",
    "\n",
    "        self.conv = ConvBlock(in_channel, out_channel)\n",
    "        self.pool = nn.MaxPool2d(kernal_size=(2, 2))\n",
    "\n",
    "\n",
    "    def forward(self, inputs):\n",
    "        x = self.conv(inputs)\n",
    "        p = self.pool(x)\n",
    "\n",
    "        return x, p"
   ]
  },
  {
   "cell_type": "markdown",
   "metadata": {},
   "source": [
    "## 1.3 Decoder Block"
   ]
  },
  {
   "cell_type": "code",
   "execution_count": 45,
   "metadata": {},
   "outputs": [],
   "source": [
    "\"\"\" Decoder Block \"\"\"\n",
    "class DecoderBlock(nn.Module):\n",
    "    def __init__(self, in_channel, out_channel):\n",
    "        super().__init__()\n",
    "\n",
    "        self.up = nn.ConvTranspose2d(in_channel, out_channel, kernel_size=(2, 2), stride=2, padding=0)\n",
    "        self.conv = ConvBlock(in_channel, out_channel)\n",
    "\n",
    "\n",
    "    def forward(self, inputs, skip):\n",
    "        x = self.up(inputs)\n",
    "        x = torch.cat([x, skip], axis=1)\n",
    "        x = self.conv(x)\n",
    "\n",
    "        return x"
   ]
  },
  {
   "cell_type": "markdown",
   "metadata": {},
   "source": [
    "## 1.4 Attention Block"
   ]
  },
  {
   "cell_type": "code",
   "execution_count": 47,
   "metadata": {},
   "outputs": [],
   "source": [
    "class AttentionBlock(nn.Module):\n",
    "    \"\"\"Attention block with learnable parameters\"\"\"\n",
    "\n",
    "    def __init__(self, F_g, F_l, F_i):\n",
    "        super(AttentionBlock, self).__init__()\n",
    "\n",
    "        self.W_gate = nn.Sequential(\n",
    "            nn.Conv2d(F_g, F_i, kernel_size=1, stride=1, padding=0, bias=True),\n",
    "            nn.BatchNorm2d(F_i)\n",
    "        )\n",
    "\n",
    "        self.W_x = nn.Sequential(\n",
    "            nn.Conv2d(F_l, F_i, kernel_size=1, stride=1, padding=0, bias=True),\n",
    "            nn.BatchNorm2d(F_i)\n",
    "        )\n",
    "\n",
    "        self.psi = nn.Sequential(\n",
    "            nn.Conv2d(F_i, 1, kernel_size=1, stride=1, padding=0, bias=True),\n",
    "            nn.BatchNorm2d(1),\n",
    "            nn.Sigmoid()\n",
    "        )\n",
    "\n",
    "        self.relu = nn.ReLU(inplace=True)\n",
    "\n",
    "    def forward(self, gate, X):\n",
    "        g1 = self.W_gate(gate)\n",
    "        x1 = self.W_x(X)\n",
    "        psi = self.relu(g1 + x1)\n",
    "        psi = self.psi(psi)\n",
    "        out = X * psi\n",
    "        return out\n"
   ]
  },
  {
   "cell_type": "markdown",
   "metadata": {},
   "source": [
    "## 1.5 VGG"
   ]
  },
  {
   "cell_type": "code",
   "execution_count": 48,
   "metadata": {},
   "outputs": [],
   "source": [
    "\n",
    "class VGGBlock(nn.Module):\n",
    "    def __init__(self, in_channels, out_channels, num_conv_layers):\n",
    "        super(VGGBlock, self).__init__()\n",
    "\n",
    "        layers = []\n",
    "        for _ in range(num_conv_layers):\n",
    "            layers.append(nn.Conv2d(in_channels, out_channels, kernel_size=3, padding=1))\n",
    "            layers.append(nn.BatchNorm2d(out_channels))\n",
    "            layers.append(nn.ReLU(inplace=True))\n",
    "            in_channels = out_channels\n",
    "\n",
    "        layers.append(nn.MaxPool2d(kernel_size=2, stride=2))\n",
    "        self.vgg_block = nn.Sequential(*layers)\n",
    "\n",
    "    def forward(self, x):\n",
    "        return self.vgg_block(x)\n",
    "\n",
    "class VGGNet(nn.Module):\n",
    "    def __init__(self, in_channels, num_classes):\n",
    "        super(VGGNet, self).__init__()\n",
    "\n",
    "        self.encoder = nn.Sequential(\n",
    "            VGGBlock(in_channels, 64, 2),\n",
    "            VGGBlock(64, 128, 2),\n",
    "            VGGBlock(128, 256, 3),\n",
    "            VGGBlock(256, 512, 3),\n",
    "            VGGBlock(512, 512, 3)\n",
    "        )\n",
    "\n",
    "        self.decoder = nn.Sequential(\n",
    "            nn.ConvTranspose2d(512, 256, kernel_size=2, stride=2),\n",
    "            VGGBlock(512, 256, 3),\n",
    "            nn.ConvTranspose2d(256, 128, kernel_size=2, stride=2),\n",
    "            VGGBlock(256, 128, 2),\n",
    "            nn.ConvTranspose2d(128, 64, kernel_size=2, stride=2),\n",
    "            VGGBlock(128, 64, 2),\n",
    "            nn.ConvTranspose2d(64, 32, kernel_size=2, stride=2),\n",
    "            VGGBlock(64, 32, 2)\n",
    "        )\n",
    "\n",
    "        self.attention_block = AttentionBlock(512, 256, 256)  # Assuming attention between encoder and decoder\n",
    "\n",
    "        self.final_conv = nn.Conv2d(32, num_classes, kernel_size=1)\n",
    "\n",
    "    def forward(self, x):\n",
    "        encoder_outputs = []\n",
    "\n",
    "        # Encoder\n",
    "        for block in self.encoder:\n",
    "            x = block(x)\n",
    "            encoder_outputs.append(x)\n",
    "\n",
    "        # Attention between encoder and decoder\n",
    "        attention_output = self.attention_block(encoder_outputs[-1], encoder_outputs[-2])\n",
    "\n",
    "        # Decoder\n",
    "        x = self.decoder(attention_output)\n",
    "\n",
    "        # Final convolution\n",
    "        x = self.final_conv(x)\n",
    "\n",
    "        return x\n",
    "\n",
    "# Example usage:\n",
    "in_channels = 3  # Assuming input images have 3 channels (e.g., RGB)\n",
    "num_classes = 1  # Number of segmentation classes\n",
    "model = VGGNet(in_channels, num_classes)"
   ]
  }
 ],
 "metadata": {
  "kernelspec": {
   "display_name": ".venv",
   "language": "python",
   "name": "python3"
  },
  "language_info": {
   "codemirror_mode": {
    "name": "ipython",
    "version": 3
   },
   "file_extension": ".py",
   "mimetype": "text/x-python",
   "name": "python",
   "nbconvert_exporter": "python",
   "pygments_lexer": "ipython3",
   "version": "3.11.7"
  }
 },
 "nbformat": 4,
 "nbformat_minor": 2
}
